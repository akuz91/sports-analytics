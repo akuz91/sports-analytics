{
 "cells": [
  {
   "cell_type": "markdown",
   "metadata": {},
   "source": [
    "# Ratings & Market-Implied Probabilities\n",
    "Amanda Kuznecov (anr431)"
   ]
  },
  {
   "cell_type": "code",
   "execution_count": 1,
   "metadata": {},
   "outputs": [],
   "source": [
    "import pandas as pd\n",
    "import numpy as np\n",
    "import matplotlib.pyplot as plt\n",
    "import math\n",
    "from scipy.stats import poisson\n",
    "import random\n",
    "import scipy.stats as st\n",
    "from scipy.special import logit, expit\n",
    "import statsmodels.formula.api as smf\n",
    "import statsmodels.api as sm\n",
    "from sklearn.metrics import brier_score_loss\n",
    "from tqdm import tqdm\n",
    "pd.set_option('display.max_columns', None)"
   ]
  },
  {
   "cell_type": "code",
   "execution_count": 2,
   "metadata": {},
   "outputs": [],
   "source": [
    "#read in data\n",
    "df = pd.read_csv('soccer18m.csv', index_col = False, \n",
    "                 parse_dates = ['Date'])\n",
    "\n",
    "#sort by date to update ratings chronologically\n",
    "df = df.sort_values('Date')\n",
    "\n",
    "#reset index\n",
    "df = df.reset_index(drop=True)\n",
    "\n",
    "#include Game ID to differentiate games\n",
    "df.loc[:,'Game_ID'] = df.index\n",
    "\n",
    "#rename columns\n",
    "df = df.rename({'HomeTeam': 'Team_Home','AwayTeam': 'Team_Away',\n",
    "                'FTHG': 'FTG_Home','FTAG': 'FTG_Away',\n",
    "                'HTHG': 'HTG_Home','HTAG': 'HTG_Away',\n",
    "               'HS': 'S_Home','AS': 'S_Away', 'HST':'ST_Home',\n",
    "               'AST':'ST_Away','home_xG':'xG_Home',\n",
    "                'away_xG':'xG_Away'}, axis=1)"
   ]
  },
  {
   "cell_type": "markdown",
   "metadata": {},
   "source": [
    "#### Add features from Hwk2 model:\n",
    " - Historical Average Goal Differential\n",
    " - Historical Average Expected Goal Differential\n",
    " - Historical Average Shots on Target Differential\n",
    " - Winning Streak"
   ]
  },
  {
   "cell_type": "code",
   "execution_count": 3,
   "metadata": {},
   "outputs": [],
   "source": [
    "#create y (home team wins)\n",
    "y = np.where(df.FTG_Home > df.FTG_Away,1,0)\n",
    "df.loc[:,'y'] = y"
   ]
  },
  {
   "cell_type": "code",
   "execution_count": 4,
   "metadata": {},
   "outputs": [],
   "source": [
    "#AVG GOAL DIFF and NUM_GAMES (modified to be seasonal num_games)\n",
    "\n",
    "#create copy to analyze goal differentials\n",
    "df_gd = df.copy()\n",
    "\n",
    "#calculate goal differentials for home and away teams of each match\n",
    "df_gd.loc[:,'GD_Home'] = df_gd.loc[:,'FTG_Home']-df_gd.loc[:,'FTG_Away']\n",
    "df_gd.loc[:,'GD_Away'] = df_gd.loc[:,'FTG_Away']-df_gd.loc[:,'FTG_Home']\n",
    "\n",
    "#keep only columns for goal differntial stats\n",
    "df_gd = df_gd[['Date','Game_ID','Y','Team_Home','Team_Away','GD_Home','GD_Away']]\n",
    "\n",
    "#pivot table to get team from each game on separate row, and include all goal differentials in one column\n",
    "df_long = pd.wide_to_long(df_gd, ['Team','GD'], i = ['Game_ID','Y'], \n",
    "                          j = 'isHome', sep = '_', suffix = r'\\w+')\n",
    "\n",
    "#reindex to get rid of multi-index\n",
    "df_long = df_long.reset_index().sort_values(['Date','Game_ID','Y']) \n",
    "\n",
    "#number of games previously played per team\n",
    "df_long.loc[:,'Num_Games'] = df_long.groupby(['Team','Y']).cumcount()\n",
    "\n",
    "#cumulative avg of goal differential per team for all preceding games\n",
    "df_long = df_long.assign(GDcumAvg = df_long.groupby('Team')['GD'].transform(lambda x: x.expanding().mean().shift(1, fill_value = 0)))\n",
    "\n",
    "#get home and away goal diff cumavg for each game\n",
    "df_pivot = df_long.pivot(index='Game_ID', columns = 'isHome',values = ['GDcumAvg','Num_Games'])\n",
    "\n",
    "#rename columns and drop hierarchical level\n",
    "df_pivot.columns = pd.MultiIndex.from_tuples([\n",
    "    ('GDcumAvg', 'GDcumAvg_Away'), ('GDcumAvg', 'GDcumAvg_Home'), ('Num_Games', 'Num_Games_Away'),('Num_Games', 'Num_Games_Home')\n",
    "])\n",
    "\n",
    "#remove top level of hierarchical column naming\n",
    "df_pivot = df_pivot.droplevel(0,axis=1)\n",
    "\n",
    "#change num games type to int\n",
    "df_pivot.loc[:,'Num_Games_Home'] = df_pivot.loc[:,'Num_Games_Home'].astype(int)\n",
    "df_pivot.loc[:,'Num_Games_Away'] = df_pivot.loc[:,'Num_Games_Away'].astype(int)\n",
    "\n",
    "#merge goal diff cum avg table with df containing all info\n",
    "df = df.merge(df_pivot, on = ['Game_ID'])"
   ]
  },
  {
   "cell_type": "code",
   "execution_count": 5,
   "metadata": {},
   "outputs": [],
   "source": [
    "#AVG EXPECTED GOALS DIFF\n",
    "\n",
    "df = df.sort_values(['Date','Game_ID'])\n",
    "\n",
    "#create copy to analyze goal differentials\n",
    "df_xG = df.copy()\n",
    "\n",
    "#calculate difference in expected goals for home and away teams of each match\n",
    "df_xG.loc[:,'xGDiff_Home'] = df_xG.loc[:,'xG_Home']-df_xG.loc[:,'xG_Away']\n",
    "df_xG.loc[:,'xGDiff_Away'] = df_xG.loc[:,'xG_Away']-df_xG.loc[:,'xG_Home']\n",
    "\n",
    "#keep only columns for difference in expected goals\n",
    "df_xG = df_xG[['Date','Game_ID','Team_Home','Team_Away','xGDiff_Home','xGDiff_Away']]\n",
    "\n",
    "#pivot table to get team from each game on separate row, and include all difference in xG in one column\n",
    "df_long = pd.wide_to_long(df_xG, ['Team','xGDiff'], i = ['Game_ID'], \n",
    "                          j = 'isHome', sep = '_', suffix = r'\\w+')\n",
    "\n",
    "#reindex to get rid of multi-index\n",
    "df_long = df_long.reset_index().sort_values(['Date','Game_ID']) \n",
    "\n",
    "#cumulative avg of goal differential per team for all preceding games\n",
    "df_long = df_long.assign(xGDiff_cumAvg = df_long.groupby('Team')['xGDiff'].transform(lambda x: x.expanding().mean().shift(1, fill_value = 0)))\n",
    "\n",
    "#get home and away goal diff cumavg for each game\n",
    "df_pivot = df_long.pivot(index='Game_ID', columns = 'isHome',values = 'xGDiff_cumAvg')\n",
    "\n",
    "df_pivot = df_pivot.rename(columns = {'Home':'xGDiff_cumAvg_Home','Away':'xGDiff_cumAvg_Away'})\n",
    "\n",
    "#merge goal diff cum avg table with df containing all info\n",
    "df = df.merge(df_pivot, on = ['Game_ID'])"
   ]
  },
  {
   "cell_type": "code",
   "execution_count": 6,
   "metadata": {},
   "outputs": [],
   "source": [
    "#SHOTS ON TARGET\n",
    "\n",
    "#create copy to analyze shot on target differentials\n",
    "df_st = df.copy()\n",
    "\n",
    "#calculate goal differentials for home and away teams of each match\n",
    "df_st.loc[:,'STDiff_Home'] = df_st.loc[:,'ST_Home']-df_st.loc[:,'ST_Away']\n",
    "df_st.loc[:,'STDiff_Away'] = df_st.loc[:,'ST_Away']-df_st.loc[:,'ST_Home']\n",
    "\n",
    "#keep only columns for goal differntial stats\n",
    "df_st = df_st[['Date','Game_ID','Team_Home','Team_Away','STDiff_Home','STDiff_Away']]\n",
    "\n",
    "#pivot table to get team from each game on separate row, and include all shot on target differentials in one column\n",
    "df_long = pd.wide_to_long(df_st, ['Team','STDiff'], i = ['Game_ID'], \n",
    "                          j = 'isHome', sep = '_', suffix = r'\\w+')\n",
    "\n",
    "#reindex to get rid of multi-index\n",
    "df_long = df_long.reset_index().sort_values(['Date','Game_ID']) \n",
    "\n",
    "#cumulative avg of shot on target differential per team for all preceding games\n",
    "df_long = df_long.assign(STDiffcumAvg = df_long.groupby('Team')['STDiff'].transform(lambda x: x.expanding().mean().shift(1, fill_value = 0)))\n",
    "\n",
    "\n",
    "#get home and away shots on target diff cumavg for each game\n",
    "df_pivot = df_long.pivot(index='Game_ID', columns = 'isHome',values = 'STDiffcumAvg')\n",
    "\n",
    "df_pivot = df_pivot.rename(columns = {'Home':'STDiff_cumAvg_Home','Away':'STDiff_cumAvg_Away'})\n",
    "\n",
    "#merge shots on target diff cum avg table with df containing all info\n",
    "df = df.merge(df_pivot, on = ['Game_ID'])"
   ]
  },
  {
   "cell_type": "code",
   "execution_count": 7,
   "metadata": {},
   "outputs": [],
   "source": [
    "# WIN / LOSE STREAK\n",
    "\n",
    "def home(v):\n",
    "    if v.FTG_Home > v.FTG_Away:\n",
    "        v = 1\n",
    "    else:\n",
    "        v = 0 \n",
    "    return v\n",
    "\n",
    "df['Win_Home'] = df.apply(home, axis = 1)\n",
    "df['Win_Away'] = 1-df['Win_Home']\n",
    "\n",
    "#create copy of dataframe to analyze team wins\n",
    "df_wins = df.copy()\n",
    "\n",
    "#keep columns to calculate winning percentage\n",
    "df_wins = df_wins[['Date','Game_ID','Y','Team_Home','Team_Away','Num_Games_Home','Num_Games_Away','Win_Home','Win_Away']]\n",
    "\n",
    "#pivot table to get team from each game on separate row, and include all win flags in one column\n",
    "df_long = pd.wide_to_long(df_wins, ['Team','Num_Games','Win'], i = ['Game_ID'], \n",
    "                          j = 'isHome', sep = '_', suffix = r'\\w+')\n",
    "\n",
    "#reindex to get rid of multi-index\n",
    "df_long = df_long.reset_index().sort_values(['Date','Game_ID']) \n",
    "\n",
    "#sort by team first\n",
    "df_long = df_long.sort_values(['Team','Date','Game_ID'])\n",
    "\n",
    "#create streak grouped by wins or losses per team\n",
    "df_long['Streak'] = df_long['Win'].groupby((df_long['Win']!=df_long.groupby(['Team','Y'])['Win'].shift()).cumsum()).cumcount()+1\n",
    "\n",
    "#shift binary wins column down and set win to 0 when team has not played yet\n",
    "df_long['Win_shift'] = df_long['Win'].shift(1,fill_value=0)\n",
    "df_long['Win_shift'] = np.where(df_long.Num_Games == 0, 0, df_long.Win_shift)\n",
    "\n",
    "#shift streaks column down and set streak to 0 when team has not played yet\n",
    "df_long['Streak_shift'] = df_long['Streak'].shift(1,fill_value=0)\n",
    "df_long['Streak_shift'] = np.where(df_long.Num_Games == 0, 0, df_long.Streak_shift)\n",
    "\n",
    "#win streak based on num wins in a row\n",
    "df_long['Win_streak'] = df_long['Win_shift']*df_long['Streak_shift']\n",
    "df_long['Win_streak'] = np.where(df_long.Num_Games == 0, 0, df_long.Win_streak)\n",
    "\n",
    "#create loss shift (opposite of win shift)\n",
    "df_long['Loss_shift'] = 1-df_long['Win_shift']\n",
    "df_long['Loss_shift'] = np.where(df_long.Num_Games == 0, 0, df_long.Loss_shift)\n",
    "\n",
    "#loss streak based on num losses in a row\n",
    "df_long['Loss_streak'] = df_long['Loss_shift']*df_long['Streak_shift']\n",
    "\n",
    "#drop columns not needed\n",
    "df_long = df_long.drop(columns = ['Num_Games','Win','Streak','Win_shift','Streak_shift','Loss_shift'])\n",
    "\n",
    "#get home and away streaks for each game\n",
    "df_pivot = df_long.pivot(index='Game_ID', columns = 'isHome',values = ['Win_streak','Loss_streak'])\n",
    "\n",
    "#rename columns and drop hierarchical level\n",
    "df_pivot.columns = pd.MultiIndex.from_tuples([\n",
    "    ('Win_streak', 'Win_streak_Away'), ('Win_streak', 'Win_streak_Home'), \n",
    "    ('Loss_streak', 'Loss_streak_Away'),('Loss_streak', 'Loss_streak_Home')\n",
    "])\n",
    "\n",
    "#remove top level of hierarchical column naming\n",
    "df_pivot = df_pivot.droplevel(0,axis=1)\n",
    "\n",
    "#merge streaks with df containing all info\n",
    "df = df.merge(df_pivot, on = ['Game_ID'])"
   ]
  },
  {
   "cell_type": "markdown",
   "metadata": {},
   "source": [
    "## Question 1: Elo Ratings\n",
    "### Part a"
   ]
  },
  {
   "cell_type": "code",
   "execution_count": 8,
   "metadata": {},
   "outputs": [],
   "source": [
    "def elo(abs_GD, W, eloF, eloA, isHome, K=40, HFA = 100):\n",
    "    G = 1 if abs_GD <= 1 else(1.5 if abs_GD == 2 else (11+abs_GD)/8)\n",
    "    dr = (eloF - eloA) + (HFA if isHome else -HFA)\n",
    "    We = 1/(1+10**(-dr/400))\n",
    "    return eloF + K*G*(W-We)"
   ]
  },
  {
   "cell_type": "code",
   "execution_count": 9,
   "metadata": {},
   "outputs": [],
   "source": [
    "#create column for absolute goal differential of game\n",
    "df.loc[:,'abs_GD'] = abs(df.FTG_Home - df.FTG_Away)"
   ]
  },
  {
   "cell_type": "code",
   "execution_count": 10,
   "metadata": {},
   "outputs": [],
   "source": [
    "def home_result(df):\n",
    "    '''This function sets points for win, draw, loss outcome of game'''\n",
    "    if df.FTG_Home > df.FTG_Away:\n",
    "        val = 1\n",
    "    elif df.FTG_Home < df.FTG_Away:\n",
    "        val = 0\n",
    "    else:\n",
    "        val = 0.5\n",
    "    return val"
   ]
  },
  {
   "cell_type": "code",
   "execution_count": 11,
   "metadata": {},
   "outputs": [],
   "source": [
    "#create W per team\n",
    "df.loc[:,'W_Home'] = df.apply(home_result, axis = 1)\n",
    "df.loc[:,'W_Away'] = 1-df.W_Home"
   ]
  },
  {
   "cell_type": "code",
   "execution_count": 12,
   "metadata": {},
   "outputs": [],
   "source": [
    "df_sm = df[['Date','Game_ID','Y','Div','Team_Home','Team_Away','W_Home','W_Away','abs_GD','Num_Games_Home','Num_Games_Away']]\n",
    "\n",
    "#pivot table to get team from each game on separate row, and include all ratings in one column\n",
    "df_long = pd.wide_to_long(df_sm, ['Team','W','Num_Games'], i = ['Game_ID','abs_GD','Y','Div'], \n",
    "                          j = 'isHome', sep = '_', suffix = r'\\w+')\n",
    "\n",
    "#reindex to get rid of multi-index\n",
    "df_long = df_long.reset_index().sort_values(['Date','Game_ID','Y','Div']) \n",
    "\n",
    "df_long.loc[:,'elo'] = 1000"
   ]
  },
  {
   "cell_type": "code",
   "execution_count": 13,
   "metadata": {},
   "outputs": [
    {
     "name": "stderr",
     "output_type": "stream",
     "text": [
      "100%|██████████| 9130/9130 [04:27<00:00, 34.10it/s]\n"
     ]
    }
   ],
   "source": [
    "for i in tqdm(range(len(df))):\n",
    "    \n",
    "    Team_Home = df_long.loc[(df_long['Game_ID'] == i) & (df_long.isHome == 'Home')].Team.item()\n",
    "    Team_Away = df_long.loc[(df_long['Game_ID'] == i) & (df_long.isHome == 'Away')].Team.item()\n",
    "    \n",
    "    abs_GD = df_long.loc[(df_long.Game_ID == i)][:1].abs_GD.item()\n",
    "    \n",
    "    W_Home = df_long.loc[(df_long['Game_ID'] == i) & (df_long.Team == Team_Home)].W.item()\n",
    "    W_Away = df_long.loc[(df_long['Game_ID'] == i) & (df_long.Team == Team_Away)].W.item()\n",
    "    \n",
    "    elo_Home_old = df_long.loc[(df_long['Game_ID'] == i) & (df_long.Team == Team_Home)].elo.item()\n",
    "    elo_Away_old = df_long.loc[(df_long['Game_ID'] == i) & (df_long.Team == Team_Away)].elo.item()\n",
    "    \n",
    "    elo_Home = elo(abs_GD, W_Home, elo_Home_old, elo_Away_old,1)\n",
    "    elo_Away = elo(abs_GD, W_Away, elo_Away_old, elo_Home_old,0)\n",
    "    \n",
    "    Home_updates = ((df_long.Team == Team_Home) & (df_long.Game_ID >= i))\n",
    "    df_long.loc[Home_updates, 'elo'] = elo_Home\n",
    "    \n",
    "    Away_updates = ((df_long.Team == Team_Away) & (df_long.Game_ID >= i))\n",
    "    df_long.loc[Away_updates, 'elo'] = elo_Away\n"
   ]
  },
  {
   "cell_type": "code",
   "execution_count": 14,
   "metadata": {},
   "outputs": [],
   "source": [
    "divisions = df_long.loc[:,'Div'].unique()\n",
    "top_teams = pd.DataFrame()\n",
    "\n",
    "#get top of table for each division at end of 2017 season\n",
    "for div in divisions:\n",
    "    \n",
    "    #find last games for each team in div\n",
    "    max_games = df_long.loc[df_long.Div == div]['Num_Games'].max()\n",
    "    \n",
    "    #filter table to include last games for each team from specific div for 2017 season\n",
    "    df_scratch = df_long.loc[(df_long.Div == div) & (df_long.Y == 17) &(df_long.Num_Games == max_games)]\n",
    "    df_scratch = df_scratch.sort_values('elo', ascending = False)\n",
    "    df_scratch = df_scratch[:3]\n",
    "    \n",
    "    top_teams = pd.concat([top_teams,df_scratch])"
   ]
  },
  {
   "cell_type": "code",
   "execution_count": 15,
   "metadata": {},
   "outputs": [
    {
     "data": {
      "text/html": [
       "<div>\n",
       "<style scoped>\n",
       "    .dataframe tbody tr th:only-of-type {\n",
       "        vertical-align: middle;\n",
       "    }\n",
       "\n",
       "    .dataframe tbody tr th {\n",
       "        vertical-align: top;\n",
       "    }\n",
       "\n",
       "    .dataframe thead th {\n",
       "        text-align: right;\n",
       "    }\n",
       "</style>\n",
       "<table border=\"1\" class=\"dataframe\">\n",
       "  <thead>\n",
       "    <tr style=\"text-align: right;\">\n",
       "      <th></th>\n",
       "      <th>Div</th>\n",
       "      <th>Team</th>\n",
       "      <th>elo</th>\n",
       "    </tr>\n",
       "  </thead>\n",
       "  <tbody>\n",
       "    <tr>\n",
       "      <th>14476</th>\n",
       "      <td>Bundesliga</td>\n",
       "      <td>Bayern Munich</td>\n",
       "      <td>1350.621424</td>\n",
       "    </tr>\n",
       "    <tr>\n",
       "      <th>14492</th>\n",
       "      <td>Bundesliga</td>\n",
       "      <td>Schalke 04</td>\n",
       "      <td>1159.177933</td>\n",
       "    </tr>\n",
       "    <tr>\n",
       "      <th>14498</th>\n",
       "      <td>Bundesliga</td>\n",
       "      <td>Hoffenheim</td>\n",
       "      <td>1142.152808</td>\n",
       "    </tr>\n",
       "    <tr>\n",
       "      <th>14527</th>\n",
       "      <td>EPL</td>\n",
       "      <td>Man City</td>\n",
       "      <td>1429.659400</td>\n",
       "    </tr>\n",
       "    <tr>\n",
       "      <th>14530</th>\n",
       "      <td>EPL</td>\n",
       "      <td>Tottenham</td>\n",
       "      <td>1283.911192</td>\n",
       "    </tr>\n",
       "    <tr>\n",
       "      <th>14522</th>\n",
       "      <td>EPL</td>\n",
       "      <td>Man United</td>\n",
       "      <td>1258.732460</td>\n",
       "    </tr>\n",
       "    <tr>\n",
       "      <th>14600</th>\n",
       "      <td>La_Liga</td>\n",
       "      <td>Barcelona</td>\n",
       "      <td>1415.462495</td>\n",
       "    </tr>\n",
       "    <tr>\n",
       "      <th>14557</th>\n",
       "      <td>La_Liga</td>\n",
       "      <td>Real Madrid</td>\n",
       "      <td>1306.832652</td>\n",
       "    </tr>\n",
       "    <tr>\n",
       "      <th>14598</th>\n",
       "      <td>La_Liga</td>\n",
       "      <td>Ath Madrid</td>\n",
       "      <td>1220.575107</td>\n",
       "    </tr>\n",
       "    <tr>\n",
       "      <th>14569</th>\n",
       "      <td>Ligue_1</td>\n",
       "      <td>Paris SG</td>\n",
       "      <td>1352.520538</td>\n",
       "    </tr>\n",
       "    <tr>\n",
       "      <th>14575</th>\n",
       "      <td>Ligue_1</td>\n",
       "      <td>Monaco</td>\n",
       "      <td>1264.722861</td>\n",
       "    </tr>\n",
       "    <tr>\n",
       "      <th>14572</th>\n",
       "      <td>Ligue_1</td>\n",
       "      <td>Lyon</td>\n",
       "      <td>1240.383883</td>\n",
       "    </tr>\n",
       "    <tr>\n",
       "      <th>14560</th>\n",
       "      <td>Serie_A</td>\n",
       "      <td>Juventus</td>\n",
       "      <td>1414.044716</td>\n",
       "    </tr>\n",
       "    <tr>\n",
       "      <th>14586</th>\n",
       "      <td>Serie_A</td>\n",
       "      <td>Napoli</td>\n",
       "      <td>1337.681320</td>\n",
       "    </tr>\n",
       "    <tr>\n",
       "      <th>14591</th>\n",
       "      <td>Serie_A</td>\n",
       "      <td>Roma</td>\n",
       "      <td>1282.244900</td>\n",
       "    </tr>\n",
       "  </tbody>\n",
       "</table>\n",
       "</div>"
      ],
      "text/plain": [
       "              Div           Team          elo\n",
       "14476  Bundesliga  Bayern Munich  1350.621424\n",
       "14492  Bundesliga     Schalke 04  1159.177933\n",
       "14498  Bundesliga     Hoffenheim  1142.152808\n",
       "14527         EPL       Man City  1429.659400\n",
       "14530         EPL      Tottenham  1283.911192\n",
       "14522         EPL     Man United  1258.732460\n",
       "14600     La_Liga      Barcelona  1415.462495\n",
       "14557     La_Liga    Real Madrid  1306.832652\n",
       "14598     La_Liga     Ath Madrid  1220.575107\n",
       "14569     Ligue_1       Paris SG  1352.520538\n",
       "14575     Ligue_1         Monaco  1264.722861\n",
       "14572     Ligue_1           Lyon  1240.383883\n",
       "14560     Serie_A       Juventus  1414.044716\n",
       "14586     Serie_A         Napoli  1337.681320\n",
       "14591     Serie_A           Roma  1282.244900"
      ]
     },
     "execution_count": 15,
     "metadata": {},
     "output_type": "execute_result"
    }
   ],
   "source": [
    "top_teams = top_teams.sort_values(['Div','elo'], ascending = (True, False))\n",
    "top_teams = top_teams[['Div','Team','elo']]\n",
    "top_teams"
   ]
  },
  {
   "cell_type": "markdown",
   "metadata": {},
   "source": [
    "### Part b\n",
    "\n",
    "In some instances, it may be a good idea to temporarily use a higher value of $K$ if we would like to place more weighting on certain games. Some games played throughout the season are of more importance than others; for example, games played at the end of the season will be more important, especially for some teams who are on the cusp of relegation as they rely on winning at the end of the season to stay within the league. Although it is not the case for European football leagues, some American sports participate in playoffs. It could be beneficial to place higher weighting on playoff games or games played at the end of the season to qualify for the playoffs. These games are higher stake than other games during the regular season."
   ]
  },
  {
   "cell_type": "markdown",
   "metadata": {},
   "source": [
    "### Part c"
   ]
  },
  {
   "cell_type": "code",
   "execution_count": 16,
   "metadata": {},
   "outputs": [],
   "source": [
    "#shift all elo down so they become pre-game elo\n",
    "df_elo = df_long[['Game_ID','Team','isHome','elo']].copy()\n",
    "\n",
    "#shift all elo ratings down 1 per team and set initial elo to 1000\n",
    "df_elo.loc[:,'elo'] = df_elo.groupby('Team')['elo'].transform(lambda x: x.shift(1,fill_value = 1000))\n",
    "\n",
    "#get home and away elo for each game\n",
    "df_pivot = df_elo.pivot(index='Game_ID', columns = 'isHome',values = 'elo')\n",
    "df_pivot = df_pivot.rename(columns = {'Home':'elo_Home','Away':'elo_Away'})\n",
    "\n",
    "#merge elo table with df containing all info\n",
    "df = df.merge(df_pivot, on = ['Game_ID'])\n",
    "\n",
    "#create new feature for elo diff\n",
    "df.loc[:,'elo_Diff'] = df.loc[:,'elo_Home']-df.loc[:,'elo_Away']"
   ]
  },
  {
   "cell_type": "code",
   "execution_count": 20,
   "metadata": {},
   "outputs": [],
   "source": [
    "#build logit model (before adding elo)\n",
    "\n",
    "train = df.loc[df.Y < 18]\n",
    "test = df.loc[df.Y == 18]\n",
    "\n",
    "y_train = train.y\n",
    "X_train = train[['GDcumAvg_Home','GDcumAvg_Away','xGDiff_cumAvg_Home','xGDiff_cumAvg_Away',\n",
    "                'STDiff_cumAvg_Home','STDiff_cumAvg_Away','Win_streak_Home','Win_streak_Away']]\n",
    "X_train = sm.add_constant(X_train)\n",
    "\n",
    "y_test = test.y\n",
    "X_test = test[['GDcumAvg_Home','GDcumAvg_Away','xGDiff_cumAvg_Home','xGDiff_cumAvg_Away',\n",
    "              'STDiff_cumAvg_Home','STDiff_cumAvg_Away','Win_streak_Home','Win_streak_Away']]\n",
    "X_test = sm.add_constant(X_test)"
   ]
  },
  {
   "cell_type": "code",
   "execution_count": 21,
   "metadata": {},
   "outputs": [
    {
     "name": "stdout",
     "output_type": "stream",
     "text": [
      "Optimization terminated successfully.\n",
      "         Current function value: 0.623577\n",
      "         Iterations 5\n"
     ]
    },
    {
     "data": {
      "text/html": [
       "<table class=\"simpletable\">\n",
       "<caption>Logit Regression Results</caption>\n",
       "<tr>\n",
       "  <th>Dep. Variable:</th>           <td>y</td>        <th>  No. Observations:  </th>   <td>  7304</td>  \n",
       "</tr>\n",
       "<tr>\n",
       "  <th>Model:</th>                 <td>Logit</td>      <th>  Df Residuals:      </th>   <td>  7295</td>  \n",
       "</tr>\n",
       "<tr>\n",
       "  <th>Method:</th>                 <td>MLE</td>       <th>  Df Model:          </th>   <td>     8</td>  \n",
       "</tr>\n",
       "<tr>\n",
       "  <th>Date:</th>            <td>Tue, 23 Feb 2021</td> <th>  Pseudo R-squ.:     </th>   <td>0.09584</td> \n",
       "</tr>\n",
       "<tr>\n",
       "  <th>Time:</th>                <td>10:40:26</td>     <th>  Log-Likelihood:    </th>  <td> -4554.6</td> \n",
       "</tr>\n",
       "<tr>\n",
       "  <th>converged:</th>             <td>True</td>       <th>  LL-Null:           </th>  <td> -5037.4</td> \n",
       "</tr>\n",
       "<tr>\n",
       "  <th>Covariance Type:</th>     <td>nonrobust</td>    <th>  LLR p-value:       </th> <td>3.959e-203</td>\n",
       "</tr>\n",
       "</table>\n",
       "<table class=\"simpletable\">\n",
       "<tr>\n",
       "           <td></td>             <th>coef</th>     <th>std err</th>      <th>z</th>      <th>P>|z|</th>  <th>[0.025</th>    <th>0.975]</th>  \n",
       "</tr>\n",
       "<tr>\n",
       "  <th>const</th>              <td>   -0.2171</td> <td>    0.034</td> <td>   -6.317</td> <td> 0.000</td> <td>   -0.285</td> <td>   -0.150</td>\n",
       "</tr>\n",
       "<tr>\n",
       "  <th>GDcumAvg_Home</th>      <td>    0.1515</td> <td>    0.093</td> <td>    1.632</td> <td> 0.103</td> <td>   -0.030</td> <td>    0.333</td>\n",
       "</tr>\n",
       "<tr>\n",
       "  <th>GDcumAvg_Away</th>      <td>   -0.2043</td> <td>    0.097</td> <td>   -2.109</td> <td> 0.035</td> <td>   -0.394</td> <td>   -0.014</td>\n",
       "</tr>\n",
       "<tr>\n",
       "  <th>xGDiff_cumAvg_Home</th> <td>    0.5545</td> <td>    0.136</td> <td>    4.069</td> <td> 0.000</td> <td>    0.287</td> <td>    0.822</td>\n",
       "</tr>\n",
       "<tr>\n",
       "  <th>xGDiff_cumAvg_Away</th> <td>   -0.5962</td> <td>    0.142</td> <td>   -4.193</td> <td> 0.000</td> <td>   -0.875</td> <td>   -0.318</td>\n",
       "</tr>\n",
       "<tr>\n",
       "  <th>STDiff_cumAvg_Home</th> <td>    0.0879</td> <td>    0.042</td> <td>    2.068</td> <td> 0.039</td> <td>    0.005</td> <td>    0.171</td>\n",
       "</tr>\n",
       "<tr>\n",
       "  <th>STDiff_cumAvg_Away</th> <td>   -0.0628</td> <td>    0.043</td> <td>   -1.445</td> <td> 0.149</td> <td>   -0.148</td> <td>    0.022</td>\n",
       "</tr>\n",
       "<tr>\n",
       "  <th>Win_streak_Home</th>    <td>    0.0480</td> <td>    0.015</td> <td>    3.171</td> <td> 0.002</td> <td>    0.018</td> <td>    0.078</td>\n",
       "</tr>\n",
       "<tr>\n",
       "  <th>Win_streak_Away</th>    <td>   -0.0139</td> <td>    0.015</td> <td>   -0.916</td> <td> 0.360</td> <td>   -0.044</td> <td>    0.016</td>\n",
       "</tr>\n",
       "</table>"
      ],
      "text/plain": [
       "<class 'statsmodels.iolib.summary.Summary'>\n",
       "\"\"\"\n",
       "                           Logit Regression Results                           \n",
       "==============================================================================\n",
       "Dep. Variable:                      y   No. Observations:                 7304\n",
       "Model:                          Logit   Df Residuals:                     7295\n",
       "Method:                           MLE   Df Model:                            8\n",
       "Date:                Tue, 23 Feb 2021   Pseudo R-squ.:                 0.09584\n",
       "Time:                        10:40:26   Log-Likelihood:                -4554.6\n",
       "converged:                       True   LL-Null:                       -5037.4\n",
       "Covariance Type:            nonrobust   LLR p-value:                3.959e-203\n",
       "======================================================================================\n",
       "                         coef    std err          z      P>|z|      [0.025      0.975]\n",
       "--------------------------------------------------------------------------------------\n",
       "const                 -0.2171      0.034     -6.317      0.000      -0.285      -0.150\n",
       "GDcumAvg_Home          0.1515      0.093      1.632      0.103      -0.030       0.333\n",
       "GDcumAvg_Away         -0.2043      0.097     -2.109      0.035      -0.394      -0.014\n",
       "xGDiff_cumAvg_Home     0.5545      0.136      4.069      0.000       0.287       0.822\n",
       "xGDiff_cumAvg_Away    -0.5962      0.142     -4.193      0.000      -0.875      -0.318\n",
       "STDiff_cumAvg_Home     0.0879      0.042      2.068      0.039       0.005       0.171\n",
       "STDiff_cumAvg_Away    -0.0628      0.043     -1.445      0.149      -0.148       0.022\n",
       "Win_streak_Home        0.0480      0.015      3.171      0.002       0.018       0.078\n",
       "Win_streak_Away       -0.0139      0.015     -0.916      0.360      -0.044       0.016\n",
       "======================================================================================\n",
       "\"\"\""
      ]
     },
     "execution_count": 21,
     "metadata": {},
     "output_type": "execute_result"
    }
   ],
   "source": [
    "result = sm.Logit(y_train, X_train).fit()\n",
    "result.summary()"
   ]
  },
  {
   "cell_type": "code",
   "execution_count": 22,
   "metadata": {},
   "outputs": [
    {
     "data": {
      "text/plain": [
       "0.215536478836543"
      ]
     },
     "execution_count": 22,
     "metadata": {},
     "output_type": "execute_result"
    }
   ],
   "source": [
    "y_pred = result.predict(X_test)\n",
    "brier_score_loss(y_test, y_pred)"
   ]
  },
  {
   "cell_type": "code",
   "execution_count": 26,
   "metadata": {},
   "outputs": [],
   "source": [
    "#build logit model (with new elo feature)\n",
    "train = df.loc[df.Y < 18]\n",
    "test = df.loc[df.Y == 18]\n",
    "\n",
    "y_train = train.y\n",
    "X_train = train[['GDcumAvg_Home','GDcumAvg_Away','xGDiff_cumAvg_Home','xGDiff_cumAvg_Away',\n",
    "                'STDiff_cumAvg_Home','STDiff_cumAvg_Away','Win_streak_Home','Win_streak_Away',\n",
    "                'elo_Diff']]\n",
    "X_train = sm.add_constant(X_train)\n",
    "\n",
    "y_test = test.y\n",
    "X_test = test[['GDcumAvg_Home','GDcumAvg_Away','xGDiff_cumAvg_Home','xGDiff_cumAvg_Away',\n",
    "              'STDiff_cumAvg_Home','STDiff_cumAvg_Away','Win_streak_Home','Win_streak_Away',\n",
    "              'elo_Diff']]\n",
    "X_test = sm.add_constant(X_test)"
   ]
  },
  {
   "cell_type": "code",
   "execution_count": 27,
   "metadata": {},
   "outputs": [
    {
     "name": "stdout",
     "output_type": "stream",
     "text": [
      "Optimization terminated successfully.\n",
      "         Current function value: 0.620714\n",
      "         Iterations 5\n"
     ]
    },
    {
     "data": {
      "text/html": [
       "<table class=\"simpletable\">\n",
       "<caption>Logit Regression Results</caption>\n",
       "<tr>\n",
       "  <th>Dep. Variable:</th>           <td>y</td>        <th>  No. Observations:  </th>   <td>  7304</td>  \n",
       "</tr>\n",
       "<tr>\n",
       "  <th>Model:</th>                 <td>Logit</td>      <th>  Df Residuals:      </th>   <td>  7294</td>  \n",
       "</tr>\n",
       "<tr>\n",
       "  <th>Method:</th>                 <td>MLE</td>       <th>  Df Model:          </th>   <td>     9</td>  \n",
       "</tr>\n",
       "<tr>\n",
       "  <th>Date:</th>            <td>Tue, 23 Feb 2021</td> <th>  Pseudo R-squ.:     </th>   <td>0.09999</td> \n",
       "</tr>\n",
       "<tr>\n",
       "  <th>Time:</th>                <td>10:40:54</td>     <th>  Log-Likelihood:    </th>  <td> -4533.7</td> \n",
       "</tr>\n",
       "<tr>\n",
       "  <th>converged:</th>             <td>True</td>       <th>  LL-Null:           </th>  <td> -5037.4</td> \n",
       "</tr>\n",
       "<tr>\n",
       "  <th>Covariance Type:</th>     <td>nonrobust</td>    <th>  LLR p-value:       </th> <td>4.312e-211</td>\n",
       "</tr>\n",
       "</table>\n",
       "<table class=\"simpletable\">\n",
       "<tr>\n",
       "           <td></td>             <th>coef</th>     <th>std err</th>      <th>z</th>      <th>P>|z|</th>  <th>[0.025</th>    <th>0.975]</th>  \n",
       "</tr>\n",
       "<tr>\n",
       "  <th>const</th>              <td>   -0.2218</td> <td>    0.035</td> <td>   -6.427</td> <td> 0.000</td> <td>   -0.289</td> <td>   -0.154</td>\n",
       "</tr>\n",
       "<tr>\n",
       "  <th>GDcumAvg_Home</th>      <td>   -0.0539</td> <td>    0.096</td> <td>   -0.562</td> <td> 0.574</td> <td>   -0.242</td> <td>    0.134</td>\n",
       "</tr>\n",
       "<tr>\n",
       "  <th>GDcumAvg_Away</th>      <td>    0.0271</td> <td>    0.102</td> <td>    0.266</td> <td> 0.790</td> <td>   -0.172</td> <td>    0.226</td>\n",
       "</tr>\n",
       "<tr>\n",
       "  <th>xGDiff_cumAvg_Home</th> <td>    0.4758</td> <td>    0.134</td> <td>    3.542</td> <td> 0.000</td> <td>    0.213</td> <td>    0.739</td>\n",
       "</tr>\n",
       "<tr>\n",
       "  <th>xGDiff_cumAvg_Away</th> <td>   -0.5391</td> <td>    0.140</td> <td>   -3.845</td> <td> 0.000</td> <td>   -0.814</td> <td>   -0.264</td>\n",
       "</tr>\n",
       "<tr>\n",
       "  <th>STDiff_cumAvg_Home</th> <td>    0.0785</td> <td>    0.042</td> <td>    1.875</td> <td> 0.061</td> <td>   -0.004</td> <td>    0.160</td>\n",
       "</tr>\n",
       "<tr>\n",
       "  <th>STDiff_cumAvg_Away</th> <td>   -0.0566</td> <td>    0.043</td> <td>   -1.320</td> <td> 0.187</td> <td>   -0.141</td> <td>    0.027</td>\n",
       "</tr>\n",
       "<tr>\n",
       "  <th>Win_streak_Home</th>    <td>    0.0273</td> <td>    0.015</td> <td>    1.763</td> <td> 0.078</td> <td>   -0.003</td> <td>    0.058</td>\n",
       "</tr>\n",
       "<tr>\n",
       "  <th>Win_streak_Away</th>    <td>    0.0066</td> <td>    0.015</td> <td>    0.428</td> <td> 0.669</td> <td>   -0.024</td> <td>    0.037</td>\n",
       "</tr>\n",
       "<tr>\n",
       "  <th>elo_Diff</th>           <td>    0.0019</td> <td>    0.000</td> <td>    6.469</td> <td> 0.000</td> <td>    0.001</td> <td>    0.003</td>\n",
       "</tr>\n",
       "</table>"
      ],
      "text/plain": [
       "<class 'statsmodels.iolib.summary.Summary'>\n",
       "\"\"\"\n",
       "                           Logit Regression Results                           \n",
       "==============================================================================\n",
       "Dep. Variable:                      y   No. Observations:                 7304\n",
       "Model:                          Logit   Df Residuals:                     7294\n",
       "Method:                           MLE   Df Model:                            9\n",
       "Date:                Tue, 23 Feb 2021   Pseudo R-squ.:                 0.09999\n",
       "Time:                        10:40:54   Log-Likelihood:                -4533.7\n",
       "converged:                       True   LL-Null:                       -5037.4\n",
       "Covariance Type:            nonrobust   LLR p-value:                4.312e-211\n",
       "======================================================================================\n",
       "                         coef    std err          z      P>|z|      [0.025      0.975]\n",
       "--------------------------------------------------------------------------------------\n",
       "const                 -0.2218      0.035     -6.427      0.000      -0.289      -0.154\n",
       "GDcumAvg_Home         -0.0539      0.096     -0.562      0.574      -0.242       0.134\n",
       "GDcumAvg_Away          0.0271      0.102      0.266      0.790      -0.172       0.226\n",
       "xGDiff_cumAvg_Home     0.4758      0.134      3.542      0.000       0.213       0.739\n",
       "xGDiff_cumAvg_Away    -0.5391      0.140     -3.845      0.000      -0.814      -0.264\n",
       "STDiff_cumAvg_Home     0.0785      0.042      1.875      0.061      -0.004       0.160\n",
       "STDiff_cumAvg_Away    -0.0566      0.043     -1.320      0.187      -0.141       0.027\n",
       "Win_streak_Home        0.0273      0.015      1.763      0.078      -0.003       0.058\n",
       "Win_streak_Away        0.0066      0.015      0.428      0.669      -0.024       0.037\n",
       "elo_Diff               0.0019      0.000      6.469      0.000       0.001       0.003\n",
       "======================================================================================\n",
       "\"\"\""
      ]
     },
     "execution_count": 27,
     "metadata": {},
     "output_type": "execute_result"
    }
   ],
   "source": [
    "result = sm.Logit(y_train, X_train).fit()\n",
    "result.summary()"
   ]
  },
  {
   "cell_type": "code",
   "execution_count": 28,
   "metadata": {},
   "outputs": [
    {
     "data": {
      "text/plain": [
       "0.21415653455273995"
      ]
     },
     "execution_count": 28,
     "metadata": {},
     "output_type": "execute_result"
    }
   ],
   "source": [
    "y_pred = result.predict(X_test)\n",
    "brier_score_loss(y_test, y_pred)"
   ]
  },
  {
   "cell_type": "markdown",
   "metadata": {},
   "source": [
    "## Question 2: Market Implied Probabilities\n",
    "### Part a"
   ]
  },
  {
   "cell_type": "code",
   "execution_count": 29,
   "metadata": {},
   "outputs": [],
   "source": [
    "#limit to all seasons before 2018\n",
    "df_pre18 = df.loc[df.Y<18]"
   ]
  },
  {
   "cell_type": "code",
   "execution_count": 30,
   "metadata": {
    "scrolled": true
   },
   "outputs": [
    {
     "data": {
      "text/html": [
       "<div>\n",
       "<style scoped>\n",
       "    .dataframe tbody tr th:only-of-type {\n",
       "        vertical-align: middle;\n",
       "    }\n",
       "\n",
       "    .dataframe tbody tr th {\n",
       "        vertical-align: top;\n",
       "    }\n",
       "\n",
       "    .dataframe thead th {\n",
       "        text-align: right;\n",
       "    }\n",
       "</style>\n",
       "<table border=\"1\" class=\"dataframe\">\n",
       "  <thead>\n",
       "    <tr style=\"text-align: right;\">\n",
       "      <th></th>\n",
       "      <th>Div</th>\n",
       "      <th>Y</th>\n",
       "      <th>Team_Home</th>\n",
       "      <th>Team_Away</th>\n",
       "      <th>pH</th>\n",
       "      <th>pA</th>\n",
       "      <th>FTG_Home</th>\n",
       "      <th>FTG_Away</th>\n",
       "    </tr>\n",
       "  </thead>\n",
       "  <tbody>\n",
       "    <tr>\n",
       "      <th>3779</th>\n",
       "      <td>La_Liga</td>\n",
       "      <td>16</td>\n",
       "      <td>Barcelona</td>\n",
       "      <td>Alaves</td>\n",
       "      <td>0.891147</td>\n",
       "      <td>0.028831</td>\n",
       "      <td>1</td>\n",
       "      <td>2</td>\n",
       "    </tr>\n",
       "    <tr>\n",
       "      <th>1169</th>\n",
       "      <td>La_Liga</td>\n",
       "      <td>14</td>\n",
       "      <td>Barcelona</td>\n",
       "      <td>Malaga</td>\n",
       "      <td>0.875453</td>\n",
       "      <td>0.040021</td>\n",
       "      <td>0</td>\n",
       "      <td>1</td>\n",
       "    </tr>\n",
       "    <tr>\n",
       "      <th>465</th>\n",
       "      <td>La_Liga</td>\n",
       "      <td>14</td>\n",
       "      <td>Barcelona</td>\n",
       "      <td>Celta</td>\n",
       "      <td>0.861781</td>\n",
       "      <td>0.043664</td>\n",
       "      <td>0</td>\n",
       "      <td>1</td>\n",
       "    </tr>\n",
       "    <tr>\n",
       "      <th>3133</th>\n",
       "      <td>Bundesliga</td>\n",
       "      <td>15</td>\n",
       "      <td>Bayern Munich</td>\n",
       "      <td>Mainz</td>\n",
       "      <td>0.856920</td>\n",
       "      <td>0.044404</td>\n",
       "      <td>1</td>\n",
       "      <td>2</td>\n",
       "    </tr>\n",
       "    <tr>\n",
       "      <th>5714</th>\n",
       "      <td>La_Liga</td>\n",
       "      <td>17</td>\n",
       "      <td>Real Madrid</td>\n",
       "      <td>Betis</td>\n",
       "      <td>0.876513</td>\n",
       "      <td>0.048646</td>\n",
       "      <td>0</td>\n",
       "      <td>1</td>\n",
       "    </tr>\n",
       "    <tr>\n",
       "      <th>3593</th>\n",
       "      <td>La_Liga</td>\n",
       "      <td>15</td>\n",
       "      <td>Levante</td>\n",
       "      <td>Ath Madrid</td>\n",
       "      <td>0.052018</td>\n",
       "      <td>0.798875</td>\n",
       "      <td>2</td>\n",
       "      <td>1</td>\n",
       "    </tr>\n",
       "    <tr>\n",
       "      <th>1381</th>\n",
       "      <td>Bundesliga</td>\n",
       "      <td>14</td>\n",
       "      <td>Bayern Munich</td>\n",
       "      <td>M'gladbach</td>\n",
       "      <td>0.821218</td>\n",
       "      <td>0.054292</td>\n",
       "      <td>0</td>\n",
       "      <td>2</td>\n",
       "    </tr>\n",
       "  </tbody>\n",
       "</table>\n",
       "</div>"
      ],
      "text/plain": [
       "             Div   Y      Team_Home   Team_Away        pH        pA  FTG_Home  \\\n",
       "3779     La_Liga  16      Barcelona      Alaves  0.891147  0.028831         1   \n",
       "1169     La_Liga  14      Barcelona      Malaga  0.875453  0.040021         0   \n",
       "465      La_Liga  14      Barcelona       Celta  0.861781  0.043664         0   \n",
       "3133  Bundesliga  15  Bayern Munich       Mainz  0.856920  0.044404         1   \n",
       "5714     La_Liga  17    Real Madrid       Betis  0.876513  0.048646         0   \n",
       "3593     La_Liga  15        Levante  Ath Madrid  0.052018  0.798875         2   \n",
       "1381  Bundesliga  14  Bayern Munich  M'gladbach  0.821218  0.054292         0   \n",
       "\n",
       "      FTG_Away  \n",
       "3779         2  \n",
       "1169         1  \n",
       "465          1  \n",
       "3133         2  \n",
       "5714         1  \n",
       "3593         1  \n",
       "1381         2  "
      ]
     },
     "execution_count": 30,
     "metadata": {},
     "output_type": "execute_result"
    }
   ],
   "source": [
    "#filter if underdog won\n",
    "df_underdog = df_pre18.loc[((df_pre18.FTG_Home - df_pre18.FTG_Away > 0) & (df_pre18.pH < df_pre18.pA))|((df_pre18.FTG_Away - df_pre18.FTG_Home > 0) & (df_pre18.pA < df_pre18.pH))]\n",
    "\n",
    "#create new column for p of underdog\n",
    "df_underdog = df_underdog.assign(p_underdog=lambda x: x[['pH', 'pA']].min(1))\n",
    "df_underdog = df_underdog.sort_values('p_underdog')\n",
    "df_out = df_underdog[['Div','Y','Team_Home','Team_Away','pH','pA','FTG_Home','FTG_Away']][:7]\n",
    "df_out"
   ]
  },
  {
   "cell_type": "markdown",
   "metadata": {},
   "source": [
    "### Part b"
   ]
  },
  {
   "cell_type": "code",
   "execution_count": 31,
   "metadata": {},
   "outputs": [],
   "source": [
    "#filter for teams having played less than 5 games in the season\n",
    "df_less5 = df_pre18.loc[(df_pre18.Num_Games_Away < 5) & (df_pre18.Num_Games_Home <5)]"
   ]
  },
  {
   "cell_type": "code",
   "execution_count": 32,
   "metadata": {},
   "outputs": [
    {
     "data": {
      "text/plain": [
       "0.21058076780385268"
      ]
     },
     "execution_count": 32,
     "metadata": {},
     "output_type": "execute_result"
    }
   ],
   "source": [
    "#Brier score when each team has fewer than 5 games played that season\n",
    "brier_score_loss(df_less5.y, df_less5.pH)"
   ]
  },
  {
   "cell_type": "code",
   "execution_count": 33,
   "metadata": {
    "scrolled": true
   },
   "outputs": [
    {
     "data": {
      "text/plain": [
       "0.2106061594649744"
      ]
     },
     "execution_count": 33,
     "metadata": {},
     "output_type": "execute_result"
    }
   ],
   "source": [
    "#Brier score on all games\n",
    "brier_score_loss(df_pre18.y, df_pre18.pH)"
   ]
  },
  {
   "cell_type": "markdown",
   "metadata": {},
   "source": [
    "### Part c"
   ]
  },
  {
   "cell_type": "code",
   "execution_count": 34,
   "metadata": {},
   "outputs": [],
   "source": [
    "#rename columns for easy pivot\n",
    "df = df.rename({'pH': 'p_Home','pA': 'p_Away',}, axis=1)\n",
    "\n",
    "#use columns needed for p (prob of team winning)\n",
    "df_p = df[['Date','Game_ID','Y','Team_Home','Team_Away','p_Home','p_Away']]"
   ]
  },
  {
   "cell_type": "code",
   "execution_count": 35,
   "metadata": {},
   "outputs": [],
   "source": [
    "#pivot table to get team from each game on separate row, and include all p in one column\n",
    "df_long = pd.wide_to_long(df_p, ['Team','p'], i = ['Game_ID','Y'], \n",
    "                          j = 'isHome', sep = '_', suffix = r'\\w+')\n",
    "\n",
    "#reindex to get rid of multi-index\n",
    "df_long = df_long.reset_index().sort_values(['Date','Game_ID','Y'])\n",
    "\n",
    "#cumulative avg of prob of win per team for all preceding games of the season\n",
    "df_long = df_long.assign(p_cumAvg = df_long.groupby(['Team','Y'])['p'].transform(lambda x: x.expanding().mean().shift(1, fill_value = 0.5)))\n"
   ]
  },
  {
   "cell_type": "code",
   "execution_count": 37,
   "metadata": {},
   "outputs": [],
   "source": [
    "#get home and away p cumavg for each game\n",
    "df_pivot = df_long.pivot(index='Game_ID', columns = 'isHome',values = 'p_cumAvg')\n",
    "df_pivot = df_pivot.rename(columns = {'Home':'p_cumAvg_Home','Away':'p_cumAvg_Away'})\n",
    "\n",
    "#merge p cum avg table with df containing all info\n",
    "df = df.merge(df_pivot, on = ['Game_ID'])"
   ]
  },
  {
   "cell_type": "code",
   "execution_count": 38,
   "metadata": {},
   "outputs": [],
   "source": [
    "#build logit model (with new p feature)\n",
    "\n",
    "train = df.loc[df.Y < 18]\n",
    "test = df.loc[df.Y == 18]\n",
    "\n",
    "y_train = train.y\n",
    "X_train = train[['GDcumAvg_Home','GDcumAvg_Away','xGDiff_cumAvg_Home','xGDiff_cumAvg_Away',\n",
    "                'STDiff_cumAvg_Home','STDiff_cumAvg_Away','Win_streak_Home','Win_streak_Away',\n",
    "                'p_cumAvg_Home','p_cumAvg_Away']]\n",
    "X_train = sm.add_constant(X_train)\n",
    "\n",
    "y_test = test.y\n",
    "X_test = test[['GDcumAvg_Home','GDcumAvg_Away','xGDiff_cumAvg_Home','xGDiff_cumAvg_Away',\n",
    "              'STDiff_cumAvg_Home','STDiff_cumAvg_Away','Win_streak_Home','Win_streak_Away',\n",
    "              'p_cumAvg_Home','p_cumAvg_Away']]\n",
    "X_test = sm.add_constant(X_test)"
   ]
  },
  {
   "cell_type": "code",
   "execution_count": 39,
   "metadata": {},
   "outputs": [
    {
     "name": "stdout",
     "output_type": "stream",
     "text": [
      "Optimization terminated successfully.\n",
      "         Current function value: 0.618720\n",
      "         Iterations 5\n"
     ]
    },
    {
     "data": {
      "text/html": [
       "<table class=\"simpletable\">\n",
       "<caption>Logit Regression Results</caption>\n",
       "<tr>\n",
       "  <th>Dep. Variable:</th>           <td>y</td>        <th>  No. Observations:  </th>   <td>  7304</td>  \n",
       "</tr>\n",
       "<tr>\n",
       "  <th>Model:</th>                 <td>Logit</td>      <th>  Df Residuals:      </th>   <td>  7293</td>  \n",
       "</tr>\n",
       "<tr>\n",
       "  <th>Method:</th>                 <td>MLE</td>       <th>  Df Model:          </th>   <td>    10</td>  \n",
       "</tr>\n",
       "<tr>\n",
       "  <th>Date:</th>            <td>Tue, 23 Feb 2021</td> <th>  Pseudo R-squ.:     </th>   <td>0.1029</td>  \n",
       "</tr>\n",
       "<tr>\n",
       "  <th>Time:</th>                <td>10:41:32</td>     <th>  Log-Likelihood:    </th>  <td> -4519.1</td> \n",
       "</tr>\n",
       "<tr>\n",
       "  <th>converged:</th>             <td>True</td>       <th>  LL-Null:           </th>  <td> -5037.4</td> \n",
       "</tr>\n",
       "<tr>\n",
       "  <th>Covariance Type:</th>     <td>nonrobust</td>    <th>  LLR p-value:       </th> <td>2.488e-216</td>\n",
       "</tr>\n",
       "</table>\n",
       "<table class=\"simpletable\">\n",
       "<tr>\n",
       "           <td></td>             <th>coef</th>     <th>std err</th>      <th>z</th>      <th>P>|z|</th>  <th>[0.025</th>    <th>0.975]</th>  \n",
       "</tr>\n",
       "<tr>\n",
       "  <th>const</th>              <td>   -0.2900</td> <td>    0.211</td> <td>   -1.378</td> <td> 0.168</td> <td>   -0.703</td> <td>    0.123</td>\n",
       "</tr>\n",
       "<tr>\n",
       "  <th>GDcumAvg_Home</th>      <td>    0.0499</td> <td>    0.094</td> <td>    0.529</td> <td> 0.597</td> <td>   -0.135</td> <td>    0.235</td>\n",
       "</tr>\n",
       "<tr>\n",
       "  <th>GDcumAvg_Away</th>      <td>   -0.0888</td> <td>    0.099</td> <td>   -0.900</td> <td> 0.368</td> <td>   -0.282</td> <td>    0.105</td>\n",
       "</tr>\n",
       "<tr>\n",
       "  <th>xGDiff_cumAvg_Home</th> <td>    0.2952</td> <td>    0.142</td> <td>    2.083</td> <td> 0.037</td> <td>    0.017</td> <td>    0.573</td>\n",
       "</tr>\n",
       "<tr>\n",
       "  <th>xGDiff_cumAvg_Away</th> <td>   -0.3751</td> <td>    0.146</td> <td>   -2.562</td> <td> 0.010</td> <td>   -0.662</td> <td>   -0.088</td>\n",
       "</tr>\n",
       "<tr>\n",
       "  <th>STDiff_cumAvg_Home</th> <td>    0.0157</td> <td>    0.044</td> <td>    0.356</td> <td> 0.722</td> <td>   -0.071</td> <td>    0.102</td>\n",
       "</tr>\n",
       "<tr>\n",
       "  <th>STDiff_cumAvg_Away</th> <td>   -0.0016</td> <td>    0.045</td> <td>   -0.037</td> <td> 0.971</td> <td>   -0.090</td> <td>    0.086</td>\n",
       "</tr>\n",
       "<tr>\n",
       "  <th>Win_streak_Home</th>    <td>    0.0405</td> <td>    0.015</td> <td>    2.642</td> <td> 0.008</td> <td>    0.010</td> <td>    0.070</td>\n",
       "</tr>\n",
       "<tr>\n",
       "  <th>Win_streak_Away</th>    <td>   -0.0089</td> <td>    0.015</td> <td>   -0.580</td> <td> 0.562</td> <td>   -0.039</td> <td>    0.021</td>\n",
       "</tr>\n",
       "<tr>\n",
       "  <th>p_cumAvg_Home</th>      <td>    2.6702</td> <td>    0.413</td> <td>    6.458</td> <td> 0.000</td> <td>    1.860</td> <td>    3.481</td>\n",
       "</tr>\n",
       "<tr>\n",
       "  <th>p_cumAvg_Away</th>      <td>   -2.4236</td> <td>    0.412</td> <td>   -5.885</td> <td> 0.000</td> <td>   -3.231</td> <td>   -1.616</td>\n",
       "</tr>\n",
       "</table>"
      ],
      "text/plain": [
       "<class 'statsmodels.iolib.summary.Summary'>\n",
       "\"\"\"\n",
       "                           Logit Regression Results                           \n",
       "==============================================================================\n",
       "Dep. Variable:                      y   No. Observations:                 7304\n",
       "Model:                          Logit   Df Residuals:                     7293\n",
       "Method:                           MLE   Df Model:                           10\n",
       "Date:                Tue, 23 Feb 2021   Pseudo R-squ.:                  0.1029\n",
       "Time:                        10:41:32   Log-Likelihood:                -4519.1\n",
       "converged:                       True   LL-Null:                       -5037.4\n",
       "Covariance Type:            nonrobust   LLR p-value:                2.488e-216\n",
       "======================================================================================\n",
       "                         coef    std err          z      P>|z|      [0.025      0.975]\n",
       "--------------------------------------------------------------------------------------\n",
       "const                 -0.2900      0.211     -1.378      0.168      -0.703       0.123\n",
       "GDcumAvg_Home          0.0499      0.094      0.529      0.597      -0.135       0.235\n",
       "GDcumAvg_Away         -0.0888      0.099     -0.900      0.368      -0.282       0.105\n",
       "xGDiff_cumAvg_Home     0.2952      0.142      2.083      0.037       0.017       0.573\n",
       "xGDiff_cumAvg_Away    -0.3751      0.146     -2.562      0.010      -0.662      -0.088\n",
       "STDiff_cumAvg_Home     0.0157      0.044      0.356      0.722      -0.071       0.102\n",
       "STDiff_cumAvg_Away    -0.0016      0.045     -0.037      0.971      -0.090       0.086\n",
       "Win_streak_Home        0.0405      0.015      2.642      0.008       0.010       0.070\n",
       "Win_streak_Away       -0.0089      0.015     -0.580      0.562      -0.039       0.021\n",
       "p_cumAvg_Home          2.6702      0.413      6.458      0.000       1.860       3.481\n",
       "p_cumAvg_Away         -2.4236      0.412     -5.885      0.000      -3.231      -1.616\n",
       "======================================================================================\n",
       "\"\"\""
      ]
     },
     "execution_count": 39,
     "metadata": {},
     "output_type": "execute_result"
    }
   ],
   "source": [
    "result = sm.Logit(y_train, X_train).fit()\n",
    "result.summary()"
   ]
  },
  {
   "cell_type": "code",
   "execution_count": 40,
   "metadata": {},
   "outputs": [
    {
     "data": {
      "text/plain": [
       "0.214648014979171"
      ]
     },
     "execution_count": 40,
     "metadata": {},
     "output_type": "execute_result"
    }
   ],
   "source": [
    "y_pred = result.predict(X_test)\n",
    "brier_score_loss(y_test, y_pred)"
   ]
  }
 ],
 "metadata": {
  "kernelspec": {
   "display_name": "Python 3",
   "language": "python",
   "name": "python3"
  },
  "language_info": {
   "codemirror_mode": {
    "name": "ipython",
    "version": 3
   },
   "file_extension": ".py",
   "mimetype": "text/x-python",
   "name": "python",
   "nbconvert_exporter": "python",
   "pygments_lexer": "ipython3",
   "version": "3.7.3"
  }
 },
 "nbformat": 4,
 "nbformat_minor": 4
}
