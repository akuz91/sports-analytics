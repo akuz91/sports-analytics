{
 "cells": [
  {
   "cell_type": "markdown",
   "metadata": {},
   "source": [
    "# Homework 2: Soccer Mini-Project\n",
    "Amanda Kuznecov (anr431)"
   ]
  },
  {
   "cell_type": "code",
   "execution_count": 1,
   "metadata": {},
   "outputs": [],
   "source": [
    "import pandas as pd\n",
    "import numpy as np\n",
    "import matplotlib.pyplot as plt\n",
    "import math\n",
    "from scipy.stats import poisson\n",
    "import random\n",
    "import scipy.stats as st\n",
    "from scipy.special import logit, expit\n",
    "import statsmodels.formula.api as smf\n",
    "import statsmodels.api as sm\n",
    "from sklearn.metrics import brier_score_loss"
   ]
  },
  {
   "cell_type": "code",
   "execution_count": 2,
   "metadata": {},
   "outputs": [],
   "source": [
    "#read in data\n",
    "df = pd.read_csv('soccer18.csv', index_col = False, \n",
    "                 parse_dates = ['Date'])\n",
    "\n",
    "#include Game ID to differentiate games\n",
    "df.loc[:,'Game_ID'] = df.index\n",
    "\n",
    "#rename columns\n",
    "df = df.rename({'HomeTeam': 'Team_Home','AwayTeam': 'Team_Away',\n",
    "                'FTHG': 'FTG_Home','FTAG': 'FTG_Away',\n",
    "                'HTHG': 'HTG_Home','HTAG': 'HTG_Away',\n",
    "               'HS': 'S_Home','AS': 'S_Away', 'HST':'ST_Home',\n",
    "               'AST':'ST_Away','home_xG':'xG_Home',\n",
    "                'away_xG':'xG_Away'}, axis=1)\n",
    "\n",
    "#sort by date and game ID\n",
    "df = df.sort_values(['Date','Game_ID'])"
   ]
  },
  {
   "cell_type": "markdown",
   "metadata": {},
   "source": [
    "## Question 1: Average Goal Differentials\n",
    "\n",
    "### Part 1a"
   ]
  },
  {
   "cell_type": "code",
   "execution_count": 3,
   "metadata": {},
   "outputs": [],
   "source": [
    "#create copy to analyze goal differentials\n",
    "df_gd = df.copy()\n",
    "\n",
    "#calculate goal differentials for home and away teams of each match\n",
    "df_gd.loc[:,'GD_Home'] = df_gd.loc[:,'FTG_Home']-df_gd.loc[:,'FTG_Away']\n",
    "df_gd.loc[:,'GD_Away'] = df_gd.loc[:,'FTG_Away']-df_gd.loc[:,'FTG_Home']\n",
    "\n",
    "#keep only columns for goal differntial stats\n",
    "df_gd = df_gd[['Date','Game_ID','Team_Home','Team_Away','GD_Home','GD_Away']]"
   ]
  },
  {
   "cell_type": "code",
   "execution_count": 4,
   "metadata": {},
   "outputs": [],
   "source": [
    "#pivot table to get team from each game on separate row, and include all goal differentials in one column\n",
    "df_long = pd.wide_to_long(df_gd, ['Team','GD'], i = ['Game_ID'], \n",
    "                          j = 'isHome', sep = '_', suffix = r'\\w+')\n",
    "\n",
    "#reindex to get rid of multi-index\n",
    "df_long = df_long.reset_index().sort_values(['Date','Game_ID']) \n",
    "\n",
    "#cumulative avg of goal differential per team for all preceding games\n",
    "df_long = df_long.assign(GDcumAvg = df_long.groupby('Team')['GD'].transform(lambda x: x.expanding().mean().shift(1, fill_value = 0)))\n",
    "\n",
    "#number of games previously played per team\n",
    "df_long.loc[:,'Num_Games'] = df_long.groupby('Team').cumcount()"
   ]
  },
  {
   "cell_type": "code",
   "execution_count": 5,
   "metadata": {},
   "outputs": [],
   "source": [
    "#get home and away goal diff cumavg for each game\n",
    "df_pivot = df_long.pivot(index='Game_ID', columns = 'isHome',values = ['GDcumAvg','Num_Games'])\n",
    "\n",
    "#rename columns and drop hierarchical level\n",
    "df_pivot.columns = pd.MultiIndex.from_tuples([\n",
    "    ('GDcumAvg', 'GDcumAvg_Away'), ('GDcumAvg', 'GDcumAvg_Home'), ('Num_Games', 'Num_Games_Away'),('Num_Games', 'Num_Games_Home')\n",
    "])\n",
    "\n",
    "#remove top level of hierarchical column naming\n",
    "df_pivot = df_pivot.droplevel(0,axis=1)\n",
    "\n",
    "#change num games type to int\n",
    "df_pivot.loc[:,'Num_Games_Home'] = df_pivot.loc[:,'Num_Games_Home'].astype(int)\n",
    "df_pivot.loc[:,'Num_Games_Away'] = df_pivot.loc[:,'Num_Games_Away'].astype(int)"
   ]
  },
  {
   "cell_type": "code",
   "execution_count": 6,
   "metadata": {},
   "outputs": [],
   "source": [
    "#merge goal diff cum avg table with df containing all info\n",
    "df = df.merge(df_pivot, on = ['Game_ID'])"
   ]
  },
  {
   "cell_type": "code",
   "execution_count": 7,
   "metadata": {},
   "outputs": [],
   "source": [
    "#absolute disparity as abs diff between goal diff cumavg for each team\n",
    "df.loc[:,'Abs_Disparity'] = abs(df.loc[:,'GDcumAvg_Away']-df.loc[:,'GDcumAvg_Home'])"
   ]
  },
  {
   "cell_type": "markdown",
   "metadata": {},
   "source": [
    "### Part 1a.i"
   ]
  },
  {
   "cell_type": "code",
   "execution_count": 8,
   "metadata": {
    "scrolled": true
   },
   "outputs": [
    {
     "data": {
      "text/html": [
       "<div>\n",
       "<style scoped>\n",
       "    .dataframe tbody tr th:only-of-type {\n",
       "        vertical-align: middle;\n",
       "    }\n",
       "\n",
       "    .dataframe tbody tr th {\n",
       "        vertical-align: top;\n",
       "    }\n",
       "\n",
       "    .dataframe thead th {\n",
       "        text-align: right;\n",
       "    }\n",
       "</style>\n",
       "<table border=\"1\" class=\"dataframe\">\n",
       "  <thead>\n",
       "    <tr style=\"text-align: right;\">\n",
       "      <th></th>\n",
       "      <th>Div</th>\n",
       "      <th>Y</th>\n",
       "      <th>Team_Home</th>\n",
       "      <th>Team_Away</th>\n",
       "      <th>GDcumAvg_Home</th>\n",
       "      <th>GDcumAvg_Away</th>\n",
       "      <th>Abs_Disparity</th>\n",
       "      <th>Num_Games_Home</th>\n",
       "      <th>Num_Games_Away</th>\n",
       "    </tr>\n",
       "  </thead>\n",
       "  <tbody>\n",
       "    <tr>\n",
       "      <td>212</td>\n",
       "      <td>Serie_A</td>\n",
       "      <td>14</td>\n",
       "      <td>Sassuolo</td>\n",
       "      <td>Sampdoria</td>\n",
       "      <td>-3.5</td>\n",
       "      <td>1.000000</td>\n",
       "      <td>4.500000</td>\n",
       "      <td>2</td>\n",
       "      <td>2</td>\n",
       "    </tr>\n",
       "    <tr>\n",
       "      <td>31</td>\n",
       "      <td>Ligue_1</td>\n",
       "      <td>14</td>\n",
       "      <td>Evian Thonon Gaillard</td>\n",
       "      <td>Paris SG</td>\n",
       "      <td>-3.5</td>\n",
       "      <td>1.000000</td>\n",
       "      <td>4.500000</td>\n",
       "      <td>2</td>\n",
       "      <td>2</td>\n",
       "    </tr>\n",
       "    <tr>\n",
       "      <td>5507</td>\n",
       "      <td>Ligue_1</td>\n",
       "      <td>17</td>\n",
       "      <td>Strasbourg</td>\n",
       "      <td>Lille</td>\n",
       "      <td>-4.0</td>\n",
       "      <td>0.078261</td>\n",
       "      <td>4.078261</td>\n",
       "      <td>1</td>\n",
       "      <td>115</td>\n",
       "    </tr>\n",
       "    <tr>\n",
       "      <td>145</td>\n",
       "      <td>Serie_A</td>\n",
       "      <td>14</td>\n",
       "      <td>Empoli</td>\n",
       "      <td>Roma</td>\n",
       "      <td>-2.0</td>\n",
       "      <td>2.000000</td>\n",
       "      <td>4.000000</td>\n",
       "      <td>1</td>\n",
       "      <td>1</td>\n",
       "    </tr>\n",
       "    <tr>\n",
       "      <td>101</td>\n",
       "      <td>La_Liga</td>\n",
       "      <td>14</td>\n",
       "      <td>Elche</td>\n",
       "      <td>Granada</td>\n",
       "      <td>-3.0</td>\n",
       "      <td>1.000000</td>\n",
       "      <td>4.000000</td>\n",
       "      <td>1</td>\n",
       "      <td>1</td>\n",
       "    </tr>\n",
       "    <tr>\n",
       "      <td>210</td>\n",
       "      <td>Serie_A</td>\n",
       "      <td>14</td>\n",
       "      <td>Palermo</td>\n",
       "      <td>Inter</td>\n",
       "      <td>-0.5</td>\n",
       "      <td>3.500000</td>\n",
       "      <td>4.000000</td>\n",
       "      <td>2</td>\n",
       "      <td>2</td>\n",
       "    </tr>\n",
       "    <tr>\n",
       "      <td>82</td>\n",
       "      <td>La_Liga</td>\n",
       "      <td>14</td>\n",
       "      <td>Cordoba</td>\n",
       "      <td>Celta</td>\n",
       "      <td>-2.0</td>\n",
       "      <td>2.000000</td>\n",
       "      <td>4.000000</td>\n",
       "      <td>1</td>\n",
       "      <td>1</td>\n",
       "    </tr>\n",
       "  </tbody>\n",
       "</table>\n",
       "</div>"
      ],
      "text/plain": [
       "          Div   Y              Team_Home  Team_Away  GDcumAvg_Home  \\\n",
       "212   Serie_A  14               Sassuolo  Sampdoria           -3.5   \n",
       "31    Ligue_1  14  Evian Thonon Gaillard   Paris SG           -3.5   \n",
       "5507  Ligue_1  17             Strasbourg      Lille           -4.0   \n",
       "145   Serie_A  14                 Empoli       Roma           -2.0   \n",
       "101   La_Liga  14                  Elche    Granada           -3.0   \n",
       "210   Serie_A  14                Palermo      Inter           -0.5   \n",
       "82    La_Liga  14                Cordoba      Celta           -2.0   \n",
       "\n",
       "      GDcumAvg_Away  Abs_Disparity  Num_Games_Home  Num_Games_Away  \n",
       "212        1.000000       4.500000               2               2  \n",
       "31         1.000000       4.500000               2               2  \n",
       "5507       0.078261       4.078261               1             115  \n",
       "145        2.000000       4.000000               1               1  \n",
       "101        1.000000       4.000000               1               1  \n",
       "210        3.500000       4.000000               2               2  \n",
       "82         2.000000       4.000000               1               1  "
      ]
     },
     "execution_count": 8,
     "metadata": {},
     "output_type": "execute_result"
    }
   ],
   "source": [
    "#filter for all games pre 2018\n",
    "df_pre18 = df.loc[df.Y<18]\n",
    "df_out = df_pre18[['Div','Y','Team_Home','Team_Away','GDcumAvg_Home','GDcumAvg_Away','Abs_Disparity','Num_Games_Home','Num_Games_Away']]\n",
    "df_out_i = df_out.sort_values('Abs_Disparity', ascending = False)[:7]\n",
    "df_out_i"
   ]
  },
  {
   "cell_type": "markdown",
   "metadata": {},
   "source": [
    "### Part 1a.ii"
   ]
  },
  {
   "cell_type": "code",
   "execution_count": 9,
   "metadata": {},
   "outputs": [
    {
     "data": {
      "text/html": [
       "<div>\n",
       "<style scoped>\n",
       "    .dataframe tbody tr th:only-of-type {\n",
       "        vertical-align: middle;\n",
       "    }\n",
       "\n",
       "    .dataframe tbody tr th {\n",
       "        vertical-align: top;\n",
       "    }\n",
       "\n",
       "    .dataframe thead th {\n",
       "        text-align: right;\n",
       "    }\n",
       "</style>\n",
       "<table border=\"1\" class=\"dataframe\">\n",
       "  <thead>\n",
       "    <tr style=\"text-align: right;\">\n",
       "      <th></th>\n",
       "      <th>Div</th>\n",
       "      <th>Y</th>\n",
       "      <th>Team_Home</th>\n",
       "      <th>Team_Away</th>\n",
       "      <th>GDcumAvg_Home</th>\n",
       "      <th>GDcumAvg_Away</th>\n",
       "      <th>Abs_Disparity</th>\n",
       "      <th>Num_Games_Home</th>\n",
       "      <th>Num_Games_Away</th>\n",
       "    </tr>\n",
       "  </thead>\n",
       "  <tbody>\n",
       "    <tr>\n",
       "      <td>5055</td>\n",
       "      <td>La_Liga</td>\n",
       "      <td>16</td>\n",
       "      <td>Granada</td>\n",
       "      <td>Barcelona</td>\n",
       "      <td>-0.875000</td>\n",
       "      <td>2.192308</td>\n",
       "      <td>3.067308</td>\n",
       "      <td>104</td>\n",
       "      <td>104</td>\n",
       "    </tr>\n",
       "    <tr>\n",
       "      <td>7265</td>\n",
       "      <td>La_Liga</td>\n",
       "      <td>17</td>\n",
       "      <td>Levante</td>\n",
       "      <td>Barcelona</td>\n",
       "      <td>-0.705357</td>\n",
       "      <td>2.140000</td>\n",
       "      <td>2.845357</td>\n",
       "      <td>112</td>\n",
       "      <td>150</td>\n",
       "    </tr>\n",
       "    <tr>\n",
       "      <td>5325</td>\n",
       "      <td>La_Liga</td>\n",
       "      <td>16</td>\n",
       "      <td>Granada</td>\n",
       "      <td>Real Madrid</td>\n",
       "      <td>-0.936937</td>\n",
       "      <td>1.900000</td>\n",
       "      <td>2.836937</td>\n",
       "      <td>111</td>\n",
       "      <td>110</td>\n",
       "    </tr>\n",
       "    <tr>\n",
       "      <td>6762</td>\n",
       "      <td>La_Liga</td>\n",
       "      <td>17</td>\n",
       "      <td>Las Palmas</td>\n",
       "      <td>Barcelona</td>\n",
       "      <td>-0.623762</td>\n",
       "      <td>2.208633</td>\n",
       "      <td>2.832395</td>\n",
       "      <td>101</td>\n",
       "      <td>139</td>\n",
       "    </tr>\n",
       "    <tr>\n",
       "      <td>7151</td>\n",
       "      <td>La_Liga</td>\n",
       "      <td>17</td>\n",
       "      <td>La Coruna</td>\n",
       "      <td>Barcelona</td>\n",
       "      <td>-0.621622</td>\n",
       "      <td>2.142857</td>\n",
       "      <td>2.764479</td>\n",
       "      <td>148</td>\n",
       "      <td>147</td>\n",
       "    </tr>\n",
       "    <tr>\n",
       "      <td>4962</td>\n",
       "      <td>La_Liga</td>\n",
       "      <td>16</td>\n",
       "      <td>La Coruna</td>\n",
       "      <td>Barcelona</td>\n",
       "      <td>-0.519608</td>\n",
       "      <td>2.225490</td>\n",
       "      <td>2.745098</td>\n",
       "      <td>102</td>\n",
       "      <td>102</td>\n",
       "    </tr>\n",
       "    <tr>\n",
       "      <td>6300</td>\n",
       "      <td>La_Liga</td>\n",
       "      <td>17</td>\n",
       "      <td>Barcelona</td>\n",
       "      <td>La Coruna</td>\n",
       "      <td>2.186047</td>\n",
       "      <td>-0.527132</td>\n",
       "      <td>2.713178</td>\n",
       "      <td>129</td>\n",
       "      <td>129</td>\n",
       "    </tr>\n",
       "  </tbody>\n",
       "</table>\n",
       "</div>"
      ],
      "text/plain": [
       "          Div   Y   Team_Home    Team_Away  GDcumAvg_Home  GDcumAvg_Away  \\\n",
       "5055  La_Liga  16     Granada    Barcelona      -0.875000       2.192308   \n",
       "7265  La_Liga  17     Levante    Barcelona      -0.705357       2.140000   \n",
       "5325  La_Liga  16     Granada  Real Madrid      -0.936937       1.900000   \n",
       "6762  La_Liga  17  Las Palmas    Barcelona      -0.623762       2.208633   \n",
       "7151  La_Liga  17   La Coruna    Barcelona      -0.621622       2.142857   \n",
       "4962  La_Liga  16   La Coruna    Barcelona      -0.519608       2.225490   \n",
       "6300  La_Liga  17   Barcelona    La Coruna       2.186047      -0.527132   \n",
       "\n",
       "      Abs_Disparity  Num_Games_Home  Num_Games_Away  \n",
       "5055       3.067308             104             104  \n",
       "7265       2.845357             112             150  \n",
       "5325       2.836937             111             110  \n",
       "6762       2.832395             101             139  \n",
       "7151       2.764479             148             147  \n",
       "4962       2.745098             102             102  \n",
       "6300       2.713178             129             129  "
      ]
     },
     "execution_count": 9,
     "metadata": {},
     "output_type": "execute_result"
    }
   ],
   "source": [
    "#filter for all games where both teams have already played 100 games each\n",
    "df_out = df_out.loc[(df_pre18.Num_Games_Home > 100) & (df_pre18.Num_Games_Away>100)]\n",
    "df_out_ii = df_out.sort_values('Abs_Disparity', ascending = False)[:7]\n",
    "df_out_ii"
   ]
  },
  {
   "cell_type": "markdown",
   "metadata": {},
   "source": [
    "### Part 1a.iii\n",
    "\n",
    "It is noticeable that all teams (except Lille) who played in the 7 games from Part 1a.i had only previously played 1 or 2 games. Therefore it makes sense as to why the absolute disparities are so large, because if a team played extremely poorly or extremely well in their first couple games, their average goal differential would be \"artificially\" high or low since it is only based on a single game. In the case of the 2017 match involving Lille vs. Strasbourg, Lille has already played 115 games in Ligue 1, however, this match happens to be Strasbourg's second match in this division. It seems they had been promoted up from Ligue 2 at the end of the 2016 season. Although Strasbourg has historical information about goal differentials, it is not stored in this dataset since it is missing Ligue 2 data. Since Strasbourg lost by 4 in their first match, their average goal differential is artificially low and biased based on their previous game. Therefore, the comparison between the average goal differential for Lille and Strasbourg is very large."
   ]
  },
  {
   "cell_type": "markdown",
   "metadata": {},
   "source": [
    "### Part 1b"
   ]
  },
  {
   "cell_type": "code",
   "execution_count": 10,
   "metadata": {},
   "outputs": [],
   "source": [
    "#build logit model using only intercept term\n",
    "\n",
    "#train set\n",
    "y_train = np.where(df_pre18.FTG_Home > df_pre18.FTG_Away, 1, 0)\n",
    "X_train = np.ones(len(y_train))\n",
    "\n",
    "#test set\n",
    "test = df.loc[df.Y == 18]\n",
    "y_test = np.where(test.FTG_Home > test.FTG_Away,1,0)\n",
    "X_test = np.ones(len(y_test))"
   ]
  },
  {
   "cell_type": "code",
   "execution_count": 11,
   "metadata": {},
   "outputs": [
    {
     "name": "stdout",
     "output_type": "stream",
     "text": [
      "Optimization terminated successfully.\n",
      "         Current function value: 0.689679\n",
      "         Iterations 3\n"
     ]
    }
   ],
   "source": [
    "#fit logit on train data\n",
    "result = sm.Logit(y_train, X_train).fit()"
   ]
  },
  {
   "cell_type": "code",
   "execution_count": 12,
   "metadata": {},
   "outputs": [
    {
     "data": {
      "text/html": [
       "<table class=\"simpletable\">\n",
       "<caption>Logit Regression Results</caption>\n",
       "<tr>\n",
       "  <th>Dep. Variable:</th>           <td>y</td>        <th>  No. Observations:  </th>  <td>  7304</td>  \n",
       "</tr>\n",
       "<tr>\n",
       "  <th>Model:</th>                 <td>Logit</td>      <th>  Df Residuals:      </th>  <td>  7303</td>  \n",
       "</tr>\n",
       "<tr>\n",
       "  <th>Method:</th>                 <td>MLE</td>       <th>  Df Model:          </th>  <td>     0</td>  \n",
       "</tr>\n",
       "<tr>\n",
       "  <th>Date:</th>            <td>Wed, 17 Feb 2021</td> <th>  Pseudo R-squ.:     </th> <td>4.042e-12</td>\n",
       "</tr>\n",
       "<tr>\n",
       "  <th>Time:</th>                <td>00:50:07</td>     <th>  Log-Likelihood:    </th> <td> -5037.4</td> \n",
       "</tr>\n",
       "<tr>\n",
       "  <th>converged:</th>             <td>True</td>       <th>  LL-Null:           </th> <td> -5037.4</td> \n",
       "</tr>\n",
       "<tr>\n",
       "  <th>Covariance Type:</th>     <td>nonrobust</td>    <th>  LLR p-value:       </th>  <td>   nan</td>  \n",
       "</tr>\n",
       "</table>\n",
       "<table class=\"simpletable\">\n",
       "<tr>\n",
       "    <td></td>       <th>coef</th>     <th>std err</th>      <th>z</th>      <th>P>|z|</th>  <th>[0.025</th>    <th>0.975]</th>  \n",
       "</tr>\n",
       "<tr>\n",
       "  <th>const</th> <td>   -0.1669</td> <td>    0.023</td> <td>   -7.106</td> <td> 0.000</td> <td>   -0.213</td> <td>   -0.121</td>\n",
       "</tr>\n",
       "</table>"
      ],
      "text/plain": [
       "<class 'statsmodels.iolib.summary.Summary'>\n",
       "\"\"\"\n",
       "                           Logit Regression Results                           \n",
       "==============================================================================\n",
       "Dep. Variable:                      y   No. Observations:                 7304\n",
       "Model:                          Logit   Df Residuals:                     7303\n",
       "Method:                           MLE   Df Model:                            0\n",
       "Date:                Wed, 17 Feb 2021   Pseudo R-squ.:               4.042e-12\n",
       "Time:                        00:50:07   Log-Likelihood:                -5037.4\n",
       "converged:                       True   LL-Null:                       -5037.4\n",
       "Covariance Type:            nonrobust   LLR p-value:                       nan\n",
       "==============================================================================\n",
       "                 coef    std err          z      P>|z|      [0.025      0.975]\n",
       "------------------------------------------------------------------------------\n",
       "const         -0.1669      0.023     -7.106      0.000      -0.213      -0.121\n",
       "==============================================================================\n",
       "\"\"\""
      ]
     },
     "execution_count": 12,
     "metadata": {},
     "output_type": "execute_result"
    }
   ],
   "source": [
    "result.summary()"
   ]
  },
  {
   "cell_type": "code",
   "execution_count": 13,
   "metadata": {},
   "outputs": [
    {
     "data": {
      "text/plain": [
       "0.2473559477379797"
      ]
     },
     "execution_count": 13,
     "metadata": {},
     "output_type": "execute_result"
    }
   ],
   "source": [
    "#make predictions for 2018 season\n",
    "y_pred = result.predict(X_test)\n",
    "\n",
    "#brier score to compare predicted outcomes for 2018 vs actual\n",
    "brier_score_loss(y_test, y_pred)"
   ]
  },
  {
   "cell_type": "markdown",
   "metadata": {},
   "source": [
    "### Part 1c"
   ]
  },
  {
   "cell_type": "code",
   "execution_count": 14,
   "metadata": {},
   "outputs": [],
   "source": [
    "home_wins = len(np.where(y_train ==1)[0])\n",
    "draws = len(np.where(df_pre18.FTG_Home == df_pre18.FTG_Away)[0])\n",
    "away_wins = len(np.where(df_pre18.FTG_Home < df_pre18.FTG_Away)[0])\n",
    "total_games = len(df_pre18)"
   ]
  },
  {
   "cell_type": "code",
   "execution_count": 15,
   "metadata": {},
   "outputs": [
    {
     "name": "stdout",
     "output_type": "stream",
     "text": [
      "Home Team wins: 0.4583715872365509\n",
      "Away Team wins: 0.29312705366922237\n",
      "Draw: 0.24849397590361447\n"
     ]
    }
   ],
   "source": [
    "prob_home = expit(-.1669)\n",
    "prob_away = away_wins/total_games\n",
    "prob_draw = draws/total_games\n",
    "print('Home Team wins: '+str(prob_home))\n",
    "print('Away Team wins: '+str(prob_away))\n",
    "print('Draw: '+str(prob_draw))"
   ]
  },
  {
   "cell_type": "code",
   "execution_count": 16,
   "metadata": {},
   "outputs": [
    {
     "name": "stdout",
     "output_type": "stream",
     "text": [
      "Home Field Advantage: 1.56\n"
     ]
    }
   ],
   "source": [
    "print('Home Field Advantage: '+str(round(prob_home/prob_away,2)))"
   ]
  },
  {
   "cell_type": "markdown",
   "metadata": {},
   "source": [
    "Once we take the log odds of the coefficient, we can see that the probability of the home team winning is 45.8%, leaving the remaining 54% accounting for the probability of away team winning and probability of a draw occurring. The probability of the away team winning is 29.3%, meaning that the home team wins 1.56 times more than the away team, indicating that there is in fact home field advantage."
   ]
  },
  {
   "cell_type": "markdown",
   "metadata": {},
   "source": [
    "### Part 1d"
   ]
  },
  {
   "cell_type": "code",
   "execution_count": 17,
   "metadata": {},
   "outputs": [
    {
     "name": "stderr",
     "output_type": "stream",
     "text": [
      "/Users/amandarella/anaconda3/envs/pfds/lib/python3.7/site-packages/numpy/core/fromnumeric.py:2495: FutureWarning: Method .ptp is deprecated and will be removed in a future version. Use numpy.ptp instead.\n",
      "  return ptp(axis=axis, out=out, **kwargs)\n"
     ]
    }
   ],
   "source": [
    "#build logit model using historical avg goal differentials + intercept term\n",
    "#update feature lists in train and test set\n",
    "\n",
    "#build train set with features\n",
    "X_train_new = df_pre18[['GDcumAvg_Home','GDcumAvg_Away']]\n",
    "X_train_new = sm.add_constant(X_train_new)\n",
    "\n",
    "#build test set with features\n",
    "X_test_new = test[['GDcumAvg_Home','GDcumAvg_Away']]\n",
    "X_test_new = sm.add_constant(X_test_new)"
   ]
  },
  {
   "cell_type": "code",
   "execution_count": 18,
   "metadata": {},
   "outputs": [
    {
     "name": "stdout",
     "output_type": "stream",
     "text": [
      "Optimization terminated successfully.\n",
      "         Current function value: 0.630677\n",
      "         Iterations 5\n"
     ]
    }
   ],
   "source": [
    "#fit logit on train model with new features\n",
    "result_new = sm.Logit(y_train, X_train_new).fit()"
   ]
  },
  {
   "cell_type": "code",
   "execution_count": 19,
   "metadata": {},
   "outputs": [
    {
     "data": {
      "text/html": [
       "<table class=\"simpletable\">\n",
       "<caption>Logit Regression Results</caption>\n",
       "<tr>\n",
       "  <th>Dep. Variable:</th>           <td>y</td>        <th>  No. Observations:  </th>   <td>  7304</td>  \n",
       "</tr>\n",
       "<tr>\n",
       "  <th>Model:</th>                 <td>Logit</td>      <th>  Df Residuals:      </th>   <td>  7301</td>  \n",
       "</tr>\n",
       "<tr>\n",
       "  <th>Method:</th>                 <td>MLE</td>       <th>  Df Model:          </th>   <td>     2</td>  \n",
       "</tr>\n",
       "<tr>\n",
       "  <th>Date:</th>            <td>Wed, 17 Feb 2021</td> <th>  Pseudo R-squ.:     </th>   <td>0.08555</td> \n",
       "</tr>\n",
       "<tr>\n",
       "  <th>Time:</th>                <td>00:50:07</td>     <th>  Log-Likelihood:    </th>  <td> -4606.5</td> \n",
       "</tr>\n",
       "<tr>\n",
       "  <th>converged:</th>             <td>True</td>       <th>  LL-Null:           </th>  <td> -5037.4</td> \n",
       "</tr>\n",
       "<tr>\n",
       "  <th>Covariance Type:</th>     <td>nonrobust</td>    <th>  LLR p-value:       </th> <td>6.933e-188</td>\n",
       "</tr>\n",
       "</table>\n",
       "<table class=\"simpletable\">\n",
       "<tr>\n",
       "        <td></td>           <th>coef</th>     <th>std err</th>      <th>z</th>      <th>P>|z|</th>  <th>[0.025</th>    <th>0.975]</th>  \n",
       "</tr>\n",
       "<tr>\n",
       "  <th>const</th>         <td>   -0.1791</td> <td>    0.025</td> <td>   -7.183</td> <td> 0.000</td> <td>   -0.228</td> <td>   -0.130</td>\n",
       "</tr>\n",
       "<tr>\n",
       "  <th>GDcumAvg_Home</th> <td>    0.7853</td> <td>    0.039</td> <td>   20.128</td> <td> 0.000</td> <td>    0.709</td> <td>    0.862</td>\n",
       "</tr>\n",
       "<tr>\n",
       "  <th>GDcumAvg_Away</th> <td>   -0.7619</td> <td>    0.040</td> <td>  -19.082</td> <td> 0.000</td> <td>   -0.840</td> <td>   -0.684</td>\n",
       "</tr>\n",
       "</table>"
      ],
      "text/plain": [
       "<class 'statsmodels.iolib.summary.Summary'>\n",
       "\"\"\"\n",
       "                           Logit Regression Results                           \n",
       "==============================================================================\n",
       "Dep. Variable:                      y   No. Observations:                 7304\n",
       "Model:                          Logit   Df Residuals:                     7301\n",
       "Method:                           MLE   Df Model:                            2\n",
       "Date:                Wed, 17 Feb 2021   Pseudo R-squ.:                 0.08555\n",
       "Time:                        00:50:07   Log-Likelihood:                -4606.5\n",
       "converged:                       True   LL-Null:                       -5037.4\n",
       "Covariance Type:            nonrobust   LLR p-value:                6.933e-188\n",
       "=================================================================================\n",
       "                    coef    std err          z      P>|z|      [0.025      0.975]\n",
       "---------------------------------------------------------------------------------\n",
       "const            -0.1791      0.025     -7.183      0.000      -0.228      -0.130\n",
       "GDcumAvg_Home     0.7853      0.039     20.128      0.000       0.709       0.862\n",
       "GDcumAvg_Away    -0.7619      0.040    -19.082      0.000      -0.840      -0.684\n",
       "=================================================================================\n",
       "\"\"\""
      ]
     },
     "execution_count": 19,
     "metadata": {},
     "output_type": "execute_result"
    }
   ],
   "source": [
    "result_new.summary()"
   ]
  },
  {
   "cell_type": "code",
   "execution_count": 20,
   "metadata": {},
   "outputs": [
    {
     "data": {
      "text/plain": [
       "0.2172610107529878"
      ]
     },
     "execution_count": 20,
     "metadata": {},
     "output_type": "execute_result"
    }
   ],
   "source": [
    "#make predictions for 2018 season\n",
    "y_pred_new = result_new.predict(X_test_new)\n",
    "#brier score to compare predicted outcomes for 2018 vs actual\n",
    "brier_score_loss(y_test, y_pred_new)"
   ]
  },
  {
   "cell_type": "markdown",
   "metadata": {},
   "source": [
    "## Question 2: Model Building"
   ]
  },
  {
   "cell_type": "markdown",
   "metadata": {},
   "source": [
    "### (i) Historical Average of Expected Goals Differential"
   ]
  },
  {
   "cell_type": "code",
   "execution_count": 21,
   "metadata": {},
   "outputs": [],
   "source": [
    "#create y (home team wins)\n",
    "y = np.where(df.FTG_Home > df.FTG_Away,1,0)\n",
    "df.loc[:,'y'] = y"
   ]
  },
  {
   "cell_type": "code",
   "execution_count": 22,
   "metadata": {},
   "outputs": [],
   "source": [
    "df = df.sort_values(['Date','Game_ID'])\n",
    "\n",
    "#create copy to analyze goal differentials\n",
    "df_xG = df.copy()"
   ]
  },
  {
   "cell_type": "code",
   "execution_count": 23,
   "metadata": {},
   "outputs": [],
   "source": [
    "#calculate difference in expected goals for home and away teams of each match\n",
    "df_xG.loc[:,'xGDiff_Home'] = df_xG.loc[:,'xG_Home']-df_xG.loc[:,'xG_Away']\n",
    "df_xG.loc[:,'xGDiff_Away'] = df_xG.loc[:,'xG_Away']-df_xG.loc[:,'xG_Home']"
   ]
  },
  {
   "cell_type": "code",
   "execution_count": 24,
   "metadata": {},
   "outputs": [],
   "source": [
    "#keep only columns for difference in expected goals\n",
    "df_xG = df_xG[['Date','Game_ID','Team_Home','Team_Away','xGDiff_Home','xGDiff_Away']]"
   ]
  },
  {
   "cell_type": "code",
   "execution_count": 25,
   "metadata": {},
   "outputs": [],
   "source": [
    "#pivot table to get team from each game on separate row, and include all difference in xG in one column\n",
    "df_long = pd.wide_to_long(df_xG, ['Team','xGDiff'], i = ['Game_ID'], \n",
    "                          j = 'isHome', sep = '_', suffix = r'\\w+')\n",
    "\n",
    "#reindex to get rid of multi-index\n",
    "df_long = df_long.reset_index().sort_values(['Date','Game_ID']) \n",
    "\n",
    "#cumulative avg of goal differential per team for all preceding games\n",
    "df_long = df_long.assign(xGDiff_cumAvg = df_long.groupby('Team')['xGDiff'].transform(lambda x: x.expanding().mean().shift(1, fill_value = 0)))\n"
   ]
  },
  {
   "cell_type": "code",
   "execution_count": 26,
   "metadata": {},
   "outputs": [],
   "source": [
    "#get home and away goal diff cumavg for each game\n",
    "df_pivot = df_long.pivot(index='Game_ID', columns = 'isHome',values = 'xGDiff_cumAvg')\n",
    "\n",
    "df_pivot = df_pivot.rename(columns = {'Home':'xGDiff_cumAvg_Home','Away':'xGDiff_cumAvg_Away'})"
   ]
  },
  {
   "cell_type": "code",
   "execution_count": 27,
   "metadata": {},
   "outputs": [],
   "source": [
    "#merge goal diff cum avg table with df containing all info\n",
    "df = df.merge(df_pivot, on = ['Game_ID'])"
   ]
  },
  {
   "cell_type": "code",
   "execution_count": 28,
   "metadata": {},
   "outputs": [
    {
     "name": "stderr",
     "output_type": "stream",
     "text": [
      "/Users/amandarella/anaconda3/envs/pfds/lib/python3.7/site-packages/numpy/core/fromnumeric.py:2495: FutureWarning: Method .ptp is deprecated and will be removed in a future version. Use numpy.ptp instead.\n",
      "  return ptp(axis=axis, out=out, **kwargs)\n"
     ]
    }
   ],
   "source": [
    "#build logit model\n",
    "\n",
    "train = df.loc[df.Y < 18]\n",
    "test = df.loc[df.Y == 18]\n",
    "\n",
    "#train set\n",
    "y_train = train.y\n",
    "X_train = train[['GDcumAvg_Home','GDcumAvg_Away','xGDiff_cumAvg_Home','xGDiff_cumAvg_Away']]\n",
    "X_train = sm.add_constant(X_train)\n",
    "\n",
    "#test set\n",
    "test = df.loc[df.Y == 18]\n",
    "y_test = test.y\n",
    "X_test = test[['GDcumAvg_Home','GDcumAvg_Away','xGDiff_cumAvg_Home','xGDiff_cumAvg_Away']]\n",
    "X_test = sm.add_constant(X_test)"
   ]
  },
  {
   "cell_type": "code",
   "execution_count": 29,
   "metadata": {},
   "outputs": [
    {
     "name": "stdout",
     "output_type": "stream",
     "text": [
      "Optimization terminated successfully.\n",
      "         Current function value: 0.624789\n",
      "         Iterations 5\n"
     ]
    }
   ],
   "source": [
    "#fit logit on train data\n",
    "result = sm.Logit(y_train, X_train).fit()"
   ]
  },
  {
   "cell_type": "code",
   "execution_count": 30,
   "metadata": {},
   "outputs": [
    {
     "data": {
      "text/html": [
       "<table class=\"simpletable\">\n",
       "<caption>Logit Regression Results</caption>\n",
       "<tr>\n",
       "  <th>Dep. Variable:</th>           <td>y</td>        <th>  No. Observations:  </th>   <td>  7304</td>  \n",
       "</tr>\n",
       "<tr>\n",
       "  <th>Model:</th>                 <td>Logit</td>      <th>  Df Residuals:      </th>   <td>  7299</td>  \n",
       "</tr>\n",
       "<tr>\n",
       "  <th>Method:</th>                 <td>MLE</td>       <th>  Df Model:          </th>   <td>     4</td>  \n",
       "</tr>\n",
       "<tr>\n",
       "  <th>Date:</th>            <td>Wed, 17 Feb 2021</td> <th>  Pseudo R-squ.:     </th>   <td>0.09409</td> \n",
       "</tr>\n",
       "<tr>\n",
       "  <th>Time:</th>                <td>00:50:08</td>     <th>  Log-Likelihood:    </th>  <td> -4563.5</td> \n",
       "</tr>\n",
       "<tr>\n",
       "  <th>converged:</th>             <td>True</td>       <th>  LL-Null:           </th>  <td> -5037.4</td> \n",
       "</tr>\n",
       "<tr>\n",
       "  <th>Covariance Type:</th>     <td>nonrobust</td>    <th>  LLR p-value:       </th> <td>6.955e-204</td>\n",
       "</tr>\n",
       "</table>\n",
       "<table class=\"simpletable\">\n",
       "<tr>\n",
       "           <td></td>             <th>coef</th>     <th>std err</th>      <th>z</th>      <th>P>|z|</th>  <th>[0.025</th>    <th>0.975]</th>  \n",
       "</tr>\n",
       "<tr>\n",
       "  <th>const</th>              <td>   -0.1770</td> <td>    0.025</td> <td>   -7.032</td> <td> 0.000</td> <td>   -0.226</td> <td>   -0.128</td>\n",
       "</tr>\n",
       "<tr>\n",
       "  <th>GDcumAvg_Home</th>      <td>    0.2495</td> <td>    0.088</td> <td>    2.829</td> <td> 0.005</td> <td>    0.077</td> <td>    0.422</td>\n",
       "</tr>\n",
       "<tr>\n",
       "  <th>GDcumAvg_Away</th>      <td>   -0.2537</td> <td>    0.092</td> <td>   -2.755</td> <td> 0.006</td> <td>   -0.434</td> <td>   -0.073</td>\n",
       "</tr>\n",
       "<tr>\n",
       "  <th>xGDiff_cumAvg_Home</th> <td>    0.7367</td> <td>    0.110</td> <td>    6.678</td> <td> 0.000</td> <td>    0.520</td> <td>    0.953</td>\n",
       "</tr>\n",
       "<tr>\n",
       "  <th>xGDiff_cumAvg_Away</th> <td>   -0.7129</td> <td>    0.115</td> <td>   -6.184</td> <td> 0.000</td> <td>   -0.939</td> <td>   -0.487</td>\n",
       "</tr>\n",
       "</table>"
      ],
      "text/plain": [
       "<class 'statsmodels.iolib.summary.Summary'>\n",
       "\"\"\"\n",
       "                           Logit Regression Results                           \n",
       "==============================================================================\n",
       "Dep. Variable:                      y   No. Observations:                 7304\n",
       "Model:                          Logit   Df Residuals:                     7299\n",
       "Method:                           MLE   Df Model:                            4\n",
       "Date:                Wed, 17 Feb 2021   Pseudo R-squ.:                 0.09409\n",
       "Time:                        00:50:08   Log-Likelihood:                -4563.5\n",
       "converged:                       True   LL-Null:                       -5037.4\n",
       "Covariance Type:            nonrobust   LLR p-value:                6.955e-204\n",
       "======================================================================================\n",
       "                         coef    std err          z      P>|z|      [0.025      0.975]\n",
       "--------------------------------------------------------------------------------------\n",
       "const                 -0.1770      0.025     -7.032      0.000      -0.226      -0.128\n",
       "GDcumAvg_Home          0.2495      0.088      2.829      0.005       0.077       0.422\n",
       "GDcumAvg_Away         -0.2537      0.092     -2.755      0.006      -0.434      -0.073\n",
       "xGDiff_cumAvg_Home     0.7367      0.110      6.678      0.000       0.520       0.953\n",
       "xGDiff_cumAvg_Away    -0.7129      0.115     -6.184      0.000      -0.939      -0.487\n",
       "======================================================================================\n",
       "\"\"\""
      ]
     },
     "execution_count": 30,
     "metadata": {},
     "output_type": "execute_result"
    }
   ],
   "source": [
    "result.summary()"
   ]
  },
  {
   "cell_type": "code",
   "execution_count": 31,
   "metadata": {},
   "outputs": [
    {
     "data": {
      "text/plain": [
       "0.21603225494350248"
      ]
     },
     "execution_count": 31,
     "metadata": {},
     "output_type": "execute_result"
    }
   ],
   "source": [
    "#make predictions for 2018 season\n",
    "y_pred = result.predict(X_test)\n",
    "\n",
    "#brier score to compare predicted outcomes for 2018 vs actual\n",
    "brier_score_loss(y_test, y_pred)"
   ]
  },
  {
   "cell_type": "markdown",
   "metadata": {},
   "source": [
    "### (ii) Rolling Win Percentage"
   ]
  },
  {
   "cell_type": "code",
   "execution_count": 32,
   "metadata": {},
   "outputs": [],
   "source": [
    "#function for creating outcome for home team\n",
    "def home(v):\n",
    "    if v.FTG_Home > v.FTG_Away:\n",
    "        v = 1\n",
    "    else:\n",
    "        v = 0 \n",
    "    return v"
   ]
  },
  {
   "cell_type": "code",
   "execution_count": 33,
   "metadata": {},
   "outputs": [],
   "source": [
    "df['Win_Home'] = df.apply(home, axis = 1)"
   ]
  },
  {
   "cell_type": "code",
   "execution_count": 34,
   "metadata": {},
   "outputs": [],
   "source": [
    "#function for creating outcome for away team\n",
    "def away(v):\n",
    "    if v.FTG_Home < v.FTG_Away:\n",
    "        v = 1\n",
    "    else:\n",
    "        v = 0 \n",
    "    return v"
   ]
  },
  {
   "cell_type": "code",
   "execution_count": 35,
   "metadata": {},
   "outputs": [],
   "source": [
    "df['Win_Away'] = df.apply(away, axis = 1)"
   ]
  },
  {
   "cell_type": "code",
   "execution_count": 36,
   "metadata": {},
   "outputs": [],
   "source": [
    "#create copy of dataframe to analyze team wins\n",
    "df_wins = df.copy()\n",
    "\n",
    "#keep columns to calculate winning percentage\n",
    "df_wins = df_wins[['Date','Game_ID','Team_Home','Team_Away','Num_Games_Home','Num_Games_Away','Win_Home','Win_Away']]"
   ]
  },
  {
   "cell_type": "code",
   "execution_count": 37,
   "metadata": {},
   "outputs": [],
   "source": [
    "#pivot table to get team from each game on separate row, and include all win flags in one column\n",
    "df_long = pd.wide_to_long(df_wins, ['Team','Num_Games','Win'], i = ['Game_ID'], \n",
    "                          j = 'isHome', sep = '_', suffix = r'\\w+')\n",
    "\n",
    "#reindex to get rid of multi-index\n",
    "df_long = df_long.reset_index().sort_values(['Date','Game_ID']) \n",
    "\n",
    "#calculate sum of won games and shift down \n",
    "df_long.loc[:,'Win_sum'] = df_long.groupby('Team').Win.transform(lambda x : x.cumsum().shift(1, fill_value = 0))"
   ]
  },
  {
   "cell_type": "code",
   "execution_count": 38,
   "metadata": {},
   "outputs": [],
   "source": [
    "#function to calculate win percentage; set first game as 100% win (perfect record to start)\n",
    "def win_pct(v):\n",
    "    if v.Num_Games == 0:\n",
    "        pct = 1\n",
    "    else:\n",
    "        pct = v.Win_sum/v.Num_Games\n",
    "    return pct"
   ]
  },
  {
   "cell_type": "code",
   "execution_count": 39,
   "metadata": {},
   "outputs": [],
   "source": [
    "#apply win percentage function to dataframe\n",
    "df_long['Win_pct'] = df_long.apply(win_pct, axis=1)\n",
    "\n",
    "#reset index and sort on date, game id\n",
    "df_long = df_long.reset_index().sort_values(['Date','Game_ID']) "
   ]
  },
  {
   "cell_type": "code",
   "execution_count": 40,
   "metadata": {},
   "outputs": [],
   "source": [
    "#get home and away running win pct for each game\n",
    "df_pivot = df_long.pivot(index='Game_ID', columns = 'isHome',values = 'Win_pct')\n",
    "df_pivot = df_pivot.rename(columns = {'Home':'Winpct_Home','Away':'Winpct_Away'})"
   ]
  },
  {
   "cell_type": "code",
   "execution_count": 41,
   "metadata": {},
   "outputs": [],
   "source": [
    "#merge win percent with df containing all info\n",
    "df = df.merge(df_pivot, on = ['Game_ID'])"
   ]
  },
  {
   "cell_type": "code",
   "execution_count": 42,
   "metadata": {},
   "outputs": [
    {
     "name": "stderr",
     "output_type": "stream",
     "text": [
      "/Users/amandarella/anaconda3/envs/pfds/lib/python3.7/site-packages/numpy/core/fromnumeric.py:2495: FutureWarning: Method .ptp is deprecated and will be removed in a future version. Use numpy.ptp instead.\n",
      "  return ptp(axis=axis, out=out, **kwargs)\n"
     ]
    }
   ],
   "source": [
    "#build logit model\n",
    "train = df.loc[df.Y < 18]\n",
    "test = df.loc[df.Y == 18]\n",
    "\n",
    "y_train = train.y\n",
    "X_train = train[['GDcumAvg_Home','GDcumAvg_Away','xGDiff_cumAvg_Home','xGDiff_cumAvg_Away','Winpct_Home','Winpct_Away']]\n",
    "X_train = sm.add_constant(X_train)\n",
    "\n",
    "y_test = test.y\n",
    "X_test = test[['GDcumAvg_Home','GDcumAvg_Away','xGDiff_cumAvg_Home','xGDiff_cumAvg_Away','Winpct_Home','Winpct_Away']]\n",
    "X_test = sm.add_constant(X_test)"
   ]
  },
  {
   "cell_type": "code",
   "execution_count": 43,
   "metadata": {},
   "outputs": [
    {
     "name": "stdout",
     "output_type": "stream",
     "text": [
      "Optimization terminated successfully.\n",
      "         Current function value: 0.624639\n",
      "         Iterations 5\n"
     ]
    }
   ],
   "source": [
    "result = sm.Logit(y_train, X_train).fit()"
   ]
  },
  {
   "cell_type": "code",
   "execution_count": 44,
   "metadata": {},
   "outputs": [
    {
     "data": {
      "text/html": [
       "<table class=\"simpletable\">\n",
       "<caption>Logit Regression Results</caption>\n",
       "<tr>\n",
       "  <th>Dep. Variable:</th>           <td>y</td>        <th>  No. Observations:  </th>   <td>  7304</td>  \n",
       "</tr>\n",
       "<tr>\n",
       "  <th>Model:</th>                 <td>Logit</td>      <th>  Df Residuals:      </th>   <td>  7297</td>  \n",
       "</tr>\n",
       "<tr>\n",
       "  <th>Method:</th>                 <td>MLE</td>       <th>  Df Model:          </th>   <td>     6</td>  \n",
       "</tr>\n",
       "<tr>\n",
       "  <th>Date:</th>            <td>Wed, 17 Feb 2021</td> <th>  Pseudo R-squ.:     </th>   <td>0.09430</td> \n",
       "</tr>\n",
       "<tr>\n",
       "  <th>Time:</th>                <td>00:50:10</td>     <th>  Log-Likelihood:    </th>  <td> -4562.4</td> \n",
       "</tr>\n",
       "<tr>\n",
       "  <th>converged:</th>             <td>True</td>       <th>  LL-Null:           </th>  <td> -5037.4</td> \n",
       "</tr>\n",
       "<tr>\n",
       "  <th>Covariance Type:</th>     <td>nonrobust</td>    <th>  LLR p-value:       </th> <td>5.518e-202</td>\n",
       "</tr>\n",
       "</table>\n",
       "<table class=\"simpletable\">\n",
       "<tr>\n",
       "           <td></td>             <th>coef</th>     <th>std err</th>      <th>z</th>      <th>P>|z|</th>  <th>[0.025</th>    <th>0.975]</th>  \n",
       "</tr>\n",
       "<tr>\n",
       "  <th>const</th>              <td>   -0.0211</td> <td>    0.133</td> <td>   -0.159</td> <td> 0.874</td> <td>   -0.281</td> <td>    0.239</td>\n",
       "</tr>\n",
       "<tr>\n",
       "  <th>GDcumAvg_Home</th>      <td>    0.3470</td> <td>    0.114</td> <td>    3.057</td> <td> 0.002</td> <td>    0.125</td> <td>    0.569</td>\n",
       "</tr>\n",
       "<tr>\n",
       "  <th>GDcumAvg_Away</th>      <td>   -0.2630</td> <td>    0.116</td> <td>   -2.269</td> <td> 0.023</td> <td>   -0.490</td> <td>   -0.036</td>\n",
       "</tr>\n",
       "<tr>\n",
       "  <th>xGDiff_cumAvg_Home</th> <td>    0.7375</td> <td>    0.110</td> <td>    6.686</td> <td> 0.000</td> <td>    0.521</td> <td>    0.954</td>\n",
       "</tr>\n",
       "<tr>\n",
       "  <th>xGDiff_cumAvg_Away</th> <td>   -0.7109</td> <td>    0.115</td> <td>   -6.169</td> <td> 0.000</td> <td>   -0.937</td> <td>   -0.485</td>\n",
       "</tr>\n",
       "<tr>\n",
       "  <th>Winpct_Home</th>        <td>   -0.4524</td> <td>    0.327</td> <td>   -1.382</td> <td> 0.167</td> <td>   -1.094</td> <td>    0.189</td>\n",
       "</tr>\n",
       "<tr>\n",
       "  <th>Winpct_Away</th>        <td>    0.0363</td> <td>    0.322</td> <td>    0.113</td> <td> 0.910</td> <td>   -0.594</td> <td>    0.667</td>\n",
       "</tr>\n",
       "</table>"
      ],
      "text/plain": [
       "<class 'statsmodels.iolib.summary.Summary'>\n",
       "\"\"\"\n",
       "                           Logit Regression Results                           \n",
       "==============================================================================\n",
       "Dep. Variable:                      y   No. Observations:                 7304\n",
       "Model:                          Logit   Df Residuals:                     7297\n",
       "Method:                           MLE   Df Model:                            6\n",
       "Date:                Wed, 17 Feb 2021   Pseudo R-squ.:                 0.09430\n",
       "Time:                        00:50:10   Log-Likelihood:                -4562.4\n",
       "converged:                       True   LL-Null:                       -5037.4\n",
       "Covariance Type:            nonrobust   LLR p-value:                5.518e-202\n",
       "======================================================================================\n",
       "                         coef    std err          z      P>|z|      [0.025      0.975]\n",
       "--------------------------------------------------------------------------------------\n",
       "const                 -0.0211      0.133     -0.159      0.874      -0.281       0.239\n",
       "GDcumAvg_Home          0.3470      0.114      3.057      0.002       0.125       0.569\n",
       "GDcumAvg_Away         -0.2630      0.116     -2.269      0.023      -0.490      -0.036\n",
       "xGDiff_cumAvg_Home     0.7375      0.110      6.686      0.000       0.521       0.954\n",
       "xGDiff_cumAvg_Away    -0.7109      0.115     -6.169      0.000      -0.937      -0.485\n",
       "Winpct_Home           -0.4524      0.327     -1.382      0.167      -1.094       0.189\n",
       "Winpct_Away            0.0363      0.322      0.113      0.910      -0.594       0.667\n",
       "======================================================================================\n",
       "\"\"\""
      ]
     },
     "execution_count": 44,
     "metadata": {},
     "output_type": "execute_result"
    }
   ],
   "source": [
    "result.summary()"
   ]
  },
  {
   "cell_type": "code",
   "execution_count": 45,
   "metadata": {},
   "outputs": [
    {
     "data": {
      "text/plain": [
       "0.21591723312493333"
      ]
     },
     "execution_count": 45,
     "metadata": {},
     "output_type": "execute_result"
    }
   ],
   "source": [
    "y_pred = result.predict(X_test)\n",
    "brier_score_loss(y_test, y_pred)"
   ]
  },
  {
   "cell_type": "markdown",
   "metadata": {},
   "source": [
    "### (iii) Historical Average Shots on Target Differential"
   ]
  },
  {
   "cell_type": "code",
   "execution_count": 46,
   "metadata": {},
   "outputs": [],
   "source": [
    "#create copy to analyze shot on target differentials\n",
    "df_st = df.copy()\n",
    "\n",
    "#calculate goal differentials for home and away teams of each match\n",
    "df_st.loc[:,'STDiff_Home'] = df_st.loc[:,'ST_Home']-df_st.loc[:,'ST_Away']\n",
    "df_st.loc[:,'STDiff_Away'] = df_st.loc[:,'ST_Away']-df_st.loc[:,'ST_Home']\n",
    "\n",
    "#keep only columns for goal differntial stats\n",
    "df_st = df_st[['Date','Game_ID','Team_Home','Team_Away','STDiff_Home','STDiff_Away']]"
   ]
  },
  {
   "cell_type": "code",
   "execution_count": 47,
   "metadata": {},
   "outputs": [],
   "source": [
    "#pivot table to get team from each game on separate row, and include all shot on target differentials in one column\n",
    "df_long = pd.wide_to_long(df_st, ['Team','STDiff'], i = ['Game_ID'], \n",
    "                          j = 'isHome', sep = '_', suffix = r'\\w+')\n",
    "\n",
    "#reindex to get rid of multi-index\n",
    "df_long = df_long.reset_index().sort_values(['Date','Game_ID']) \n",
    "\n",
    "#cumulative avg of shot on target differential per team for all preceding games\n",
    "df_long = df_long.assign(STDiffcumAvg = df_long.groupby('Team')['STDiff'].transform(lambda x: x.expanding().mean().shift(1, fill_value = 0)))"
   ]
  },
  {
   "cell_type": "code",
   "execution_count": 48,
   "metadata": {},
   "outputs": [],
   "source": [
    "#get home and away shots on target diff cumavg for each game\n",
    "df_pivot = df_long.pivot(index='Game_ID', columns = 'isHome',values = 'STDiffcumAvg')\n",
    "\n",
    "df_pivot = df_pivot.rename(columns = {'Home':'STDiff_cumAvg_Home','Away':'STDiff_cumAvg_Away'})"
   ]
  },
  {
   "cell_type": "code",
   "execution_count": 49,
   "metadata": {},
   "outputs": [],
   "source": [
    "#merge shots on target diff cum avg table with df containing all info\n",
    "df = df.merge(df_pivot, on = ['Game_ID'])"
   ]
  },
  {
   "cell_type": "code",
   "execution_count": 50,
   "metadata": {},
   "outputs": [
    {
     "name": "stderr",
     "output_type": "stream",
     "text": [
      "/Users/amandarella/anaconda3/envs/pfds/lib/python3.7/site-packages/numpy/core/fromnumeric.py:2495: FutureWarning: Method .ptp is deprecated and will be removed in a future version. Use numpy.ptp instead.\n",
      "  return ptp(axis=axis, out=out, **kwargs)\n"
     ]
    }
   ],
   "source": [
    "#build logit model\n",
    "\n",
    "train = df.loc[df.Y < 18]\n",
    "test = df.loc[df.Y == 18]\n",
    "\n",
    "y_train = train.y\n",
    "X_train = train[['GDcumAvg_Home','GDcumAvg_Away','xGDiff_cumAvg_Home','xGDiff_cumAvg_Away',\n",
    "                'STDiff_cumAvg_Home','STDiff_cumAvg_Away',]]\n",
    "X_train = sm.add_constant(X_train)\n",
    "\n",
    "y_test = test.y\n",
    "X_test = test[['GDcumAvg_Home','GDcumAvg_Away','xGDiff_cumAvg_Home','xGDiff_cumAvg_Away',\n",
    "              'STDiff_cumAvg_Home','STDiff_cumAvg_Away',]]\n",
    "X_test = sm.add_constant(X_test)"
   ]
  },
  {
   "cell_type": "code",
   "execution_count": 51,
   "metadata": {},
   "outputs": [
    {
     "name": "stdout",
     "output_type": "stream",
     "text": [
      "Optimization terminated successfully.\n",
      "         Current function value: 0.624339\n",
      "         Iterations 5\n"
     ]
    }
   ],
   "source": [
    "result = sm.Logit(y_train, X_train).fit()"
   ]
  },
  {
   "cell_type": "code",
   "execution_count": 52,
   "metadata": {},
   "outputs": [
    {
     "data": {
      "text/html": [
       "<table class=\"simpletable\">\n",
       "<caption>Logit Regression Results</caption>\n",
       "<tr>\n",
       "  <th>Dep. Variable:</th>           <td>y</td>        <th>  No. Observations:  </th>   <td>  7304</td>  \n",
       "</tr>\n",
       "<tr>\n",
       "  <th>Model:</th>                 <td>Logit</td>      <th>  Df Residuals:      </th>   <td>  7297</td>  \n",
       "</tr>\n",
       "<tr>\n",
       "  <th>Method:</th>                 <td>MLE</td>       <th>  Df Model:          </th>   <td>     6</td>  \n",
       "</tr>\n",
       "<tr>\n",
       "  <th>Date:</th>            <td>Wed, 17 Feb 2021</td> <th>  Pseudo R-squ.:     </th>   <td>0.09474</td> \n",
       "</tr>\n",
       "<tr>\n",
       "  <th>Time:</th>                <td>00:50:10</td>     <th>  Log-Likelihood:    </th>  <td> -4560.2</td> \n",
       "</tr>\n",
       "<tr>\n",
       "  <th>converged:</th>             <td>True</td>       <th>  LL-Null:           </th>  <td> -5037.4</td> \n",
       "</tr>\n",
       "<tr>\n",
       "  <th>Covariance Type:</th>     <td>nonrobust</td>    <th>  LLR p-value:       </th> <td>6.231e-203</td>\n",
       "</tr>\n",
       "</table>\n",
       "<table class=\"simpletable\">\n",
       "<tr>\n",
       "           <td></td>             <th>coef</th>     <th>std err</th>      <th>z</th>      <th>P>|z|</th>  <th>[0.025</th>    <th>0.975]</th>  \n",
       "</tr>\n",
       "<tr>\n",
       "  <th>const</th>              <td>   -0.1767</td> <td>    0.025</td> <td>   -7.015</td> <td> 0.000</td> <td>   -0.226</td> <td>   -0.127</td>\n",
       "</tr>\n",
       "<tr>\n",
       "  <th>GDcumAvg_Home</th>      <td>    0.1938</td> <td>    0.092</td> <td>    2.107</td> <td> 0.035</td> <td>    0.014</td> <td>    0.374</td>\n",
       "</tr>\n",
       "<tr>\n",
       "  <th>GDcumAvg_Away</th>      <td>   -0.2112</td> <td>    0.096</td> <td>   -2.207</td> <td> 0.027</td> <td>   -0.399</td> <td>   -0.024</td>\n",
       "</tr>\n",
       "<tr>\n",
       "  <th>xGDiff_cumAvg_Home</th> <td>    0.5711</td> <td>    0.136</td> <td>    4.187</td> <td> 0.000</td> <td>    0.304</td> <td>    0.838</td>\n",
       "</tr>\n",
       "<tr>\n",
       "  <th>xGDiff_cumAvg_Away</th> <td>   -0.5949</td> <td>    0.142</td> <td>   -4.182</td> <td> 0.000</td> <td>   -0.874</td> <td>   -0.316</td>\n",
       "</tr>\n",
       "<tr>\n",
       "  <th>STDiff_cumAvg_Home</th> <td>    0.0878</td> <td>    0.043</td> <td>    2.065</td> <td> 0.039</td> <td>    0.004</td> <td>    0.171</td>\n",
       "</tr>\n",
       "<tr>\n",
       "  <th>STDiff_cumAvg_Away</th> <td>   -0.0646</td> <td>    0.044</td> <td>   -1.484</td> <td> 0.138</td> <td>   -0.150</td> <td>    0.021</td>\n",
       "</tr>\n",
       "</table>"
      ],
      "text/plain": [
       "<class 'statsmodels.iolib.summary.Summary'>\n",
       "\"\"\"\n",
       "                           Logit Regression Results                           \n",
       "==============================================================================\n",
       "Dep. Variable:                      y   No. Observations:                 7304\n",
       "Model:                          Logit   Df Residuals:                     7297\n",
       "Method:                           MLE   Df Model:                            6\n",
       "Date:                Wed, 17 Feb 2021   Pseudo R-squ.:                 0.09474\n",
       "Time:                        00:50:10   Log-Likelihood:                -4560.2\n",
       "converged:                       True   LL-Null:                       -5037.4\n",
       "Covariance Type:            nonrobust   LLR p-value:                6.231e-203\n",
       "======================================================================================\n",
       "                         coef    std err          z      P>|z|      [0.025      0.975]\n",
       "--------------------------------------------------------------------------------------\n",
       "const                 -0.1767      0.025     -7.015      0.000      -0.226      -0.127\n",
       "GDcumAvg_Home          0.1938      0.092      2.107      0.035       0.014       0.374\n",
       "GDcumAvg_Away         -0.2112      0.096     -2.207      0.027      -0.399      -0.024\n",
       "xGDiff_cumAvg_Home     0.5711      0.136      4.187      0.000       0.304       0.838\n",
       "xGDiff_cumAvg_Away    -0.5949      0.142     -4.182      0.000      -0.874      -0.316\n",
       "STDiff_cumAvg_Home     0.0878      0.043      2.065      0.039       0.004       0.171\n",
       "STDiff_cumAvg_Away    -0.0646      0.044     -1.484      0.138      -0.150       0.021\n",
       "======================================================================================\n",
       "\"\"\""
      ]
     },
     "execution_count": 52,
     "metadata": {},
     "output_type": "execute_result"
    }
   ],
   "source": [
    "result.summary()"
   ]
  },
  {
   "cell_type": "code",
   "execution_count": 53,
   "metadata": {},
   "outputs": [
    {
     "data": {
      "text/plain": [
       "0.2158086295964073"
      ]
     },
     "execution_count": 53,
     "metadata": {},
     "output_type": "execute_result"
    }
   ],
   "source": [
    "y_pred = result.predict(X_test)\n",
    "brier_score_loss(y_test, y_pred)"
   ]
  },
  {
   "cell_type": "markdown",
   "metadata": {},
   "source": [
    "### (iv) Win/Lose Streak"
   ]
  },
  {
   "cell_type": "code",
   "execution_count": 54,
   "metadata": {},
   "outputs": [],
   "source": [
    "#pivot table to get team from each game on separate row, and include all win flags in one column\n",
    "df_long = pd.wide_to_long(df_wins, ['Team','Num_Games','Win'], i = ['Game_ID'], \n",
    "                          j = 'isHome', sep = '_', suffix = r'\\w+')"
   ]
  },
  {
   "cell_type": "code",
   "execution_count": 55,
   "metadata": {},
   "outputs": [],
   "source": [
    "#reindex to get rid of multi-index\n",
    "df_long = df_long.reset_index().sort_values(['Date','Game_ID']) \n",
    "\n",
    "#sort by team first\n",
    "df_long = df_long.sort_values(['Team','Date','Game_ID'])"
   ]
  },
  {
   "cell_type": "code",
   "execution_count": 56,
   "metadata": {},
   "outputs": [],
   "source": [
    "#create streak grouped by wins or losses per team\n",
    "df_long['Streak'] = df_long['Win'].groupby((df_long['Win']!=df_long.groupby(['Team'])['Win'].shift()).cumsum()).cumcount()+1\n",
    "\n",
    "#shift binary wins column down and set win to 0 when team has not played yet\n",
    "df_long['Win_shift'] = df_long['Win'].shift(1,fill_value=0)\n",
    "df_long['Win_shift'] = np.where(df_long.Num_Games == 0, 0, df_long.Win_shift)\n",
    "\n",
    "#shift streaks column down and set streak to 0 when team has not played yet\n",
    "df_long['Streak_shift'] = df_long['Streak'].shift(1,fill_value=0)\n",
    "df_long['Streak_shift'] = np.where(df_long.Num_Games == 0, 0, df_long.Streak_shift)\n",
    "\n",
    "#win streak based on num wins in a row\n",
    "df_long['Win_streak'] = df_long['Win_shift']*df_long['Streak_shift']\n",
    "\n",
    "#create loss shift (opposite of win shift)\n",
    "df_long['Loss_shift'] = np.where(df_long.Win_shift == 0,1,0)\n",
    "\n",
    "#loss streak based on num losses in a row\n",
    "df_long['Loss_streak'] = df_long['Loss_shift']*df_long['Streak_shift']"
   ]
  },
  {
   "cell_type": "code",
   "execution_count": 57,
   "metadata": {},
   "outputs": [],
   "source": [
    "#drop columns not needed\n",
    "df_long = df_long.drop(columns = ['Num_Games','Win','Streak','Win_shift','Streak_shift','Loss_shift'])"
   ]
  },
  {
   "cell_type": "code",
   "execution_count": 58,
   "metadata": {},
   "outputs": [],
   "source": [
    "#get home and away streaks for each game\n",
    "df_pivot = df_long.pivot(index='Game_ID', columns = 'isHome',values = ['Win_streak','Loss_streak'])\n",
    "\n",
    "#rename columns and drop hierarchical level\n",
    "df_pivot.columns = pd.MultiIndex.from_tuples([\n",
    "    ('Win_streak', 'Win_streak_Away'), ('Win_streak', 'Win_streak_Home'), \n",
    "    ('Loss_streak', 'Loss_streak_Away'),('Loss_streak', 'Loss_streak_Home')\n",
    "])\n",
    "\n",
    "#remove top level of hierarchical column naming\n",
    "df_pivot = df_pivot.droplevel(0,axis=1)"
   ]
  },
  {
   "cell_type": "code",
   "execution_count": 59,
   "metadata": {},
   "outputs": [],
   "source": [
    "#merge streaks with df containing all info\n",
    "df = df.merge(df_pivot, on = ['Game_ID'])"
   ]
  },
  {
   "cell_type": "code",
   "execution_count": 60,
   "metadata": {},
   "outputs": [
    {
     "name": "stderr",
     "output_type": "stream",
     "text": [
      "/Users/amandarella/anaconda3/envs/pfds/lib/python3.7/site-packages/numpy/core/fromnumeric.py:2495: FutureWarning: Method .ptp is deprecated and will be removed in a future version. Use numpy.ptp instead.\n",
      "  return ptp(axis=axis, out=out, **kwargs)\n"
     ]
    }
   ],
   "source": [
    "#build logit model\n",
    "\n",
    "train = df.loc[df.Y < 18]\n",
    "test = df.loc[df.Y == 18]\n",
    "\n",
    "y_train = train.y\n",
    "X_train = train[['GDcumAvg_Home','GDcumAvg_Away','xGDiff_cumAvg_Home','xGDiff_cumAvg_Away',\n",
    "                'STDiff_cumAvg_Home','STDiff_cumAvg_Away','Win_streak_Home','Win_streak_Away','Loss_streak_Home','Loss_streak_Away']]\n",
    "X_train = sm.add_constant(X_train)\n",
    "\n",
    "y_test = test.y\n",
    "X_test = test[['GDcumAvg_Home','GDcumAvg_Away','xGDiff_cumAvg_Home','xGDiff_cumAvg_Away',\n",
    "              'STDiff_cumAvg_Home','STDiff_cumAvg_Away','Win_streak_Home','Win_streak_Away','Loss_streak_Home','Loss_streak_Away']]\n",
    "X_test = sm.add_constant(X_test)"
   ]
  },
  {
   "cell_type": "code",
   "execution_count": 61,
   "metadata": {},
   "outputs": [
    {
     "name": "stdout",
     "output_type": "stream",
     "text": [
      "Optimization terminated successfully.\n",
      "         Current function value: 0.623214\n",
      "         Iterations 5\n"
     ]
    }
   ],
   "source": [
    "result = sm.Logit(y_train, X_train).fit()"
   ]
  },
  {
   "cell_type": "code",
   "execution_count": 62,
   "metadata": {},
   "outputs": [
    {
     "data": {
      "text/html": [
       "<table class=\"simpletable\">\n",
       "<caption>Logit Regression Results</caption>\n",
       "<tr>\n",
       "  <th>Dep. Variable:</th>           <td>y</td>        <th>  No. Observations:  </th>   <td>  7304</td>  \n",
       "</tr>\n",
       "<tr>\n",
       "  <th>Model:</th>                 <td>Logit</td>      <th>  Df Residuals:      </th>   <td>  7293</td>  \n",
       "</tr>\n",
       "<tr>\n",
       "  <th>Method:</th>                 <td>MLE</td>       <th>  Df Model:          </th>   <td>    10</td>  \n",
       "</tr>\n",
       "<tr>\n",
       "  <th>Date:</th>            <td>Wed, 17 Feb 2021</td> <th>  Pseudo R-squ.:     </th>   <td>0.09637</td> \n",
       "</tr>\n",
       "<tr>\n",
       "  <th>Time:</th>                <td>00:50:10</td>     <th>  Log-Likelihood:    </th>  <td> -4552.0</td> \n",
       "</tr>\n",
       "<tr>\n",
       "  <th>converged:</th>             <td>True</td>       <th>  LL-Null:           </th>  <td> -5037.4</td> \n",
       "</tr>\n",
       "<tr>\n",
       "  <th>Covariance Type:</th>     <td>nonrobust</td>    <th>  LLR p-value:       </th> <td>3.444e-202</td>\n",
       "</tr>\n",
       "</table>\n",
       "<table class=\"simpletable\">\n",
       "<tr>\n",
       "           <td></td>             <th>coef</th>     <th>std err</th>      <th>z</th>      <th>P>|z|</th>  <th>[0.025</th>    <th>0.975]</th>  \n",
       "</tr>\n",
       "<tr>\n",
       "  <th>const</th>              <td>   -0.1853</td> <td>    0.047</td> <td>   -3.915</td> <td> 0.000</td> <td>   -0.278</td> <td>   -0.093</td>\n",
       "</tr>\n",
       "<tr>\n",
       "  <th>GDcumAvg_Home</th>      <td>    0.1464</td> <td>    0.094</td> <td>    1.561</td> <td> 0.119</td> <td>   -0.037</td> <td>    0.330</td>\n",
       "</tr>\n",
       "<tr>\n",
       "  <th>GDcumAvg_Away</th>      <td>   -0.1672</td> <td>    0.098</td> <td>   -1.706</td> <td> 0.088</td> <td>   -0.359</td> <td>    0.025</td>\n",
       "</tr>\n",
       "<tr>\n",
       "  <th>xGDiff_cumAvg_Home</th> <td>    0.5623</td> <td>    0.136</td> <td>    4.124</td> <td> 0.000</td> <td>    0.295</td> <td>    0.830</td>\n",
       "</tr>\n",
       "<tr>\n",
       "  <th>xGDiff_cumAvg_Away</th> <td>   -0.6072</td> <td>    0.143</td> <td>   -4.260</td> <td> 0.000</td> <td>   -0.887</td> <td>   -0.328</td>\n",
       "</tr>\n",
       "<tr>\n",
       "  <th>STDiff_cumAvg_Home</th> <td>    0.0859</td> <td>    0.042</td> <td>    2.021</td> <td> 0.043</td> <td>    0.003</td> <td>    0.169</td>\n",
       "</tr>\n",
       "<tr>\n",
       "  <th>STDiff_cumAvg_Away</th> <td>   -0.0614</td> <td>    0.044</td> <td>   -1.411</td> <td> 0.158</td> <td>   -0.147</td> <td>    0.024</td>\n",
       "</tr>\n",
       "<tr>\n",
       "  <th>Win_streak_Home</th>    <td>    0.0599</td> <td>    0.023</td> <td>    2.647</td> <td> 0.008</td> <td>    0.016</td> <td>    0.104</td>\n",
       "</tr>\n",
       "<tr>\n",
       "  <th>Win_streak_Away</th>    <td>   -0.0342</td> <td>    0.022</td> <td>   -1.527</td> <td> 0.127</td> <td>   -0.078</td> <td>    0.010</td>\n",
       "</tr>\n",
       "<tr>\n",
       "  <th>Loss_streak_Home</th>   <td>   -0.0121</td> <td>    0.011</td> <td>   -1.117</td> <td> 0.264</td> <td>   -0.033</td> <td>    0.009</td>\n",
       "</tr>\n",
       "<tr>\n",
       "  <th>Loss_streak_Away</th>   <td>    0.0132</td> <td>    0.011</td> <td>    1.220</td> <td> 0.223</td> <td>   -0.008</td> <td>    0.034</td>\n",
       "</tr>\n",
       "</table>"
      ],
      "text/plain": [
       "<class 'statsmodels.iolib.summary.Summary'>\n",
       "\"\"\"\n",
       "                           Logit Regression Results                           \n",
       "==============================================================================\n",
       "Dep. Variable:                      y   No. Observations:                 7304\n",
       "Model:                          Logit   Df Residuals:                     7293\n",
       "Method:                           MLE   Df Model:                           10\n",
       "Date:                Wed, 17 Feb 2021   Pseudo R-squ.:                 0.09637\n",
       "Time:                        00:50:10   Log-Likelihood:                -4552.0\n",
       "converged:                       True   LL-Null:                       -5037.4\n",
       "Covariance Type:            nonrobust   LLR p-value:                3.444e-202\n",
       "======================================================================================\n",
       "                         coef    std err          z      P>|z|      [0.025      0.975]\n",
       "--------------------------------------------------------------------------------------\n",
       "const                 -0.1853      0.047     -3.915      0.000      -0.278      -0.093\n",
       "GDcumAvg_Home          0.1464      0.094      1.561      0.119      -0.037       0.330\n",
       "GDcumAvg_Away         -0.1672      0.098     -1.706      0.088      -0.359       0.025\n",
       "xGDiff_cumAvg_Home     0.5623      0.136      4.124      0.000       0.295       0.830\n",
       "xGDiff_cumAvg_Away    -0.6072      0.143     -4.260      0.000      -0.887      -0.328\n",
       "STDiff_cumAvg_Home     0.0859      0.042      2.021      0.043       0.003       0.169\n",
       "STDiff_cumAvg_Away    -0.0614      0.044     -1.411      0.158      -0.147       0.024\n",
       "Win_streak_Home        0.0599      0.023      2.647      0.008       0.016       0.104\n",
       "Win_streak_Away       -0.0342      0.022     -1.527      0.127      -0.078       0.010\n",
       "Loss_streak_Home      -0.0121      0.011     -1.117      0.264      -0.033       0.009\n",
       "Loss_streak_Away       0.0132      0.011      1.220      0.223      -0.008       0.034\n",
       "======================================================================================\n",
       "\"\"\""
      ]
     },
     "execution_count": 62,
     "metadata": {},
     "output_type": "execute_result"
    }
   ],
   "source": [
    "result.summary()"
   ]
  },
  {
   "cell_type": "code",
   "execution_count": 63,
   "metadata": {},
   "outputs": [
    {
     "data": {
      "text/plain": [
       "0.21549980891234885"
      ]
     },
     "execution_count": 63,
     "metadata": {},
     "output_type": "execute_result"
    }
   ],
   "source": [
    "y_pred = result.predict(X_test)\n",
    "brier_score_loss(y_test, y_pred)"
   ]
  },
  {
   "cell_type": "markdown",
   "metadata": {},
   "source": [
    "### (v) Favoured Team at Home"
   ]
  },
  {
   "cell_type": "code",
   "execution_count": 64,
   "metadata": {},
   "outputs": [],
   "source": [
    "pd.set_option('display.max_columns', None)"
   ]
  },
  {
   "cell_type": "code",
   "execution_count": 65,
   "metadata": {},
   "outputs": [],
   "source": [
    "def fave(v):\n",
    "    diff = v.GDcumAvg_Home - v.GDcumAvg_Away\n",
    "    if diff > 0:\n",
    "        v = diff\n",
    "    else:\n",
    "        v = 0\n",
    "    return v"
   ]
  },
  {
   "cell_type": "code",
   "execution_count": 66,
   "metadata": {},
   "outputs": [],
   "source": [
    "df.loc[:,'Fav_at_Home'] = df.apply(fave, axis = 1)"
   ]
  },
  {
   "cell_type": "code",
   "execution_count": 67,
   "metadata": {},
   "outputs": [
    {
     "name": "stderr",
     "output_type": "stream",
     "text": [
      "/Users/amandarella/anaconda3/envs/pfds/lib/python3.7/site-packages/numpy/core/fromnumeric.py:2495: FutureWarning: Method .ptp is deprecated and will be removed in a future version. Use numpy.ptp instead.\n",
      "  return ptp(axis=axis, out=out, **kwargs)\n"
     ]
    }
   ],
   "source": [
    "#build logit model\n",
    "\n",
    "train = df.loc[df.Y < 18]\n",
    "test = df.loc[df.Y == 18]\n",
    "\n",
    "y_train = train.y\n",
    "X_train = train[['GDcumAvg_Home','GDcumAvg_Away','xGDiff_cumAvg_Home','xGDiff_cumAvg_Away',\n",
    "                'STDiff_cumAvg_Home','STDiff_cumAvg_Away','Win_streak_Home','Win_streak_Away','Loss_streak_Home','Loss_streak_Away',\n",
    "                'Fav_at_Home']]\n",
    "X_train = sm.add_constant(X_train)\n",
    "\n",
    "y_test = test.y\n",
    "X_test = test[['GDcumAvg_Home','GDcumAvg_Away','xGDiff_cumAvg_Home','xGDiff_cumAvg_Away',\n",
    "              'STDiff_cumAvg_Home','STDiff_cumAvg_Away','Win_streak_Home','Win_streak_Away','Loss_streak_Home','Loss_streak_Away',\n",
    "              'Fav_at_Home']]\n",
    "X_test = sm.add_constant(X_test)"
   ]
  },
  {
   "cell_type": "code",
   "execution_count": 68,
   "metadata": {},
   "outputs": [
    {
     "name": "stdout",
     "output_type": "stream",
     "text": [
      "Optimization terminated successfully.\n",
      "         Current function value: 0.623100\n",
      "         Iterations 5\n"
     ]
    }
   ],
   "source": [
    "result = sm.Logit(y_train, X_train).fit()"
   ]
  },
  {
   "cell_type": "code",
   "execution_count": 69,
   "metadata": {},
   "outputs": [
    {
     "data": {
      "text/html": [
       "<table class=\"simpletable\">\n",
       "<caption>Logit Regression Results</caption>\n",
       "<tr>\n",
       "  <th>Dep. Variable:</th>           <td>y</td>        <th>  No. Observations:  </th>   <td>  7304</td>  \n",
       "</tr>\n",
       "<tr>\n",
       "  <th>Model:</th>                 <td>Logit</td>      <th>  Df Residuals:      </th>   <td>  7292</td>  \n",
       "</tr>\n",
       "<tr>\n",
       "  <th>Method:</th>                 <td>MLE</td>       <th>  Df Model:          </th>   <td>    11</td>  \n",
       "</tr>\n",
       "<tr>\n",
       "  <th>Date:</th>            <td>Wed, 17 Feb 2021</td> <th>  Pseudo R-squ.:     </th>   <td>0.09654</td> \n",
       "</tr>\n",
       "<tr>\n",
       "  <th>Time:</th>                <td>00:50:11</td>     <th>  Log-Likelihood:    </th>  <td> -4551.1</td> \n",
       "</tr>\n",
       "<tr>\n",
       "  <th>converged:</th>             <td>True</td>       <th>  LL-Null:           </th>  <td> -5037.4</td> \n",
       "</tr>\n",
       "<tr>\n",
       "  <th>Covariance Type:</th>     <td>nonrobust</td>    <th>  LLR p-value:       </th> <td>1.526e-201</td>\n",
       "</tr>\n",
       "</table>\n",
       "<table class=\"simpletable\">\n",
       "<tr>\n",
       "           <td></td>             <th>coef</th>     <th>std err</th>      <th>z</th>      <th>P>|z|</th>  <th>[0.025</th>    <th>0.975]</th>  \n",
       "</tr>\n",
       "<tr>\n",
       "  <th>const</th>              <td>   -0.2199</td> <td>    0.054</td> <td>   -4.042</td> <td> 0.000</td> <td>   -0.327</td> <td>   -0.113</td>\n",
       "</tr>\n",
       "<tr>\n",
       "  <th>GDcumAvg_Home</th>      <td>    0.0781</td> <td>    0.107</td> <td>    0.728</td> <td> 0.466</td> <td>   -0.132</td> <td>    0.288</td>\n",
       "</tr>\n",
       "<tr>\n",
       "  <th>GDcumAvg_Away</th>      <td>   -0.1012</td> <td>    0.110</td> <td>   -0.917</td> <td> 0.359</td> <td>   -0.317</td> <td>    0.115</td>\n",
       "</tr>\n",
       "<tr>\n",
       "  <th>xGDiff_cumAvg_Home</th> <td>    0.5489</td> <td>    0.137</td> <td>    4.020</td> <td> 0.000</td> <td>    0.281</td> <td>    0.817</td>\n",
       "</tr>\n",
       "<tr>\n",
       "  <th>xGDiff_cumAvg_Away</th> <td>   -0.6190</td> <td>    0.143</td> <td>   -4.335</td> <td> 0.000</td> <td>   -0.899</td> <td>   -0.339</td>\n",
       "</tr>\n",
       "<tr>\n",
       "  <th>STDiff_cumAvg_Home</th> <td>    0.0868</td> <td>    0.042</td> <td>    2.043</td> <td> 0.041</td> <td>    0.004</td> <td>    0.170</td>\n",
       "</tr>\n",
       "<tr>\n",
       "  <th>STDiff_cumAvg_Away</th> <td>   -0.0637</td> <td>    0.044</td> <td>   -1.461</td> <td> 0.144</td> <td>   -0.149</td> <td>    0.022</td>\n",
       "</tr>\n",
       "<tr>\n",
       "  <th>Win_streak_Home</th>    <td>    0.0583</td> <td>    0.023</td> <td>    2.567</td> <td> 0.010</td> <td>    0.014</td> <td>    0.103</td>\n",
       "</tr>\n",
       "<tr>\n",
       "  <th>Win_streak_Away</th>    <td>   -0.0368</td> <td>    0.022</td> <td>   -1.642</td> <td> 0.101</td> <td>   -0.081</td> <td>    0.007</td>\n",
       "</tr>\n",
       "<tr>\n",
       "  <th>Loss_streak_Home</th>   <td>   -0.0132</td> <td>    0.011</td> <td>   -1.215</td> <td> 0.224</td> <td>   -0.034</td> <td>    0.008</td>\n",
       "</tr>\n",
       "<tr>\n",
       "  <th>Loss_streak_Away</th>   <td>    0.0121</td> <td>    0.011</td> <td>    1.115</td> <td> 0.265</td> <td>   -0.009</td> <td>    0.033</td>\n",
       "</tr>\n",
       "<tr>\n",
       "  <th>Fav_at_Home</th>        <td>    0.1250</td> <td>    0.097</td> <td>    1.292</td> <td> 0.196</td> <td>   -0.065</td> <td>    0.315</td>\n",
       "</tr>\n",
       "</table>"
      ],
      "text/plain": [
       "<class 'statsmodels.iolib.summary.Summary'>\n",
       "\"\"\"\n",
       "                           Logit Regression Results                           \n",
       "==============================================================================\n",
       "Dep. Variable:                      y   No. Observations:                 7304\n",
       "Model:                          Logit   Df Residuals:                     7292\n",
       "Method:                           MLE   Df Model:                           11\n",
       "Date:                Wed, 17 Feb 2021   Pseudo R-squ.:                 0.09654\n",
       "Time:                        00:50:11   Log-Likelihood:                -4551.1\n",
       "converged:                       True   LL-Null:                       -5037.4\n",
       "Covariance Type:            nonrobust   LLR p-value:                1.526e-201\n",
       "======================================================================================\n",
       "                         coef    std err          z      P>|z|      [0.025      0.975]\n",
       "--------------------------------------------------------------------------------------\n",
       "const                 -0.2199      0.054     -4.042      0.000      -0.327      -0.113\n",
       "GDcumAvg_Home          0.0781      0.107      0.728      0.466      -0.132       0.288\n",
       "GDcumAvg_Away         -0.1012      0.110     -0.917      0.359      -0.317       0.115\n",
       "xGDiff_cumAvg_Home     0.5489      0.137      4.020      0.000       0.281       0.817\n",
       "xGDiff_cumAvg_Away    -0.6190      0.143     -4.335      0.000      -0.899      -0.339\n",
       "STDiff_cumAvg_Home     0.0868      0.042      2.043      0.041       0.004       0.170\n",
       "STDiff_cumAvg_Away    -0.0637      0.044     -1.461      0.144      -0.149       0.022\n",
       "Win_streak_Home        0.0583      0.023      2.567      0.010       0.014       0.103\n",
       "Win_streak_Away       -0.0368      0.022     -1.642      0.101      -0.081       0.007\n",
       "Loss_streak_Home      -0.0132      0.011     -1.215      0.224      -0.034       0.008\n",
       "Loss_streak_Away       0.0121      0.011      1.115      0.265      -0.009       0.033\n",
       "Fav_at_Home            0.1250      0.097      1.292      0.196      -0.065       0.315\n",
       "======================================================================================\n",
       "\"\"\""
      ]
     },
     "execution_count": 69,
     "metadata": {},
     "output_type": "execute_result"
    }
   ],
   "source": [
    "result.summary()"
   ]
  },
  {
   "cell_type": "code",
   "execution_count": 70,
   "metadata": {},
   "outputs": [
    {
     "data": {
      "text/plain": [
       "0.21535934007200755"
      ]
     },
     "execution_count": 70,
     "metadata": {},
     "output_type": "execute_result"
    }
   ],
   "source": [
    "y_pred = result.predict(X_test)\n",
    "brier_score_loss(y_test, y_pred)"
   ]
  }
 ],
 "metadata": {
  "kernelspec": {
   "display_name": "Python 3",
   "language": "python",
   "name": "python3"
  },
  "language_info": {
   "codemirror_mode": {
    "name": "ipython",
    "version": 3
   },
   "file_extension": ".py",
   "mimetype": "text/x-python",
   "name": "python",
   "nbconvert_exporter": "python",
   "pygments_lexer": "ipython3",
   "version": "3.7.3"
  }
 },
 "nbformat": 4,
 "nbformat_minor": 4
}
