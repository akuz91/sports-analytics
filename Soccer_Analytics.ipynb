{
 "cells": [
  {
   "cell_type": "markdown",
   "metadata": {},
   "source": [
    "# Homework 1: Soccer Analytics, and the European League System\n",
    "Amanda Kuznecov (anr431)"
   ]
  },
  {
   "cell_type": "code",
   "execution_count": 4,
   "metadata": {},
   "outputs": [],
   "source": [
    "import pandas as pd\n",
    "import numpy as np\n",
    "import matplotlib.pyplot as plt\n",
    "import math\n",
    "from scipy.stats import poisson\n",
    "import random"
   ]
  },
  {
   "cell_type": "code",
   "execution_count": 5,
   "metadata": {},
   "outputs": [],
   "source": [
    "import os\n",
    "os.chdir('/Users/amandarella/Documents/NYU/DS-GA_3001_Sports_Data/Lectures/Lecture_1')"
   ]
  },
  {
   "cell_type": "code",
   "execution_count": 6,
   "metadata": {},
   "outputs": [],
   "source": [
    "#read in data with certain columns\n",
    "df = pd.read_csv('soccer17.csv', index_col = False, \n",
    "                 parse_dates = ['Date'])\n",
    "\n",
    "#include Game ID to differentiate games for future use\n",
    "df.loc[:,'Game_ID'] = df.index\n",
    "\n",
    "#rename columns\n",
    "df = df.rename({'HomeTeam': 'Team_Home','AwayTeam': 'Team_Away',\n",
    "                'FTHG': 'FTG_Home','FTAG': 'FTG_Away',\n",
    "                'HTHG': 'HTG_Home','HTAG': 'HTG_Away'}, axis=1)"
   ]
  },
  {
   "cell_type": "markdown",
   "metadata": {},
   "source": [
    "## Question 1: Goal Differentials\n",
    "\n",
    "### Part 1a"
   ]
  },
  {
   "cell_type": "code",
   "execution_count": 7,
   "metadata": {},
   "outputs": [],
   "source": [
    "df_gd = df.copy()\n",
    "#calculate goal differentials for home and away teams of each match\n",
    "df_gd.loc[:,'GD_Home'] = df_gd.loc[:,'FTG_Home']-df_gd.loc[:,'FTG_Away']\n",
    "df_gd.loc[:,'GD_Away'] = df_gd.loc[:,'FTG_Away']-df_gd.loc[:,'FTG_Home']"
   ]
  },
  {
   "cell_type": "code",
   "execution_count": 8,
   "metadata": {},
   "outputs": [],
   "source": [
    "#only need goal differential columns; drop others\n",
    "df_gd= df_gd.drop(columns = ['FTG_Home','FTG_Away','HTG_Home',\n",
    "                             'HTG_Away','pH','pD','pA'], axis=1)"
   ]
  },
  {
   "cell_type": "code",
   "execution_count": 9,
   "metadata": {},
   "outputs": [],
   "source": [
    "#pivot table to get all goal differentials in one column\n",
    "df_long = pd.wide_to_long(df_gd, ['Team','GD'], i = ['Game_ID'], \n",
    "                          j = 'isHome', sep = '_', suffix = r'\\w+')\n",
    "\n",
    "#reindex to get rid of multi-index\n",
    "df_long = df_long.reset_index().sort_values(['Date','Game_ID']) \n",
    "\n",
    "#remove columns not needed\n",
    "df_long = df_long.drop(columns = ['isHome'])"
   ]
  },
  {
   "cell_type": "code",
   "execution_count": 10,
   "metadata": {},
   "outputs": [],
   "source": [
    "#create function for new column noting whether team won or loss\n",
    "def result(df):\n",
    "    if df.GD == 0:\n",
    "        val = 'Draw'\n",
    "    elif df.GD > 0:\n",
    "        val = 'Win'\n",
    "    else:\n",
    "        val = 'Loss'\n",
    "    return val"
   ]
  },
  {
   "cell_type": "code",
   "execution_count": 11,
   "metadata": {},
   "outputs": [],
   "source": [
    "#apply function to table\n",
    "df_long.loc[:,'Result'] = df_long.apply(result,axis=1)"
   ]
  },
  {
   "cell_type": "code",
   "execution_count": 12,
   "metadata": {},
   "outputs": [],
   "source": [
    "#create copy with only English Premier League data for 2017 season\n",
    "df_epl = df_long.loc[(df_long.Div=='EPL') & (df_long.Y == 17)].copy()"
   ]
  },
  {
   "cell_type": "code",
   "execution_count": 13,
   "metadata": {},
   "outputs": [],
   "source": [
    "#group data by team names\n",
    "group_team = df_epl.groupby('Team')"
   ]
  },
  {
   "cell_type": "code",
   "execution_count": 14,
   "metadata": {},
   "outputs": [],
   "source": [
    "#create summary table\n",
    "epl_summary = group_team.agg(\n",
    "    GD_avg = pd.NamedAgg(column = 'GD', aggfunc = 'mean'),\n",
    "    Num_games = pd.NamedAgg(column = 'Game_ID', aggfunc = 'count'),\n",
    "    Wins = pd.NamedAgg(column = 'Result', \n",
    "                       aggfunc=lambda x: (x == 'Win').sum()),\n",
    "    Draws = pd.NamedAgg(column = 'Result', \n",
    "                        aggfunc=lambda x: (x == 'Draw').sum()),\n",
    "    Losses = pd.NamedAgg(column = 'Result', \n",
    "                         aggfunc=lambda x: (x == 'Loss').sum()),\n",
    ")"
   ]
  },
  {
   "cell_type": "code",
   "execution_count": 15,
   "metadata": {},
   "outputs": [],
   "source": [
    "#create copy of dataframe\n",
    "epl_gd = epl_summary.copy()\n",
    "\n",
    "#create new ranking column by goal differential average\n",
    "epl_gd.loc[:,'Rank']= (epl_gd['GD_avg'].rank(ascending=False)).astype(int)\n",
    "\n",
    "#set rank as index\n",
    "epl_gd = epl_gd.reset_index()\n",
    "epl_gd = epl_gd.set_index('Rank')\n",
    "epl_gd = epl_gd.sort_index()"
   ]
  },
  {
   "cell_type": "code",
   "execution_count": 16,
   "metadata": {},
   "outputs": [
    {
     "data": {
      "text/html": [
       "<div>\n",
       "<style scoped>\n",
       "    .dataframe tbody tr th:only-of-type {\n",
       "        vertical-align: middle;\n",
       "    }\n",
       "\n",
       "    .dataframe tbody tr th {\n",
       "        vertical-align: top;\n",
       "    }\n",
       "\n",
       "    .dataframe thead th {\n",
       "        text-align: right;\n",
       "    }\n",
       "</style>\n",
       "<table border=\"1\" class=\"dataframe\">\n",
       "  <thead>\n",
       "    <tr style=\"text-align: right;\">\n",
       "      <th></th>\n",
       "      <th>Team</th>\n",
       "      <th>GD_avg</th>\n",
       "      <th>Num_games</th>\n",
       "      <th>Wins</th>\n",
       "      <th>Draws</th>\n",
       "      <th>Losses</th>\n",
       "    </tr>\n",
       "    <tr>\n",
       "      <th>Rank</th>\n",
       "      <th></th>\n",
       "      <th></th>\n",
       "      <th></th>\n",
       "      <th></th>\n",
       "      <th></th>\n",
       "      <th></th>\n",
       "    </tr>\n",
       "  </thead>\n",
       "  <tbody>\n",
       "    <tr>\n",
       "      <th>1</th>\n",
       "      <td>Man City</td>\n",
       "      <td>2.078947</td>\n",
       "      <td>38</td>\n",
       "      <td>32</td>\n",
       "      <td>4</td>\n",
       "      <td>2</td>\n",
       "    </tr>\n",
       "    <tr>\n",
       "      <th>2</th>\n",
       "      <td>Liverpool</td>\n",
       "      <td>1.210526</td>\n",
       "      <td>38</td>\n",
       "      <td>21</td>\n",
       "      <td>12</td>\n",
       "      <td>5</td>\n",
       "    </tr>\n",
       "    <tr>\n",
       "      <th>3</th>\n",
       "      <td>Man United</td>\n",
       "      <td>1.052632</td>\n",
       "      <td>38</td>\n",
       "      <td>25</td>\n",
       "      <td>6</td>\n",
       "      <td>7</td>\n",
       "    </tr>\n",
       "    <tr>\n",
       "      <th>4</th>\n",
       "      <td>Tottenham</td>\n",
       "      <td>1.000000</td>\n",
       "      <td>38</td>\n",
       "      <td>23</td>\n",
       "      <td>8</td>\n",
       "      <td>7</td>\n",
       "    </tr>\n",
       "    <tr>\n",
       "      <th>5</th>\n",
       "      <td>Chelsea</td>\n",
       "      <td>0.631579</td>\n",
       "      <td>38</td>\n",
       "      <td>21</td>\n",
       "      <td>7</td>\n",
       "      <td>10</td>\n",
       "    </tr>\n",
       "    <tr>\n",
       "      <th>6</th>\n",
       "      <td>Arsenal</td>\n",
       "      <td>0.605263</td>\n",
       "      <td>38</td>\n",
       "      <td>19</td>\n",
       "      <td>6</td>\n",
       "      <td>13</td>\n",
       "    </tr>\n",
       "    <tr>\n",
       "      <th>7</th>\n",
       "      <td>Burnley</td>\n",
       "      <td>-0.078947</td>\n",
       "      <td>38</td>\n",
       "      <td>14</td>\n",
       "      <td>12</td>\n",
       "      <td>12</td>\n",
       "    </tr>\n",
       "    <tr>\n",
       "      <th>8</th>\n",
       "      <td>Leicester</td>\n",
       "      <td>-0.105263</td>\n",
       "      <td>38</td>\n",
       "      <td>12</td>\n",
       "      <td>11</td>\n",
       "      <td>15</td>\n",
       "    </tr>\n",
       "    <tr>\n",
       "      <th>9</th>\n",
       "      <td>Newcastle</td>\n",
       "      <td>-0.210526</td>\n",
       "      <td>38</td>\n",
       "      <td>12</td>\n",
       "      <td>8</td>\n",
       "      <td>18</td>\n",
       "    </tr>\n",
       "    <tr>\n",
       "      <th>10</th>\n",
       "      <td>Crystal Palace</td>\n",
       "      <td>-0.263158</td>\n",
       "      <td>38</td>\n",
       "      <td>11</td>\n",
       "      <td>11</td>\n",
       "      <td>16</td>\n",
       "    </tr>\n",
       "    <tr>\n",
       "      <th>11</th>\n",
       "      <td>Everton</td>\n",
       "      <td>-0.368421</td>\n",
       "      <td>38</td>\n",
       "      <td>13</td>\n",
       "      <td>10</td>\n",
       "      <td>15</td>\n",
       "    </tr>\n",
       "    <tr>\n",
       "      <th>12</th>\n",
       "      <td>Bournemouth</td>\n",
       "      <td>-0.421053</td>\n",
       "      <td>38</td>\n",
       "      <td>11</td>\n",
       "      <td>11</td>\n",
       "      <td>16</td>\n",
       "    </tr>\n",
       "    <tr>\n",
       "      <th>13</th>\n",
       "      <td>Southampton</td>\n",
       "      <td>-0.500000</td>\n",
       "      <td>38</td>\n",
       "      <td>7</td>\n",
       "      <td>15</td>\n",
       "      <td>16</td>\n",
       "    </tr>\n",
       "    <tr>\n",
       "      <th>15</th>\n",
       "      <td>Brighton</td>\n",
       "      <td>-0.526316</td>\n",
       "      <td>38</td>\n",
       "      <td>9</td>\n",
       "      <td>13</td>\n",
       "      <td>16</td>\n",
       "    </tr>\n",
       "    <tr>\n",
       "      <th>15</th>\n",
       "      <td>Watford</td>\n",
       "      <td>-0.526316</td>\n",
       "      <td>38</td>\n",
       "      <td>11</td>\n",
       "      <td>8</td>\n",
       "      <td>19</td>\n",
       "    </tr>\n",
       "    <tr>\n",
       "      <th>15</th>\n",
       "      <td>West Ham</td>\n",
       "      <td>-0.526316</td>\n",
       "      <td>38</td>\n",
       "      <td>10</td>\n",
       "      <td>12</td>\n",
       "      <td>16</td>\n",
       "    </tr>\n",
       "    <tr>\n",
       "      <th>17</th>\n",
       "      <td>West Brom</td>\n",
       "      <td>-0.657895</td>\n",
       "      <td>38</td>\n",
       "      <td>6</td>\n",
       "      <td>13</td>\n",
       "      <td>19</td>\n",
       "    </tr>\n",
       "    <tr>\n",
       "      <th>18</th>\n",
       "      <td>Swansea</td>\n",
       "      <td>-0.736842</td>\n",
       "      <td>38</td>\n",
       "      <td>8</td>\n",
       "      <td>9</td>\n",
       "      <td>21</td>\n",
       "    </tr>\n",
       "    <tr>\n",
       "      <th>19</th>\n",
       "      <td>Huddersfield</td>\n",
       "      <td>-0.789474</td>\n",
       "      <td>38</td>\n",
       "      <td>9</td>\n",
       "      <td>10</td>\n",
       "      <td>19</td>\n",
       "    </tr>\n",
       "    <tr>\n",
       "      <th>20</th>\n",
       "      <td>Stoke</td>\n",
       "      <td>-0.868421</td>\n",
       "      <td>38</td>\n",
       "      <td>7</td>\n",
       "      <td>12</td>\n",
       "      <td>19</td>\n",
       "    </tr>\n",
       "  </tbody>\n",
       "</table>\n",
       "</div>"
      ],
      "text/plain": [
       "                Team    GD_avg  Num_games  Wins  Draws  Losses\n",
       "Rank                                                          \n",
       "1           Man City  2.078947         38    32      4       2\n",
       "2          Liverpool  1.210526         38    21     12       5\n",
       "3         Man United  1.052632         38    25      6       7\n",
       "4          Tottenham  1.000000         38    23      8       7\n",
       "5            Chelsea  0.631579         38    21      7      10\n",
       "6            Arsenal  0.605263         38    19      6      13\n",
       "7            Burnley -0.078947         38    14     12      12\n",
       "8          Leicester -0.105263         38    12     11      15\n",
       "9          Newcastle -0.210526         38    12      8      18\n",
       "10    Crystal Palace -0.263158         38    11     11      16\n",
       "11           Everton -0.368421         38    13     10      15\n",
       "12       Bournemouth -0.421053         38    11     11      16\n",
       "13       Southampton -0.500000         38     7     15      16\n",
       "15          Brighton -0.526316         38     9     13      16\n",
       "15           Watford -0.526316         38    11      8      19\n",
       "15          West Ham -0.526316         38    10     12      16\n",
       "17         West Brom -0.657895         38     6     13      19\n",
       "18           Swansea -0.736842         38     8      9      21\n",
       "19      Huddersfield -0.789474         38     9     10      19\n",
       "20             Stoke -0.868421         38     7     12      19"
      ]
     },
     "execution_count": 16,
     "metadata": {},
     "output_type": "execute_result"
    }
   ],
   "source": [
    "epl_gd"
   ]
  },
  {
   "cell_type": "markdown",
   "metadata": {},
   "source": [
    "### Part 1b"
   ]
  },
  {
   "cell_type": "code",
   "execution_count": 17,
   "metadata": {},
   "outputs": [],
   "source": [
    "#create function to calculate number of points\n",
    "def points(df):\n",
    "    val = df.Wins*3 + df.Draws\n",
    "    return int(val)"
   ]
  },
  {
   "cell_type": "code",
   "execution_count": 18,
   "metadata": {},
   "outputs": [],
   "source": [
    "#apply function to table\n",
    "epl_summary.loc[:,'Points'] = epl_summary.apply(points, axis=1)"
   ]
  },
  {
   "cell_type": "code",
   "execution_count": 19,
   "metadata": {},
   "outputs": [],
   "source": [
    "#create copy of dataframe\n",
    "epl_points = epl_summary.copy()\n",
    "\n",
    "#create new ranking column by goal differential average\n",
    "epl_points.loc[:,'Rank']= (epl_points['Points'].rank(ascending=False)).astype(int)\n",
    "\n",
    "#set rank as index\n",
    "epl_points = epl_points.reset_index()\n",
    "epl_points = epl_points.set_index('Rank')\n",
    "epl_points= epl_points.sort_index()"
   ]
  },
  {
   "cell_type": "code",
   "execution_count": 20,
   "metadata": {},
   "outputs": [
    {
     "data": {
      "text/html": [
       "<div>\n",
       "<style scoped>\n",
       "    .dataframe tbody tr th:only-of-type {\n",
       "        vertical-align: middle;\n",
       "    }\n",
       "\n",
       "    .dataframe tbody tr th {\n",
       "        vertical-align: top;\n",
       "    }\n",
       "\n",
       "    .dataframe thead th {\n",
       "        text-align: right;\n",
       "    }\n",
       "</style>\n",
       "<table border=\"1\" class=\"dataframe\">\n",
       "  <thead>\n",
       "    <tr style=\"text-align: right;\">\n",
       "      <th></th>\n",
       "      <th>Team</th>\n",
       "      <th>GD_avg</th>\n",
       "      <th>Num_games</th>\n",
       "      <th>Wins</th>\n",
       "      <th>Draws</th>\n",
       "      <th>Losses</th>\n",
       "      <th>Points</th>\n",
       "    </tr>\n",
       "    <tr>\n",
       "      <th>Rank</th>\n",
       "      <th></th>\n",
       "      <th></th>\n",
       "      <th></th>\n",
       "      <th></th>\n",
       "      <th></th>\n",
       "      <th></th>\n",
       "      <th></th>\n",
       "    </tr>\n",
       "  </thead>\n",
       "  <tbody>\n",
       "    <tr>\n",
       "      <th>1</th>\n",
       "      <td>Man City</td>\n",
       "      <td>2.078947</td>\n",
       "      <td>38</td>\n",
       "      <td>32</td>\n",
       "      <td>4</td>\n",
       "      <td>2</td>\n",
       "      <td>100</td>\n",
       "    </tr>\n",
       "    <tr>\n",
       "      <th>2</th>\n",
       "      <td>Man United</td>\n",
       "      <td>1.052632</td>\n",
       "      <td>38</td>\n",
       "      <td>25</td>\n",
       "      <td>6</td>\n",
       "      <td>7</td>\n",
       "      <td>81</td>\n",
       "    </tr>\n",
       "    <tr>\n",
       "      <th>3</th>\n",
       "      <td>Tottenham</td>\n",
       "      <td>1.000000</td>\n",
       "      <td>38</td>\n",
       "      <td>23</td>\n",
       "      <td>8</td>\n",
       "      <td>7</td>\n",
       "      <td>77</td>\n",
       "    </tr>\n",
       "    <tr>\n",
       "      <th>4</th>\n",
       "      <td>Liverpool</td>\n",
       "      <td>1.210526</td>\n",
       "      <td>38</td>\n",
       "      <td>21</td>\n",
       "      <td>12</td>\n",
       "      <td>5</td>\n",
       "      <td>75</td>\n",
       "    </tr>\n",
       "    <tr>\n",
       "      <th>5</th>\n",
       "      <td>Chelsea</td>\n",
       "      <td>0.631579</td>\n",
       "      <td>38</td>\n",
       "      <td>21</td>\n",
       "      <td>7</td>\n",
       "      <td>10</td>\n",
       "      <td>70</td>\n",
       "    </tr>\n",
       "    <tr>\n",
       "      <th>6</th>\n",
       "      <td>Arsenal</td>\n",
       "      <td>0.605263</td>\n",
       "      <td>38</td>\n",
       "      <td>19</td>\n",
       "      <td>6</td>\n",
       "      <td>13</td>\n",
       "      <td>63</td>\n",
       "    </tr>\n",
       "    <tr>\n",
       "      <th>7</th>\n",
       "      <td>Burnley</td>\n",
       "      <td>-0.078947</td>\n",
       "      <td>38</td>\n",
       "      <td>14</td>\n",
       "      <td>12</td>\n",
       "      <td>12</td>\n",
       "      <td>54</td>\n",
       "    </tr>\n",
       "    <tr>\n",
       "      <th>8</th>\n",
       "      <td>Everton</td>\n",
       "      <td>-0.368421</td>\n",
       "      <td>38</td>\n",
       "      <td>13</td>\n",
       "      <td>10</td>\n",
       "      <td>15</td>\n",
       "      <td>49</td>\n",
       "    </tr>\n",
       "    <tr>\n",
       "      <th>9</th>\n",
       "      <td>Leicester</td>\n",
       "      <td>-0.105263</td>\n",
       "      <td>38</td>\n",
       "      <td>12</td>\n",
       "      <td>11</td>\n",
       "      <td>15</td>\n",
       "      <td>47</td>\n",
       "    </tr>\n",
       "    <tr>\n",
       "      <th>11</th>\n",
       "      <td>Newcastle</td>\n",
       "      <td>-0.210526</td>\n",
       "      <td>38</td>\n",
       "      <td>12</td>\n",
       "      <td>8</td>\n",
       "      <td>18</td>\n",
       "      <td>44</td>\n",
       "    </tr>\n",
       "    <tr>\n",
       "      <th>11</th>\n",
       "      <td>Bournemouth</td>\n",
       "      <td>-0.421053</td>\n",
       "      <td>38</td>\n",
       "      <td>11</td>\n",
       "      <td>11</td>\n",
       "      <td>16</td>\n",
       "      <td>44</td>\n",
       "    </tr>\n",
       "    <tr>\n",
       "      <th>11</th>\n",
       "      <td>Crystal Palace</td>\n",
       "      <td>-0.263158</td>\n",
       "      <td>38</td>\n",
       "      <td>11</td>\n",
       "      <td>11</td>\n",
       "      <td>16</td>\n",
       "      <td>44</td>\n",
       "    </tr>\n",
       "    <tr>\n",
       "      <th>13</th>\n",
       "      <td>West Ham</td>\n",
       "      <td>-0.526316</td>\n",
       "      <td>38</td>\n",
       "      <td>10</td>\n",
       "      <td>12</td>\n",
       "      <td>16</td>\n",
       "      <td>42</td>\n",
       "    </tr>\n",
       "    <tr>\n",
       "      <th>14</th>\n",
       "      <td>Watford</td>\n",
       "      <td>-0.526316</td>\n",
       "      <td>38</td>\n",
       "      <td>11</td>\n",
       "      <td>8</td>\n",
       "      <td>19</td>\n",
       "      <td>41</td>\n",
       "    </tr>\n",
       "    <tr>\n",
       "      <th>15</th>\n",
       "      <td>Brighton</td>\n",
       "      <td>-0.526316</td>\n",
       "      <td>38</td>\n",
       "      <td>9</td>\n",
       "      <td>13</td>\n",
       "      <td>16</td>\n",
       "      <td>40</td>\n",
       "    </tr>\n",
       "    <tr>\n",
       "      <th>16</th>\n",
       "      <td>Huddersfield</td>\n",
       "      <td>-0.789474</td>\n",
       "      <td>38</td>\n",
       "      <td>9</td>\n",
       "      <td>10</td>\n",
       "      <td>19</td>\n",
       "      <td>37</td>\n",
       "    </tr>\n",
       "    <tr>\n",
       "      <th>17</th>\n",
       "      <td>Southampton</td>\n",
       "      <td>-0.500000</td>\n",
       "      <td>38</td>\n",
       "      <td>7</td>\n",
       "      <td>15</td>\n",
       "      <td>16</td>\n",
       "      <td>36</td>\n",
       "    </tr>\n",
       "    <tr>\n",
       "      <th>18</th>\n",
       "      <td>Stoke</td>\n",
       "      <td>-0.868421</td>\n",
       "      <td>38</td>\n",
       "      <td>7</td>\n",
       "      <td>12</td>\n",
       "      <td>19</td>\n",
       "      <td>33</td>\n",
       "    </tr>\n",
       "    <tr>\n",
       "      <th>18</th>\n",
       "      <td>Swansea</td>\n",
       "      <td>-0.736842</td>\n",
       "      <td>38</td>\n",
       "      <td>8</td>\n",
       "      <td>9</td>\n",
       "      <td>21</td>\n",
       "      <td>33</td>\n",
       "    </tr>\n",
       "    <tr>\n",
       "      <th>20</th>\n",
       "      <td>West Brom</td>\n",
       "      <td>-0.657895</td>\n",
       "      <td>38</td>\n",
       "      <td>6</td>\n",
       "      <td>13</td>\n",
       "      <td>19</td>\n",
       "      <td>31</td>\n",
       "    </tr>\n",
       "  </tbody>\n",
       "</table>\n",
       "</div>"
      ],
      "text/plain": [
       "                Team    GD_avg  Num_games  Wins  Draws  Losses  Points\n",
       "Rank                                                                  \n",
       "1           Man City  2.078947         38    32      4       2     100\n",
       "2         Man United  1.052632         38    25      6       7      81\n",
       "3          Tottenham  1.000000         38    23      8       7      77\n",
       "4          Liverpool  1.210526         38    21     12       5      75\n",
       "5            Chelsea  0.631579         38    21      7      10      70\n",
       "6            Arsenal  0.605263         38    19      6      13      63\n",
       "7            Burnley -0.078947         38    14     12      12      54\n",
       "8            Everton -0.368421         38    13     10      15      49\n",
       "9          Leicester -0.105263         38    12     11      15      47\n",
       "11         Newcastle -0.210526         38    12      8      18      44\n",
       "11       Bournemouth -0.421053         38    11     11      16      44\n",
       "11    Crystal Palace -0.263158         38    11     11      16      44\n",
       "13          West Ham -0.526316         38    10     12      16      42\n",
       "14           Watford -0.526316         38    11      8      19      41\n",
       "15          Brighton -0.526316         38     9     13      16      40\n",
       "16      Huddersfield -0.789474         38     9     10      19      37\n",
       "17       Southampton -0.500000         38     7     15      16      36\n",
       "18             Stoke -0.868421         38     7     12      19      33\n",
       "18           Swansea -0.736842         38     8      9      21      33\n",
       "20         West Brom -0.657895         38     6     13      19      31"
      ]
     },
     "execution_count": 20,
     "metadata": {},
     "output_type": "execute_result"
    }
   ],
   "source": [
    "epl_points"
   ]
  },
  {
   "cell_type": "code",
   "execution_count": null,
   "metadata": {},
   "outputs": [],
   "source": []
  },
  {
   "cell_type": "code",
   "execution_count": null,
   "metadata": {},
   "outputs": [],
   "source": []
  },
  {
   "cell_type": "markdown",
   "metadata": {},
   "source": [
    "### Part 1c"
   ]
  },
  {
   "cell_type": "code",
   "execution_count": 21,
   "metadata": {},
   "outputs": [],
   "source": [
    "#function to extract top 3 teams per league by average goal differential\n",
    "def top_gd_avg(df, league):\n",
    "    #filter data by league and year\n",
    "    div_df = df.loc[(df.Div==league) & (df_long.Y == 17)].copy()\n",
    "    \n",
    "    #group data by league then team names\n",
    "    group_team = div_df.groupby(['Div','Team'])\n",
    "    \n",
    "    #create summary table\n",
    "    summary = group_team.agg(\n",
    "    GD_avg = pd.NamedAgg(column = 'GD', aggfunc = 'mean'),\n",
    "    Num_games = pd.NamedAgg(column = 'Game_ID', aggfunc = 'count'),\n",
    "    Wins = pd.NamedAgg(column = 'Result', \n",
    "                       aggfunc=lambda x: (x == 'Win').sum()),\n",
    "    Draws = pd.NamedAgg(column = 'Result', \n",
    "                        aggfunc=lambda x: (x == 'Draw').sum()),\n",
    "    Losses = pd.NamedAgg(column = 'Result', \n",
    "                         aggfunc=lambda x: (x == 'Loss').sum())\n",
    "    )\n",
    "    \n",
    "    #apply points func to get points\n",
    "    summary.loc[:,'Points'] = summary.apply(points, axis=1)\n",
    "    \n",
    "    #get top 3 teams by goal differential\n",
    "    div_gd = summary.sort_values(['GD_avg'],ascending = False)\n",
    "    div_gd = div_gd[:3]\n",
    "    \n",
    "    return div_gd"
   ]
  },
  {
   "cell_type": "code",
   "execution_count": 22,
   "metadata": {},
   "outputs": [],
   "source": [
    "#get names of all leagues\n",
    "divisions = df_long.loc[:,'Div'].unique()\n",
    "\n",
    "#create empty dataframe to store top teams in each league by avg goal differential\n",
    "top_teams = pd.DataFrame()\n",
    "\n",
    "#extract top 3 teams by goal differential from each league\n",
    "for div in divisions:\n",
    "    top_teams = pd.concat([top_teams,top_gd_avg(df_long,div)])"
   ]
  },
  {
   "cell_type": "code",
   "execution_count": 23,
   "metadata": {
    "scrolled": false
   },
   "outputs": [
    {
     "data": {
      "text/html": [
       "<div>\n",
       "<style scoped>\n",
       "    .dataframe tbody tr th:only-of-type {\n",
       "        vertical-align: middle;\n",
       "    }\n",
       "\n",
       "    .dataframe tbody tr th {\n",
       "        vertical-align: top;\n",
       "    }\n",
       "\n",
       "    .dataframe thead th {\n",
       "        text-align: right;\n",
       "    }\n",
       "</style>\n",
       "<table border=\"1\" class=\"dataframe\">\n",
       "  <thead>\n",
       "    <tr style=\"text-align: right;\">\n",
       "      <th></th>\n",
       "      <th></th>\n",
       "      <th>GD_avg</th>\n",
       "      <th>Num_games</th>\n",
       "      <th>Wins</th>\n",
       "      <th>Draws</th>\n",
       "      <th>Losses</th>\n",
       "      <th>Points</th>\n",
       "    </tr>\n",
       "    <tr>\n",
       "      <th>Div</th>\n",
       "      <th>Team</th>\n",
       "      <th></th>\n",
       "      <th></th>\n",
       "      <th></th>\n",
       "      <th></th>\n",
       "      <th></th>\n",
       "      <th></th>\n",
       "    </tr>\n",
       "  </thead>\n",
       "  <tbody>\n",
       "    <tr>\n",
       "      <th rowspan=\"3\" valign=\"top\">Bundesliga</th>\n",
       "      <th>Bayern Munich</th>\n",
       "      <td>1.882353</td>\n",
       "      <td>34</td>\n",
       "      <td>27</td>\n",
       "      <td>3</td>\n",
       "      <td>4</td>\n",
       "      <td>84</td>\n",
       "    </tr>\n",
       "    <tr>\n",
       "      <th>Hoffenheim</th>\n",
       "      <td>0.529412</td>\n",
       "      <td>34</td>\n",
       "      <td>15</td>\n",
       "      <td>10</td>\n",
       "      <td>9</td>\n",
       "      <td>55</td>\n",
       "    </tr>\n",
       "    <tr>\n",
       "      <th>Dortmund</th>\n",
       "      <td>0.500000</td>\n",
       "      <td>34</td>\n",
       "      <td>15</td>\n",
       "      <td>10</td>\n",
       "      <td>9</td>\n",
       "      <td>55</td>\n",
       "    </tr>\n",
       "    <tr>\n",
       "      <th rowspan=\"3\" valign=\"top\">EPL</th>\n",
       "      <th>Man City</th>\n",
       "      <td>2.078947</td>\n",
       "      <td>38</td>\n",
       "      <td>32</td>\n",
       "      <td>4</td>\n",
       "      <td>2</td>\n",
       "      <td>100</td>\n",
       "    </tr>\n",
       "    <tr>\n",
       "      <th>Liverpool</th>\n",
       "      <td>1.210526</td>\n",
       "      <td>38</td>\n",
       "      <td>21</td>\n",
       "      <td>12</td>\n",
       "      <td>5</td>\n",
       "      <td>75</td>\n",
       "    </tr>\n",
       "    <tr>\n",
       "      <th>Man United</th>\n",
       "      <td>1.052632</td>\n",
       "      <td>38</td>\n",
       "      <td>25</td>\n",
       "      <td>6</td>\n",
       "      <td>7</td>\n",
       "      <td>81</td>\n",
       "    </tr>\n",
       "    <tr>\n",
       "      <th rowspan=\"3\" valign=\"top\">La_Liga</th>\n",
       "      <th>Barcelona</th>\n",
       "      <td>1.842105</td>\n",
       "      <td>38</td>\n",
       "      <td>28</td>\n",
       "      <td>9</td>\n",
       "      <td>1</td>\n",
       "      <td>93</td>\n",
       "    </tr>\n",
       "    <tr>\n",
       "      <th>Real Madrid</th>\n",
       "      <td>1.315789</td>\n",
       "      <td>38</td>\n",
       "      <td>22</td>\n",
       "      <td>10</td>\n",
       "      <td>6</td>\n",
       "      <td>76</td>\n",
       "    </tr>\n",
       "    <tr>\n",
       "      <th>Ath Madrid</th>\n",
       "      <td>0.947368</td>\n",
       "      <td>38</td>\n",
       "      <td>23</td>\n",
       "      <td>10</td>\n",
       "      <td>5</td>\n",
       "      <td>79</td>\n",
       "    </tr>\n",
       "    <tr>\n",
       "      <th rowspan=\"3\" valign=\"top\">Ligue_1</th>\n",
       "      <th>Paris SG</th>\n",
       "      <td>2.078947</td>\n",
       "      <td>38</td>\n",
       "      <td>29</td>\n",
       "      <td>6</td>\n",
       "      <td>3</td>\n",
       "      <td>93</td>\n",
       "    </tr>\n",
       "    <tr>\n",
       "      <th>Lyon</th>\n",
       "      <td>1.157895</td>\n",
       "      <td>38</td>\n",
       "      <td>23</td>\n",
       "      <td>9</td>\n",
       "      <td>6</td>\n",
       "      <td>78</td>\n",
       "    </tr>\n",
       "    <tr>\n",
       "      <th>Monaco</th>\n",
       "      <td>1.052632</td>\n",
       "      <td>38</td>\n",
       "      <td>24</td>\n",
       "      <td>8</td>\n",
       "      <td>6</td>\n",
       "      <td>80</td>\n",
       "    </tr>\n",
       "    <tr>\n",
       "      <th rowspan=\"3\" valign=\"top\">Serie_A</th>\n",
       "      <th>Juventus</th>\n",
       "      <td>1.631579</td>\n",
       "      <td>38</td>\n",
       "      <td>30</td>\n",
       "      <td>5</td>\n",
       "      <td>3</td>\n",
       "      <td>95</td>\n",
       "    </tr>\n",
       "    <tr>\n",
       "      <th>Napoli</th>\n",
       "      <td>1.263158</td>\n",
       "      <td>38</td>\n",
       "      <td>28</td>\n",
       "      <td>7</td>\n",
       "      <td>3</td>\n",
       "      <td>91</td>\n",
       "    </tr>\n",
       "    <tr>\n",
       "      <th>Lazio</th>\n",
       "      <td>1.052632</td>\n",
       "      <td>38</td>\n",
       "      <td>21</td>\n",
       "      <td>9</td>\n",
       "      <td>8</td>\n",
       "      <td>72</td>\n",
       "    </tr>\n",
       "  </tbody>\n",
       "</table>\n",
       "</div>"
      ],
      "text/plain": [
       "                            GD_avg  Num_games  Wins  Draws  Losses  Points\n",
       "Div        Team                                                           \n",
       "Bundesliga Bayern Munich  1.882353         34    27      3       4      84\n",
       "           Hoffenheim     0.529412         34    15     10       9      55\n",
       "           Dortmund       0.500000         34    15     10       9      55\n",
       "EPL        Man City       2.078947         38    32      4       2     100\n",
       "           Liverpool      1.210526         38    21     12       5      75\n",
       "           Man United     1.052632         38    25      6       7      81\n",
       "La_Liga    Barcelona      1.842105         38    28      9       1      93\n",
       "           Real Madrid    1.315789         38    22     10       6      76\n",
       "           Ath Madrid     0.947368         38    23     10       5      79\n",
       "Ligue_1    Paris SG       2.078947         38    29      6       3      93\n",
       "           Lyon           1.157895         38    23      9       6      78\n",
       "           Monaco         1.052632         38    24      8       6      80\n",
       "Serie_A    Juventus       1.631579         38    30      5       3      95\n",
       "           Napoli         1.263158         38    28      7       3      91\n",
       "           Lazio          1.052632         38    21      9       8      72"
      ]
     },
     "execution_count": 23,
     "metadata": {},
     "output_type": "execute_result"
    }
   ],
   "source": [
    "#sort by ascending Div and descending avg goal differential within each league\n",
    "top_teams = top_teams.sort_values(['Div','GD_avg'], \n",
    "                                  ascending = (True, False))\n",
    "top_teams"
   ]
  },
  {
   "cell_type": "code",
   "execution_count": null,
   "metadata": {},
   "outputs": [],
   "source": []
  },
  {
   "cell_type": "code",
   "execution_count": null,
   "metadata": {},
   "outputs": [],
   "source": []
  },
  {
   "cell_type": "code",
   "execution_count": null,
   "metadata": {},
   "outputs": [],
   "source": []
  },
  {
   "cell_type": "code",
   "execution_count": null,
   "metadata": {},
   "outputs": [],
   "source": []
  },
  {
   "cell_type": "code",
   "execution_count": null,
   "metadata": {},
   "outputs": [],
   "source": []
  },
  {
   "cell_type": "code",
   "execution_count": null,
   "metadata": {},
   "outputs": [],
   "source": []
  },
  {
   "cell_type": "code",
   "execution_count": null,
   "metadata": {},
   "outputs": [],
   "source": []
  },
  {
   "cell_type": "markdown",
   "metadata": {},
   "source": [
    "## Question 2: Goal Scoring \n",
    "### Part 2a"
   ]
  },
  {
   "cell_type": "code",
   "execution_count": 24,
   "metadata": {},
   "outputs": [],
   "source": [
    "#total number of goals scored in full length game\n",
    "df.loc[:,'Goals_FT'] = df.loc[:,'FTG_Home']+df.loc[:,'FTG_Away']\n",
    "ft_avg = df.loc[:,'Goals_FT'].mean()"
   ]
  },
  {
   "cell_type": "code",
   "execution_count": 25,
   "metadata": {},
   "outputs": [],
   "source": [
    "#generate poisson distribution setting lambda to mean of our data\n",
    "data_poisson = poisson.rvs(mu= ft_avg,\n",
    "                           size=len(df['Goals_FT']),random_state = 2021)"
   ]
  },
  {
   "cell_type": "code",
   "execution_count": 26,
   "metadata": {},
   "outputs": [
    {
     "data": {
      "image/png": "[encoded data removed]",
      "text/plain": [
       "<Figure size 576x432 with 1 Axes>"
      ]
     },
     "metadata": {
      "needs_background": "light"
     },
     "output_type": "display_data"
    }
   ],
   "source": [
    "#plot histogram for total goals scored and overlay with poisson distribution\n",
    "plt.figure(figsize=(8,6))\n",
    "plt.hist(data_poisson, density =False, alpha=0.5, \n",
    "         label=f'Poisson Distribution ($\\lambda = $ {round(ft_avg,2)})')\n",
    "plt.hist(df['Goals_FT'], density = False, alpha=0.5, \n",
    "         label=\"Total Goals Scored\")\n",
    "plt.xlabel('Number of Goals')\n",
    "plt.ylabel('Count')\n",
    "plt.title('Total Goals Scored')\n",
    "plt.legend()\n",
    "plt.show()"
   ]
  },
  {
   "cell_type": "markdown",
   "metadata": {},
   "source": [
    "A poisson distribution was chosen to model total number of goals scored in a match. The distribution was chosen since goal scoring is event-based, and a rare occurrence in soccer games. The value of $\\lambda$ is the empirical mean of our data, which is 2.71 total goals scored on average during the full time of a game. The value of $k$, which is the number of samples, is set to the size of our data (7304 matches) because it models the number of discrete events."
   ]
  },
  {
   "cell_type": "markdown",
   "metadata": {},
   "source": [
    "### Part 2b"
   ]
  },
  {
   "cell_type": "code",
   "execution_count": 27,
   "metadata": {},
   "outputs": [],
   "source": [
    "#total number of goals scored up to half-time\n",
    "df.loc[:,'Goals_HT'] = df.loc[:,'HTG_Home']+df.loc[:,'HTG_Away']\n",
    "ht_avg = df.loc[:,'Goals_HT'].mean()"
   ]
  },
  {
   "cell_type": "code",
   "execution_count": 28,
   "metadata": {},
   "outputs": [],
   "source": [
    "#generate poisson distribution setting lambda to mean of our data\n",
    "data_poisson = poisson.rvs(mu=ht_avg,\n",
    "                           size=len(df['Goals_HT']),random_state = 2021)"
   ]
  },
  {
   "cell_type": "code",
   "execution_count": 29,
   "metadata": {},
   "outputs": [
    {
     "data": {
      "image/png": "[encoded data removed]",
      "text/plain": [
       "<Figure size 576x432 with 1 Axes>"
      ]
     },
     "metadata": {
      "needs_background": "light"
     },
     "output_type": "display_data"
    }
   ],
   "source": [
    "#plot histogram for first half goals scored and overlay with poisson distribution\n",
    "plt.figure(figsize=(8,6))\n",
    "plt.hist(data_poisson, density =False, alpha=0.5, \n",
    "         label=f'Poisson Distribution ($\\lambda = $ {round(ht_avg,2)})')\n",
    "plt.hist(df['Goals_HT'], density = False, alpha=0.5, \n",
    "         label=\"First Half Goals Scored\")\n",
    "plt.xlabel('Number of Goals')\n",
    "plt.ylabel('Count')\n",
    "plt.title('First Half Goals Scored')\n",
    "plt.legend()\n",
    "plt.show()"
   ]
  },
  {
   "cell_type": "markdown",
   "metadata": {},
   "source": [
    "A poisson distribution was chosen to model total number of goals scored in a match. The distribution was chosen since goal scoring is event-based, and a rare occurrence in soccer games. The value of $\\lambda$ is the empirical mean of our data, which is 1.19 total goals scored on average during the first half of a game. The value of $k$, which is the number of samples, is set to the size of our data (7304 matches) because it models the number of discrete events."
   ]
  },
  {
   "cell_type": "markdown",
   "metadata": {},
   "source": [
    "### Part 2c"
   ]
  },
  {
   "cell_type": "code",
   "execution_count": 30,
   "metadata": {},
   "outputs": [],
   "source": [
    "#total number of goals scored in second half\n",
    "df.loc[:,'Goals_SH'] = df.loc[:,'Goals_FT']-df.loc[:,'Goals_HT']\n",
    "sh_avg = df.loc[:,'Goals_SH'].mean()"
   ]
  },
  {
   "cell_type": "code",
   "execution_count": 31,
   "metadata": {},
   "outputs": [],
   "source": [
    "#generate poisson distribution setting lambda to mean of our data\n",
    "data_poisson = poisson.rvs(mu=sh_avg, \n",
    "                           size=len(df['Goals_SH']),random_state = 2021)"
   ]
  },
  {
   "cell_type": "code",
   "execution_count": 32,
   "metadata": {},
   "outputs": [
    {
     "data": {
      "image/png": "[encoded data removed]",
      "text/plain": [
       "<Figure size 576x432 with 1 Axes>"
      ]
     },
     "metadata": {
      "needs_background": "light"
     },
     "output_type": "display_data"
    }
   ],
   "source": [
    "#plot histogram for second half goals scored and overlay with poisson distribution\n",
    "plt.figure(figsize=(8,6))\n",
    "plt.hist(data_poisson, density =False, alpha=0.5, \n",
    "         label=f'Poisson Distribution ($\\lambda = $ {round(sh_avg,2)})')\n",
    "plt.hist(df['Goals_SH'], density = False, alpha=0.5, \n",
    "         label=\"Second Half Goals Scored\")\n",
    "plt.xlabel('Number of Goals')\n",
    "plt.ylabel('Count')\n",
    "plt.title('Second Half Goals Scored')\n",
    "plt.legend()\n",
    "plt.show()"
   ]
  },
  {
   "cell_type": "markdown",
   "metadata": {},
   "source": [
    "A poisson distribution was chosen to model total number of goals scored in a match. The distribution was chosen since goal scoring is event-based, and a rare occurrence in soccer games. The value of $\\lambda$ is the empirical mean of our data, which is 1.52 total goals scored on average during the full time of a game. The value of $k$, which is the number of samples, is set to the size of our data (7304 matches) because it models the number of discrete events."
   ]
  },
  {
   "cell_type": "code",
   "execution_count": null,
   "metadata": {},
   "outputs": [],
   "source": []
  },
  {
   "cell_type": "code",
   "execution_count": null,
   "metadata": {},
   "outputs": [],
   "source": []
  },
  {
   "cell_type": "markdown",
   "metadata": {},
   "source": [
    "### Part 2d"
   ]
  },
  {
   "cell_type": "code",
   "execution_count": 33,
   "metadata": {},
   "outputs": [],
   "source": [
    "#group by league\n",
    "group_league = df.groupby('Div')"
   ]
  },
  {
   "cell_type": "code",
   "execution_count": 34,
   "metadata": {},
   "outputs": [],
   "source": [
    "#get summary of average number of goals per game by league\n",
    "league_summary = group_league.agg(\n",
    "    Goals_avg = pd.NamedAgg(column = 'Goals_FT', aggfunc = 'mean'),\n",
    "    Num_games = pd.NamedAgg(column = 'Game_ID', aggfunc = 'count')\n",
    "    )\n",
    "league_summary = league_summary.sort_values('Goals_avg', \n",
    "                                            ascending = False)"
   ]
  },
  {
   "cell_type": "code",
   "execution_count": 35,
   "metadata": {},
   "outputs": [
    {
     "data": {
      "text/html": [
       "<div>\n",
       "<style scoped>\n",
       "    .dataframe tbody tr th:only-of-type {\n",
       "        vertical-align: middle;\n",
       "    }\n",
       "\n",
       "    .dataframe tbody tr th {\n",
       "        vertical-align: top;\n",
       "    }\n",
       "\n",
       "    .dataframe thead th {\n",
       "        text-align: right;\n",
       "    }\n",
       "</style>\n",
       "<table border=\"1\" class=\"dataframe\">\n",
       "  <thead>\n",
       "    <tr style=\"text-align: right;\">\n",
       "      <th></th>\n",
       "      <th>Goals_avg</th>\n",
       "      <th>Num_games</th>\n",
       "    </tr>\n",
       "    <tr>\n",
       "      <th>Div</th>\n",
       "      <th></th>\n",
       "      <th></th>\n",
       "    </tr>\n",
       "  </thead>\n",
       "  <tbody>\n",
       "    <tr>\n",
       "      <th>Bundesliga</th>\n",
       "      <td>2.811275</td>\n",
       "      <td>1224</td>\n",
       "    </tr>\n",
       "    <tr>\n",
       "      <th>La_Liga</th>\n",
       "      <td>2.759211</td>\n",
       "      <td>1520</td>\n",
       "    </tr>\n",
       "    <tr>\n",
       "      <th>Serie_A</th>\n",
       "      <td>2.725658</td>\n",
       "      <td>1520</td>\n",
       "    </tr>\n",
       "    <tr>\n",
       "      <th>EPL</th>\n",
       "      <td>2.686184</td>\n",
       "      <td>1520</td>\n",
       "    </tr>\n",
       "    <tr>\n",
       "      <th>Ligue_1</th>\n",
       "      <td>2.588158</td>\n",
       "      <td>1520</td>\n",
       "    </tr>\n",
       "  </tbody>\n",
       "</table>\n",
       "</div>"
      ],
      "text/plain": [
       "            Goals_avg  Num_games\n",
       "Div                             \n",
       "Bundesliga   2.811275       1224\n",
       "La_Liga      2.759211       1520\n",
       "Serie_A      2.725658       1520\n",
       "EPL          2.686184       1520\n",
       "Ligue_1      2.588158       1520"
      ]
     },
     "execution_count": 35,
     "metadata": {},
     "output_type": "execute_result"
    }
   ],
   "source": [
    "league_summary"
   ]
  },
  {
   "cell_type": "markdown",
   "metadata": {},
   "source": [
    "### Part 2e"
   ]
  },
  {
   "cell_type": "code",
   "execution_count": 36,
   "metadata": {},
   "outputs": [],
   "source": [
    "#only analyze games with exactly 4 goals scored\n",
    "#where home and away teams approx evenly matched\n",
    "df_highscore = df.loc[(df.Goals_FT ==4) & (abs(df.pH - df.pA)<0.02)]"
   ]
  },
  {
   "cell_type": "code",
   "execution_count": 37,
   "metadata": {},
   "outputs": [],
   "source": [
    "#function to create indicator column for draws\n",
    "def draw(df):\n",
    "    if df.FTG_Home - df.FTG_Away == 0:\n",
    "        val = 1\n",
    "    else: \n",
    "        val = 0\n",
    "    return val"
   ]
  },
  {
   "cell_type": "code",
   "execution_count": 43,
   "metadata": {},
   "outputs": [],
   "source": [
    "#apply draw func to dataframe\n",
    "df_highscore.loc[:,'Draw'] = df_highscore.apply(draw, axis=1).copy()"
   ]
  },
  {
   "cell_type": "code",
   "execution_count": 39,
   "metadata": {},
   "outputs": [],
   "source": [
    "#get observed number of draws\n",
    "observed_draws = df_highscore.loc[:,'Draw'].sum()"
   ]
  },
  {
   "cell_type": "code",
   "execution_count": 40,
   "metadata": {},
   "outputs": [],
   "source": [
    "#calcualte expected number of draws based on Binomial RV \n",
    "#4 goals total with 2 for home, 2 for away\n",
    "n = 4\n",
    "k = 2\n",
    "p = 0.5 #prob of home team scoring\n",
    "prob_draw = math.factorial(n)/(math.factorial(k)*math.factorial(n-k))*(p)**k*(1-p)**(n-k)\n",
    "\n",
    "#get expected number of draws\n",
    "expected_draws = int(len(df_highscore)*prob_draw)"
   ]
  },
  {
   "cell_type": "code",
   "execution_count": 41,
   "metadata": {},
   "outputs": [],
   "source": [
    "num_games = len(df_highscore)"
   ]
  },
  {
   "cell_type": "code",
   "execution_count": 42,
   "metadata": {},
   "outputs": [
    {
     "data": {
      "text/plain": [
       "1.9727878476642875"
      ]
     },
     "execution_count": 42,
     "metadata": {},
     "output_type": "execute_result"
    }
   ],
   "source": [
    "mean = math.sqrt(num_games*p*(1-p))\n",
    "stdev = (observed_draws-expected_draws)/mean\n",
    "stdev"
   ]
  },
  {
   "cell_type": "markdown",
   "metadata": {},
   "source": [
    "Out of 37 games, we would expect roughly 13 draws, using \"null hypothesis\". However, we observe 19 draws. The number of draws that occur is much higher than expected, indicating a comeback tendency. This is slightly less than a 2 standard deviation result. However, because only 37 games are included in this analysis, there is not a strong suggestion for comeback tendency because of the few games it is based on, but there is some evidence."
   ]
  }
 ],
 "metadata": {
  "kernelspec": {
   "display_name": "Python 3",
   "language": "python",
   "name": "python3"
  },
  "language_info": {
   "codemirror_mode": {
    "name": "ipython",
    "version": 3
   },
   "file_extension": ".py",
   "mimetype": "text/x-python",
   "name": "python",
   "nbconvert_exporter": "python",
   "pygments_lexer": "ipython3",
   "version": "3.7.3"
  }
 },
 "nbformat": 4,
 "nbformat_minor": 4
}
