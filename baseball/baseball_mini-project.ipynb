{
 "cells": [
  {
   "cell_type": "markdown",
   "metadata": {},
   "source": [
    "# Homework 7: Baseball Mini-Project\n",
    "Amanda Kuznecov (anr431)"
   ]
  },
  {
   "cell_type": "code",
   "execution_count": 1,
   "metadata": {},
   "outputs": [],
   "source": [
    "import pandas as pd\n",
    "import numpy as np\n",
    "import scipy.stats as st\n",
    "from scipy.special import logit, expit\n",
    "import statsmodels.formula.api as smf\n",
    "import statsmodels.api as sm\n",
    "from statsmodels.tools.eval_measures import mse\n",
    "from sklearn.metrics import brier_score_loss\n",
    "import statsmodels.api as sm\n",
    "from tqdm import tqdm\n",
    "import matplotlib.pyplot as plt\n",
    "pd.set_option('display.max_columns', None)"
   ]
  },
  {
   "cell_type": "code",
   "execution_count": 2,
   "metadata": {},
   "outputs": [],
   "source": [
    "#read in data\n",
    "df_sc = pd.read_parquet('sc19.parquet')\n",
    "df_sc = df_sc.loc[df_sc.game_type == 'R'].copy()\n",
    "df_sc = df_sc.drop(columns = 'des').sort_values(['game_date','game_pk','at_bat_number','pitch_number'])\n",
    "\n",
    "#remove any rows where there is no outcome\n",
    "df_sc = df_sc.loc[df_sc.events.notnull()]\n",
    "\n",
    "#removed features from model because they aren't actual pitches\n",
    "col_list = ['intent_walk','ejection','game_advisory','wild_pitch','pickoff_1b','pickoff_2b','pickoff_caught_stealing_2b',\n",
    "           'pickoff_caught_stealing_home','pickoff_caught_stealing_3b','pickoff_3b','pickoff_error_2b']\n",
    "\n",
    "df_sc = df_sc.loc[~df_sc.events.isin(col_list)]\n",
    "\n",
    "#remove rows where 4 balls occur\n",
    "df_sc = df_sc.loc[df_sc.balls !=4]\n",
    "\n",
    "df_play = pd.read_csv('MLB_players19.csv')"
   ]
  },
  {
   "cell_type": "markdown",
   "metadata": {},
   "source": [
    "## Question 1: Expanded Baseline Model"
   ]
  },
  {
   "cell_type": "code",
   "execution_count": 3,
   "metadata": {},
   "outputs": [],
   "source": [
    "#group for pitching stats per game\n",
    "group_game = df_sc.groupby(['player_name','pitcher','game_pk','game_year'])\n",
    "\n",
    "#get number of balls and number of batters faced per game per pitcher\n",
    "game_summary = group_game.agg(\n",
    "    bb = pd.NamedAgg(column = 'events', aggfunc = lambda x: ((x == 'walk')).sum()),\n",
    "    k = pd.NamedAgg(column = 'events', aggfunc = lambda x: ((x == 'strikeout')|(x == 'strikeout_double_play')).sum()),\n",
    "    bf = pd.NamedAgg(column = 'at_bat_number', aggfunc = 'nunique')\n",
    "    )\n",
    "game_summary = game_summary.reset_index().sort_values(['player_name','pitcher','game_pk','game_year']) "
   ]
  },
  {
   "cell_type": "code",
   "execution_count": 4,
   "metadata": {},
   "outputs": [
    {
     "data": {
      "text/html": [
       "<div>\n",
       "<style scoped>\n",
       "    .dataframe tbody tr th:only-of-type {\n",
       "        vertical-align: middle;\n",
       "    }\n",
       "\n",
       "    .dataframe tbody tr th {\n",
       "        vertical-align: top;\n",
       "    }\n",
       "\n",
       "    .dataframe thead th {\n",
       "        text-align: right;\n",
       "    }\n",
       "</style>\n",
       "<table border=\"1\" class=\"dataframe\">\n",
       "  <thead>\n",
       "    <tr style=\"text-align: right;\">\n",
       "      <th></th>\n",
       "      <th>player_name</th>\n",
       "      <th>pitcher</th>\n",
       "      <th>game_pk</th>\n",
       "      <th>game_year</th>\n",
       "      <th>bb</th>\n",
       "      <th>k</th>\n",
       "      <th>bf</th>\n",
       "    </tr>\n",
       "  </thead>\n",
       "  <tbody>\n",
       "    <tr>\n",
       "      <th>0</th>\n",
       "      <td>Aardsma, David</td>\n",
       "      <td>430911</td>\n",
       "      <td>320068</td>\n",
       "      <td>2012</td>\n",
       "      <td>1</td>\n",
       "      <td>1</td>\n",
       "      <td>5</td>\n",
       "    </tr>\n",
       "    <tr>\n",
       "      <th>1</th>\n",
       "      <td>Aardsma, David</td>\n",
       "      <td>430911</td>\n",
       "      <td>347669</td>\n",
       "      <td>2013</td>\n",
       "      <td>0</td>\n",
       "      <td>1</td>\n",
       "      <td>3</td>\n",
       "    </tr>\n",
       "    <tr>\n",
       "      <th>2</th>\n",
       "      <td>Aardsma, David</td>\n",
       "      <td>430911</td>\n",
       "      <td>347713</td>\n",
       "      <td>2013</td>\n",
       "      <td>0</td>\n",
       "      <td>2</td>\n",
       "      <td>5</td>\n",
       "    </tr>\n",
       "    <tr>\n",
       "      <th>3</th>\n",
       "      <td>Aardsma, David</td>\n",
       "      <td>430911</td>\n",
       "      <td>347746</td>\n",
       "      <td>2013</td>\n",
       "      <td>0</td>\n",
       "      <td>2</td>\n",
       "      <td>4</td>\n",
       "    </tr>\n",
       "    <tr>\n",
       "      <th>4</th>\n",
       "      <td>Aardsma, David</td>\n",
       "      <td>430911</td>\n",
       "      <td>347776</td>\n",
       "      <td>2013</td>\n",
       "      <td>0</td>\n",
       "      <td>1</td>\n",
       "      <td>3</td>\n",
       "    </tr>\n",
       "  </tbody>\n",
       "</table>\n",
       "</div>"
      ],
      "text/plain": [
       "      player_name  pitcher  game_pk  game_year  bb  k  bf\n",
       "0  Aardsma, David   430911   320068       2012   1  1   5\n",
       "1  Aardsma, David   430911   347669       2013   0  1   3\n",
       "2  Aardsma, David   430911   347713       2013   0  2   5\n",
       "3  Aardsma, David   430911   347746       2013   0  2   4\n",
       "4  Aardsma, David   430911   347776       2013   0  1   3"
      ]
     },
     "execution_count": 4,
     "metadata": {},
     "output_type": "execute_result"
    }
   ],
   "source": [
    "game_summary.head()"
   ]
  },
  {
   "cell_type": "code",
   "execution_count": 5,
   "metadata": {},
   "outputs": [],
   "source": [
    "#group for pitching stats per season\n",
    "group_year = game_summary.groupby(['player_name','pitcher','game_year'])\n",
    "\n",
    "#get number of balls and number of batters faced per season per pitcher\n",
    "yr_summary = group_year.agg(\n",
    "    bb = pd.NamedAgg(column = 'bb', aggfunc = 'sum'),\n",
    "    k = pd.NamedAgg(column = 'k', aggfunc = 'sum'),\n",
    "    bf = pd.NamedAgg(column = 'bf', aggfunc = 'sum')\n",
    "    )\n",
    "yr_summary = yr_summary.reset_index().sort_values(['player_name','pitcher','game_year']) "
   ]
  },
  {
   "cell_type": "code",
   "execution_count": 6,
   "metadata": {},
   "outputs": [],
   "source": [
    "#get previous batters faced\n",
    "yr_summary['bf_prev'] = yr_summary.groupby(['player_name','pitcher'])['bf'].transform(lambda x: x.shift(1,fill_value = 0))\n",
    "\n",
    "#add walks rate feature\n",
    "yr_summary.loc[:,'bbrate'] = yr_summary.bb/yr_summary.bf\n",
    "\n",
    "#get previous walks rate\n",
    "yr_summary['bbrate_prev'] = yr_summary.groupby(['player_name','pitcher'])['bbrate'].transform(lambda x: x.shift(1,fill_value = 0))\n",
    "\n",
    "\n",
    "#add strikeouts rate feature\n",
    "yr_summary.loc[:,'krate'] = yr_summary.k/(yr_summary.bf-yr_summary.bb)\n",
    "\n",
    "#get previous strikeouts rate\n",
    "yr_summary['krate_prev'] = yr_summary.groupby(['player_name','pitcher'])['krate'].transform(lambda x: x.shift(1,fill_value = 0))\n",
    "\n",
    "#check how many seasons ago pitcher played (ie. 1 means they played last season, 0 means they haven't played yet)\n",
    "yr_summary['played_prev'] = yr_summary.groupby(['player_name','pitcher'])['game_year'].transform(lambda x: x-x.shift(1,fill_value = x.min()))"
   ]
  },
  {
   "cell_type": "code",
   "execution_count": 7,
   "metadata": {},
   "outputs": [
    {
     "data": {
      "text/html": [
       "<div>\n",
       "<style scoped>\n",
       "    .dataframe tbody tr th:only-of-type {\n",
       "        vertical-align: middle;\n",
       "    }\n",
       "\n",
       "    .dataframe tbody tr th {\n",
       "        vertical-align: top;\n",
       "    }\n",
       "\n",
       "    .dataframe thead th {\n",
       "        text-align: right;\n",
       "    }\n",
       "</style>\n",
       "<table border=\"1\" class=\"dataframe\">\n",
       "  <thead>\n",
       "    <tr style=\"text-align: right;\">\n",
       "      <th></th>\n",
       "      <th>player_name</th>\n",
       "      <th>pitcher</th>\n",
       "      <th>game_year</th>\n",
       "      <th>bb</th>\n",
       "      <th>k</th>\n",
       "      <th>bf</th>\n",
       "      <th>bf_prev</th>\n",
       "      <th>bbrate</th>\n",
       "      <th>bbrate_prev</th>\n",
       "      <th>krate</th>\n",
       "      <th>krate_prev</th>\n",
       "      <th>played_prev</th>\n",
       "    </tr>\n",
       "  </thead>\n",
       "  <tbody>\n",
       "    <tr>\n",
       "      <th>0</th>\n",
       "      <td>Aardsma, David</td>\n",
       "      <td>430911</td>\n",
       "      <td>2012</td>\n",
       "      <td>1</td>\n",
       "      <td>1</td>\n",
       "      <td>5</td>\n",
       "      <td>0</td>\n",
       "      <td>0.200000</td>\n",
       "      <td>0.000000</td>\n",
       "      <td>0.250000</td>\n",
       "      <td>0.000000</td>\n",
       "      <td>0</td>\n",
       "    </tr>\n",
       "    <tr>\n",
       "      <th>1</th>\n",
       "      <td>Aardsma, David</td>\n",
       "      <td>430911</td>\n",
       "      <td>2013</td>\n",
       "      <td>13</td>\n",
       "      <td>36</td>\n",
       "      <td>172</td>\n",
       "      <td>5</td>\n",
       "      <td>0.075581</td>\n",
       "      <td>0.200000</td>\n",
       "      <td>0.226415</td>\n",
       "      <td>0.250000</td>\n",
       "      <td>1</td>\n",
       "    </tr>\n",
       "    <tr>\n",
       "      <th>2</th>\n",
       "      <td>Aardsma, David</td>\n",
       "      <td>430911</td>\n",
       "      <td>2015</td>\n",
       "      <td>11</td>\n",
       "      <td>35</td>\n",
       "      <td>125</td>\n",
       "      <td>172</td>\n",
       "      <td>0.088000</td>\n",
       "      <td>0.075581</td>\n",
       "      <td>0.307018</td>\n",
       "      <td>0.226415</td>\n",
       "      <td>2</td>\n",
       "    </tr>\n",
       "    <tr>\n",
       "      <th>3</th>\n",
       "      <td>Abad, Fernando</td>\n",
       "      <td>472551</td>\n",
       "      <td>2012</td>\n",
       "      <td>18</td>\n",
       "      <td>38</td>\n",
       "      <td>207</td>\n",
       "      <td>0</td>\n",
       "      <td>0.086957</td>\n",
       "      <td>0.000000</td>\n",
       "      <td>0.201058</td>\n",
       "      <td>0.000000</td>\n",
       "      <td>0</td>\n",
       "    </tr>\n",
       "    <tr>\n",
       "      <th>4</th>\n",
       "      <td>Abad, Fernando</td>\n",
       "      <td>472551</td>\n",
       "      <td>2013</td>\n",
       "      <td>10</td>\n",
       "      <td>32</td>\n",
       "      <td>166</td>\n",
       "      <td>207</td>\n",
       "      <td>0.060241</td>\n",
       "      <td>0.086957</td>\n",
       "      <td>0.205128</td>\n",
       "      <td>0.201058</td>\n",
       "      <td>1</td>\n",
       "    </tr>\n",
       "  </tbody>\n",
       "</table>\n",
       "</div>"
      ],
      "text/plain": [
       "      player_name  pitcher  game_year  bb   k   bf  bf_prev    bbrate  \\\n",
       "0  Aardsma, David   430911       2012   1   1    5        0  0.200000   \n",
       "1  Aardsma, David   430911       2013  13  36  172        5  0.075581   \n",
       "2  Aardsma, David   430911       2015  11  35  125      172  0.088000   \n",
       "3  Abad, Fernando   472551       2012  18  38  207        0  0.086957   \n",
       "4  Abad, Fernando   472551       2013  10  32  166      207  0.060241   \n",
       "\n",
       "   bbrate_prev     krate  krate_prev  played_prev  \n",
       "0     0.000000  0.250000    0.000000            0  \n",
       "1     0.200000  0.226415    0.250000            1  \n",
       "2     0.075581  0.307018    0.226415            2  \n",
       "3     0.000000  0.201058    0.000000            0  \n",
       "4     0.086957  0.205128    0.201058            1  "
      ]
     },
     "execution_count": 7,
     "metadata": {},
     "output_type": "execute_result"
    }
   ],
   "source": [
    "yr_summary.head()"
   ]
  },
  {
   "cell_type": "markdown",
   "metadata": {},
   "source": [
    "### Part a.i: bb-rate"
   ]
  },
  {
   "cell_type": "code",
   "execution_count": 8,
   "metadata": {},
   "outputs": [
    {
     "data": {
      "text/html": [
       "<div>\n",
       "<style scoped>\n",
       "    .dataframe tbody tr th:only-of-type {\n",
       "        vertical-align: middle;\n",
       "    }\n",
       "\n",
       "    .dataframe tbody tr th {\n",
       "        vertical-align: top;\n",
       "    }\n",
       "\n",
       "    .dataframe thead th {\n",
       "        text-align: right;\n",
       "    }\n",
       "</style>\n",
       "<table border=\"1\" class=\"dataframe\">\n",
       "  <thead>\n",
       "    <tr style=\"text-align: right;\">\n",
       "      <th></th>\n",
       "      <th>player_name</th>\n",
       "      <th>pitcher</th>\n",
       "      <th>game_year</th>\n",
       "      <th>bb</th>\n",
       "      <th>k</th>\n",
       "      <th>bf</th>\n",
       "      <th>bf_prev</th>\n",
       "      <th>bbrate</th>\n",
       "      <th>bbrate_prev</th>\n",
       "      <th>krate</th>\n",
       "      <th>krate_prev</th>\n",
       "      <th>played_prev</th>\n",
       "    </tr>\n",
       "  </thead>\n",
       "  <tbody>\n",
       "    <tr>\n",
       "      <th>6</th>\n",
       "      <td>Abad, Fernando</td>\n",
       "      <td>472551</td>\n",
       "      <td>2015</td>\n",
       "      <td>16</td>\n",
       "      <td>45</td>\n",
       "      <td>204</td>\n",
       "      <td>214</td>\n",
       "      <td>0.078431</td>\n",
       "      <td>0.056075</td>\n",
       "      <td>0.239362</td>\n",
       "      <td>0.252475</td>\n",
       "      <td>1</td>\n",
       "    </tr>\n",
       "    <tr>\n",
       "      <th>37</th>\n",
       "      <td>Adleman, Tim</td>\n",
       "      <td>534947</td>\n",
       "      <td>2017</td>\n",
       "      <td>50</td>\n",
       "      <td>108</td>\n",
       "      <td>531</td>\n",
       "      <td>286</td>\n",
       "      <td>0.094162</td>\n",
       "      <td>0.066434</td>\n",
       "      <td>0.224532</td>\n",
       "      <td>0.176030</td>\n",
       "      <td>1</td>\n",
       "    </tr>\n",
       "    <tr>\n",
       "      <th>51</th>\n",
       "      <td>Albers, Matt</td>\n",
       "      <td>458006</td>\n",
       "      <td>2013</td>\n",
       "      <td>20</td>\n",
       "      <td>35</td>\n",
       "      <td>261</td>\n",
       "      <td>239</td>\n",
       "      <td>0.076628</td>\n",
       "      <td>0.079498</td>\n",
       "      <td>0.145228</td>\n",
       "      <td>0.200000</td>\n",
       "      <td>1</td>\n",
       "    </tr>\n",
       "    <tr>\n",
       "      <th>55</th>\n",
       "      <td>Albers, Matt</td>\n",
       "      <td>458006</td>\n",
       "      <td>2017</td>\n",
       "      <td>17</td>\n",
       "      <td>63</td>\n",
       "      <td>233</td>\n",
       "      <td>235</td>\n",
       "      <td>0.072961</td>\n",
       "      <td>0.076596</td>\n",
       "      <td>0.291667</td>\n",
       "      <td>0.138249</td>\n",
       "      <td>1</td>\n",
       "    </tr>\n",
       "    <tr>\n",
       "      <th>61</th>\n",
       "      <td>Alburquerque, Al</td>\n",
       "      <td>456379</td>\n",
       "      <td>2014</td>\n",
       "      <td>20</td>\n",
       "      <td>63</td>\n",
       "      <td>235</td>\n",
       "      <td>215</td>\n",
       "      <td>0.085106</td>\n",
       "      <td>0.134884</td>\n",
       "      <td>0.293023</td>\n",
       "      <td>0.376344</td>\n",
       "      <td>1</td>\n",
       "    </tr>\n",
       "  </tbody>\n",
       "</table>\n",
       "</div>"
      ],
      "text/plain": [
       "         player_name  pitcher  game_year  bb    k   bf  bf_prev    bbrate  \\\n",
       "6     Abad, Fernando   472551       2015  16   45  204      214  0.078431   \n",
       "37      Adleman, Tim   534947       2017  50  108  531      286  0.094162   \n",
       "51      Albers, Matt   458006       2013  20   35  261      239  0.076628   \n",
       "55      Albers, Matt   458006       2017  17   63  233      235  0.072961   \n",
       "61  Alburquerque, Al   456379       2014  20   63  235      215  0.085106   \n",
       "\n",
       "    bbrate_prev     krate  krate_prev  played_prev  \n",
       "6      0.056075  0.239362    0.252475            1  \n",
       "37     0.066434  0.224532    0.176030            1  \n",
       "51     0.079498  0.145228    0.200000            1  \n",
       "55     0.076596  0.291667    0.138249            1  \n",
       "61     0.134884  0.293023    0.376344            1  "
      ]
     },
     "execution_count": 8,
     "metadata": {},
     "output_type": "execute_result"
    }
   ],
   "source": [
    "#filter for seasons other than 2012 and 2019, bf at least 200, and stats based on consecutive seasons only\n",
    "data = yr_summary.loc[(yr_summary.game_year != 2012) & (yr_summary.game_year != 2019) & (yr_summary.bf >=200) & (yr_summary.bf_prev >=200)& (yr_summary.played_prev <= 1)]\n",
    "data.head()"
   ]
  },
  {
   "cell_type": "code",
   "execution_count": 9,
   "metadata": {},
   "outputs": [
    {
     "data": {
      "text/html": [
       "<table class=\"simpletable\">\n",
       "<caption>OLS Regression Results</caption>\n",
       "<tr>\n",
       "  <th>Dep. Variable:</th>         <td>bbrate</td>      <th>  R-squared:         </th> <td>   0.294</td> \n",
       "</tr>\n",
       "<tr>\n",
       "  <th>Model:</th>                   <td>OLS</td>       <th>  Adj. R-squared:    </th> <td>   0.293</td> \n",
       "</tr>\n",
       "<tr>\n",
       "  <th>Method:</th>             <td>Least Squares</td>  <th>  F-statistic:       </th> <td>   593.4</td> \n",
       "</tr>\n",
       "<tr>\n",
       "  <th>Date:</th>             <td>Wed, 14 Apr 2021</td> <th>  Prob (F-statistic):</th> <td>7.21e-110</td>\n",
       "</tr>\n",
       "<tr>\n",
       "  <th>Time:</th>                 <td>08:56:21</td>     <th>  Log-Likelihood:    </th> <td>  3619.4</td> \n",
       "</tr>\n",
       "<tr>\n",
       "  <th>No. Observations:</th>      <td>  1428</td>      <th>  AIC:               </th> <td>  -7235.</td> \n",
       "</tr>\n",
       "<tr>\n",
       "  <th>Df Residuals:</th>          <td>  1426</td>      <th>  BIC:               </th> <td>  -7224.</td> \n",
       "</tr>\n",
       "<tr>\n",
       "  <th>Df Model:</th>              <td>     1</td>      <th>                     </th>     <td> </td>    \n",
       "</tr>\n",
       "<tr>\n",
       "  <th>Covariance Type:</th>      <td>nonrobust</td>    <th>                     </th>     <td> </td>    \n",
       "</tr>\n",
       "</table>\n",
       "<table class=\"simpletable\">\n",
       "<tr>\n",
       "       <td></td>          <th>coef</th>     <th>std err</th>      <th>t</th>      <th>P>|t|</th>  <th>[0.025</th>    <th>0.975]</th>  \n",
       "</tr>\n",
       "<tr>\n",
       "  <th>Intercept</th>   <td>    0.0332</td> <td>    0.002</td> <td>   19.342</td> <td> 0.000</td> <td>    0.030</td> <td>    0.037</td>\n",
       "</tr>\n",
       "<tr>\n",
       "  <th>bbrate_prev</th> <td>    0.5537</td> <td>    0.023</td> <td>   24.359</td> <td> 0.000</td> <td>    0.509</td> <td>    0.598</td>\n",
       "</tr>\n",
       "</table>\n",
       "<table class=\"simpletable\">\n",
       "<tr>\n",
       "  <th>Omnibus:</th>       <td>72.252</td> <th>  Durbin-Watson:     </th> <td>   2.120</td>\n",
       "</tr>\n",
       "<tr>\n",
       "  <th>Prob(Omnibus):</th> <td> 0.000</td> <th>  Jarque-Bera (JB):  </th> <td>  98.115</td>\n",
       "</tr>\n",
       "<tr>\n",
       "  <th>Skew:</th>          <td> 0.468</td> <th>  Prob(JB):          </th> <td>4.95e-22</td>\n",
       "</tr>\n",
       "<tr>\n",
       "  <th>Kurtosis:</th>      <td> 3.879</td> <th>  Cond. No.          </th> <td>    45.0</td>\n",
       "</tr>\n",
       "</table><br/><br/>Warnings:<br/>[1] Standard Errors assume that the covariance matrix of the errors is correctly specified."
      ],
      "text/plain": [
       "<class 'statsmodels.iolib.summary.Summary'>\n",
       "\"\"\"\n",
       "                            OLS Regression Results                            \n",
       "==============================================================================\n",
       "Dep. Variable:                 bbrate   R-squared:                       0.294\n",
       "Model:                            OLS   Adj. R-squared:                  0.293\n",
       "Method:                 Least Squares   F-statistic:                     593.4\n",
       "Date:                Wed, 14 Apr 2021   Prob (F-statistic):          7.21e-110\n",
       "Time:                        08:56:21   Log-Likelihood:                 3619.4\n",
       "No. Observations:                1428   AIC:                            -7235.\n",
       "Df Residuals:                    1426   BIC:                            -7224.\n",
       "Df Model:                           1                                         \n",
       "Covariance Type:            nonrobust                                         \n",
       "===============================================================================\n",
       "                  coef    std err          t      P>|t|      [0.025      0.975]\n",
       "-------------------------------------------------------------------------------\n",
       "Intercept       0.0332      0.002     19.342      0.000       0.030       0.037\n",
       "bbrate_prev     0.5537      0.023     24.359      0.000       0.509       0.598\n",
       "==============================================================================\n",
       "Omnibus:                       72.252   Durbin-Watson:                   2.120\n",
       "Prob(Omnibus):                  0.000   Jarque-Bera (JB):               98.115\n",
       "Skew:                           0.468   Prob(JB):                     4.95e-22\n",
       "Kurtosis:                       3.879   Cond. No.                         45.0\n",
       "==============================================================================\n",
       "\n",
       "Warnings:\n",
       "[1] Standard Errors assume that the covariance matrix of the errors is correctly specified.\n",
       "\"\"\""
      ]
     },
     "execution_count": 9,
     "metadata": {},
     "output_type": "execute_result"
    }
   ],
   "source": [
    "#bbrate model\n",
    "mod_bb = smf.ols('bbrate~bbrate_prev',data = data).fit()\n",
    "mod_bb.summary()"
   ]
  },
  {
   "cell_type": "markdown",
   "metadata": {},
   "source": [
    "### Part a.ii"
   ]
  },
  {
   "cell_type": "code",
   "execution_count": 10,
   "metadata": {},
   "outputs": [],
   "source": [
    "#filter for 2019 season, bf at least 200, and stats based on consecutive seasons only\n",
    "data_19 = yr_summary.loc[(yr_summary.game_year == 2019) & (yr_summary.bf >=200) & (yr_summary.bf_prev >=200)& (yr_summary.played_prev <= 1)]"
   ]
  },
  {
   "cell_type": "code",
   "execution_count": 11,
   "metadata": {},
   "outputs": [
    {
     "name": "stdout",
     "output_type": "stream",
     "text": [
      "Out-of-sample MSE: 0.00046098357531102147\n"
     ]
    }
   ],
   "source": [
    "bbrate_preds = mod_bb.predict(data_19.bbrate_prev)\n",
    "bb_mse = mse(data_19.bbrate, bbrate_preds)\n",
    "print(f'Out-of-sample MSE: {bb_mse}')"
   ]
  },
  {
   "cell_type": "markdown",
   "metadata": {},
   "source": [
    "### Part b.i: k-rate"
   ]
  },
  {
   "cell_type": "code",
   "execution_count": 12,
   "metadata": {},
   "outputs": [
    {
     "data": {
      "text/html": [
       "<table class=\"simpletable\">\n",
       "<caption>OLS Regression Results</caption>\n",
       "<tr>\n",
       "  <th>Dep. Variable:</th>          <td>krate</td>      <th>  R-squared:         </th> <td>   0.550</td> \n",
       "</tr>\n",
       "<tr>\n",
       "  <th>Model:</th>                   <td>OLS</td>       <th>  Adj. R-squared:    </th> <td>   0.550</td> \n",
       "</tr>\n",
       "<tr>\n",
       "  <th>Method:</th>             <td>Least Squares</td>  <th>  F-statistic:       </th> <td>   1745.</td> \n",
       "</tr>\n",
       "<tr>\n",
       "  <th>Date:</th>             <td>Wed, 14 Apr 2021</td> <th>  Prob (F-statistic):</th> <td>9.16e-250</td>\n",
       "</tr>\n",
       "<tr>\n",
       "  <th>Time:</th>                 <td>08:57:20</td>     <th>  Log-Likelihood:    </th> <td>  2455.8</td> \n",
       "</tr>\n",
       "<tr>\n",
       "  <th>No. Observations:</th>      <td>  1428</td>      <th>  AIC:               </th> <td>  -4908.</td> \n",
       "</tr>\n",
       "<tr>\n",
       "  <th>Df Residuals:</th>          <td>  1426</td>      <th>  BIC:               </th> <td>  -4897.</td> \n",
       "</tr>\n",
       "<tr>\n",
       "  <th>Df Model:</th>              <td>     1</td>      <th>                     </th>     <td> </td>    \n",
       "</tr>\n",
       "<tr>\n",
       "  <th>Covariance Type:</th>      <td>nonrobust</td>    <th>                     </th>     <td> </td>    \n",
       "</tr>\n",
       "</table>\n",
       "<table class=\"simpletable\">\n",
       "<tr>\n",
       "       <td></td>         <th>coef</th>     <th>std err</th>      <th>t</th>      <th>P>|t|</th>  <th>[0.025</th>    <th>0.975]</th>  \n",
       "</tr>\n",
       "<tr>\n",
       "  <th>Intercept</th>  <td>    0.0602</td> <td>    0.004</td> <td>   13.854</td> <td> 0.000</td> <td>    0.052</td> <td>    0.069</td>\n",
       "</tr>\n",
       "<tr>\n",
       "  <th>krate_prev</th> <td>    0.7447</td> <td>    0.018</td> <td>   41.776</td> <td> 0.000</td> <td>    0.710</td> <td>    0.780</td>\n",
       "</tr>\n",
       "</table>\n",
       "<table class=\"simpletable\">\n",
       "<tr>\n",
       "  <th>Omnibus:</th>       <td>103.116</td> <th>  Durbin-Watson:     </th> <td>   2.214</td>\n",
       "</tr>\n",
       "<tr>\n",
       "  <th>Prob(Omnibus):</th> <td> 0.000</td>  <th>  Jarque-Bera (JB):  </th> <td> 140.450</td>\n",
       "</tr>\n",
       "<tr>\n",
       "  <th>Skew:</th>          <td> 0.608</td>  <th>  Prob(JB):          </th> <td>3.17e-31</td>\n",
       "</tr>\n",
       "<tr>\n",
       "  <th>Kurtosis:</th>      <td> 3.938</td>  <th>  Cond. No.          </th> <td>    16.4</td>\n",
       "</tr>\n",
       "</table><br/><br/>Warnings:<br/>[1] Standard Errors assume that the covariance matrix of the errors is correctly specified."
      ],
      "text/plain": [
       "<class 'statsmodels.iolib.summary.Summary'>\n",
       "\"\"\"\n",
       "                            OLS Regression Results                            \n",
       "==============================================================================\n",
       "Dep. Variable:                  krate   R-squared:                       0.550\n",
       "Model:                            OLS   Adj. R-squared:                  0.550\n",
       "Method:                 Least Squares   F-statistic:                     1745.\n",
       "Date:                Wed, 14 Apr 2021   Prob (F-statistic):          9.16e-250\n",
       "Time:                        08:57:20   Log-Likelihood:                 2455.8\n",
       "No. Observations:                1428   AIC:                            -4908.\n",
       "Df Residuals:                    1426   BIC:                            -4897.\n",
       "Df Model:                           1                                         \n",
       "Covariance Type:            nonrobust                                         \n",
       "==============================================================================\n",
       "                 coef    std err          t      P>|t|      [0.025      0.975]\n",
       "------------------------------------------------------------------------------\n",
       "Intercept      0.0602      0.004     13.854      0.000       0.052       0.069\n",
       "krate_prev     0.7447      0.018     41.776      0.000       0.710       0.780\n",
       "==============================================================================\n",
       "Omnibus:                      103.116   Durbin-Watson:                   2.214\n",
       "Prob(Omnibus):                  0.000   Jarque-Bera (JB):              140.450\n",
       "Skew:                           0.608   Prob(JB):                     3.17e-31\n",
       "Kurtosis:                       3.938   Cond. No.                         16.4\n",
       "==============================================================================\n",
       "\n",
       "Warnings:\n",
       "[1] Standard Errors assume that the covariance matrix of the errors is correctly specified.\n",
       "\"\"\""
      ]
     },
     "execution_count": 12,
     "metadata": {},
     "output_type": "execute_result"
    }
   ],
   "source": [
    "#krate model\n",
    "mod_k = smf.ols('krate~krate_prev',data = data).fit()\n",
    "mod_k.summary()"
   ]
  },
  {
   "cell_type": "markdown",
   "metadata": {},
   "source": [
    "### Part b.ii"
   ]
  },
  {
   "cell_type": "code",
   "execution_count": 13,
   "metadata": {},
   "outputs": [
    {
     "name": "stdout",
     "output_type": "stream",
     "text": [
      "Out-of-sample MSE: 0.001996196008974319\n"
     ]
    }
   ],
   "source": [
    "krate_preds = mod_k.predict(data_19.krate_prev)\n",
    "k_mse = mse(data_19.krate, krate_preds)\n",
    "print(f'Out-of-sample MSE: {k_mse}')"
   ]
  },
  {
   "cell_type": "markdown",
   "metadata": {},
   "source": [
    "## Question 2: Called Strike Model"
   ]
  },
  {
   "cell_type": "code",
   "execution_count": 14,
   "metadata": {},
   "outputs": [],
   "source": [
    "df_cs = df_sc.copy()\n",
    "\n",
    "#get columns of interest\n",
    "df_cs = df_cs[['game_year','description','pitch_type','batter','release_pos_x','release_pos_z','zone','stand','p_throws','balls',\n",
    "              'strikes','pfx_x','pfx_z','plate_x','plate_z','vx0','vy0','sz_top','sz_bot','vz0','ax','ay','az',\n",
    "              'outs_when_up','on_1b','on_2b','on_3b','release_speed','release_spin_rate','release_extension']]\n",
    "\n",
    "#create indicator variable for when called strike\n",
    "df_cs.loc[:,'called_strike'] = (df_cs.description == 'called_strike')*1.0\n",
    "\n",
    "#fill missing values with -999\n",
    "df_cs = df_cs.fillna(-999)"
   ]
  },
  {
   "cell_type": "code",
   "execution_count": 15,
   "metadata": {},
   "outputs": [],
   "source": [
    "#create indicator variable for if pitcher is throwing to the outside of the batter\n",
    "df_cs['outside_pitch'] = (df_cs['stand'] == df_cs['p_throws'])*1.0\n",
    "\n",
    "#remove stand and pitcher columns\n",
    "df_cs = df_cs.drop(columns = ['stand','p_throws'])\n",
    "\n",
    "#create interaction variable between whether pitcher was pitching outside and plate_x\n",
    "df_cs['outside_pitch_platex'] = df_cs.outside_pitch*df_cs.plate_x"
   ]
  },
  {
   "cell_type": "code",
   "execution_count": 16,
   "metadata": {},
   "outputs": [],
   "source": [
    "#treat categorical columns\n",
    "cat_cols = ['pitch_type','zone']\n",
    "\n",
    "for col in cat_cols:\n",
    "    for val in df_cs[col].unique():\n",
    "        if val != -999:\n",
    "            df_cs[col+'_'+str(val)] = (df_cs[col] == val)*1.0\n",
    "        else:\n",
    "            #indicator variable for if column is missing value\n",
    "            df_cs[col+'_mv'] = (df_cs[col] == -999)*1.0\n",
    "            \n",
    "#drop original categorical columns\n",
    "df_cs = df_cs.drop(columns = cat_cols)"
   ]
  },
  {
   "cell_type": "code",
   "execution_count": 17,
   "metadata": {},
   "outputs": [],
   "source": [
    "#treat on base indicator columns\n",
    "on_b = ['on_1b','on_2b','on_3b']\n",
    "\n",
    "#create indicator variable for whether there is a player on base or not\n",
    "for b in on_b:\n",
    "    df_cs[b+'_ind'] = np.where(df_cs[b] == -999,0.0,1.0)\n",
    "\n",
    "#drop original on base columns\n",
    "df_cs = df_cs.drop(columns = on_b)"
   ]
  },
  {
   "cell_type": "code",
   "execution_count": 18,
   "metadata": {},
   "outputs": [],
   "source": [
    "#these columns are always missing together: release_pos, pfx, plate, v, sz, a\n",
    "#create column indicating if these are missing\n",
    "df_cs['num_mv'] = np.where(df_cs.release_pos_x == -999,1.0,0.0)\n",
    "\n",
    "#create columns indicating if remaining release variables are missing\n",
    "df_cs['release_speed_mv'] = np.where(df_cs.release_speed == -999,1.0,0.0)\n",
    "df_cs['release_spin_rate_mv'] = np.where(df_cs.release_spin_rate == -999,1.0,0.0)\n",
    "df_cs['release_extension_mv'] = np.where(df_cs.release_extension == -999,1.0,0.0)"
   ]
  },
  {
   "cell_type": "code",
   "execution_count": 19,
   "metadata": {},
   "outputs": [],
   "source": [
    "#treat missing numerical data\n",
    "\n",
    "num_cols = ['release_pos_x','release_pos_z','pfx_x','pfx_z','plate_x','plate_z','vx0','vy0',\n",
    "           'vz0','sz_top','sz_bot','ax','ay','az','release_speed','release_extension']\n",
    "\n",
    "#replace nan values in numerical columns with mean of column\n",
    "for col in num_cols:\n",
    "    df_cs[col] = df_cs[col].replace([-999],df_cs.loc[df_cs[col] !=-999][col].mean())\n",
    "\n",
    "#release spin rate col is an int so treat separately\n",
    "df_cs['release_spin_rate'] = df_cs['release_spin_rate'].replace([-999],int(df_cs.loc[df_cs['release_spin_rate'] !=-999]['release_spin_rate'].mean()))\n",
    "df_cs['release_spin_rate'] = df_cs['release_spin_rate'].astype(float)\n"
   ]
  },
  {
   "cell_type": "code",
   "execution_count": 20,
   "metadata": {},
   "outputs": [],
   "source": [
    "#apply linear penalties for pitches outside strike zone\n",
    "def HighMiss(z, top, thresh):\n",
    "    return np.maximum(0, z-(top-thresh))\n",
    "\n",
    "def LowMiss(z, bot, thresh):\n",
    "    return np.maximum(bot+thresh-z, 0)\n",
    "\n",
    "def LeftMiss(x, thresh):\n",
    "    return np.maximum(0, -x-thresh)\n",
    "\n",
    "def RightMiss(x, thresh):\n",
    "    return np.maximum(0, x-thresh)"
   ]
  },
  {
   "cell_type": "code",
   "execution_count": 22,
   "metadata": {},
   "outputs": [],
   "source": [
    "#feature for distance from pitch to centre of strike zone\n",
    "df_cs['dist_mid'] = np.sqrt(df_cs.plate_x**2+((df_cs.sz_top + df_cs.sz_bot)/2 - df_cs.plate_z)**2)"
   ]
  },
  {
   "cell_type": "code",
   "execution_count": 23,
   "metadata": {},
   "outputs": [
    {
     "data": {
      "text/plain": [
       "pitch_type_FA  called_strike\n",
       "0.0            0.0              0.950176\n",
       "               1.0              0.049824\n",
       "1.0            0.0              1.000000\n",
       "Name: called_strike, dtype: float64"
      ]
     },
     "execution_count": 23,
     "metadata": {},
     "output_type": "execute_result"
    }
   ],
   "source": [
    "#if fastball, never called strike so don't include as feature\n",
    "df_cs.groupby(['pitch_type_FA']).called_strike.value_counts()/df_cs.groupby(['pitch_type_FA']).called_strike.count()"
   ]
  },
  {
   "cell_type": "code",
   "execution_count": 24,
   "metadata": {},
   "outputs": [
    {
     "data": {
      "text/plain": [
       "pitch_type_PO  called_strike\n",
       "0.0            0.0              0.950174\n",
       "               1.0              0.049826\n",
       "1.0            0.0              1.000000\n",
       "Name: called_strike, dtype: float64"
      ]
     },
     "execution_count": 24,
     "metadata": {},
     "output_type": "execute_result"
    }
   ],
   "source": [
    "#if pitch out, never called strike so don't include as feature\n",
    "df_cs.groupby(['pitch_type_PO']).called_strike.value_counts()/df_cs.groupby(['pitch_type_PO']).called_strike.count()"
   ]
  },
  {
   "cell_type": "code",
   "execution_count": 25,
   "metadata": {},
   "outputs": [],
   "source": [
    "#drop fastball/pitch out columns\n",
    "df_cs = df_cs.drop(columns = ['pitch_type_FA','pitch_type_PO'])"
   ]
  },
  {
   "cell_type": "code",
   "execution_count": 26,
   "metadata": {},
   "outputs": [],
   "source": [
    "#incorporate indcator variables for ball and strike counts\n",
    "for b in df_cs['balls'].unique():\n",
    "    for s in df_cs['strikes'].unique():\n",
    "        df_cs['b'+str(b)+'s'+str(s)] = ((df_cs['balls'] == b) &(df_cs['strikes'] == s))*1.0"
   ]
  },
  {
   "cell_type": "code",
   "execution_count": 27,
   "metadata": {},
   "outputs": [],
   "source": [
    "#incorporate indicator variable for number of outs when up\n",
    "for val in df_cs['outs_when_up'].unique():\n",
    "    df_cs['outs_when_up' +str(val)] = (df_cs['outs_when_up'] == val)*1.0"
   ]
  },
  {
   "cell_type": "code",
   "execution_count": 28,
   "metadata": {},
   "outputs": [],
   "source": [
    "#restrict only to pitches where batter did not swing; ie. ball, blocked ball, or called strike\n",
    "data_cs = df_cs.loc[(df_cs.description == 'ball')|(df_cs.description == 'blocked_ball')|(df_cs.description == 'called_strike')]\n",
    "\n",
    "#split into train/test\n",
    "train = data_cs.loc[data_cs.game_year < 2018].copy()\n",
    "test = data_cs.loc[data_cs.game_year == 2018].copy()\n",
    "\n",
    "y_train = train.called_strike\n",
    "y_test = test.called_strike"
   ]
  },
  {
   "cell_type": "markdown",
   "metadata": {},
   "source": [
    "### Model 1"
   ]
  },
  {
   "cell_type": "code",
   "execution_count": 29,
   "metadata": {},
   "outputs": [
    {
     "name": "stdout",
     "output_type": "stream",
     "text": [
      "Optimization terminated successfully.\n",
      "         Current function value: 0.285160\n",
      "         Iterations 9\n"
     ]
    }
   ],
   "source": [
    "mod_cs1 = smf.logit('called_strike ~ HighMiss(plate_z,sz_top,0.25) + LowMiss(plate_z,sz_bot,0.25) + LeftMiss(plate_x,0.75)+RightMiss(plate_x,0.75)', data = train).fit()\n"
   ]
  },
  {
   "cell_type": "code",
   "execution_count": 30,
   "metadata": {},
   "outputs": [
    {
     "data": {
      "text/html": [
       "<table class=\"simpletable\">\n",
       "<caption>Logit Regression Results</caption>\n",
       "<tr>\n",
       "  <th>Dep. Variable:</th>     <td>called_strike</td>  <th>  No. Observations:  </th>  <td>137679</td> \n",
       "</tr>\n",
       "<tr>\n",
       "  <th>Model:</th>                 <td>Logit</td>      <th>  Df Residuals:      </th>  <td>137674</td> \n",
       "</tr>\n",
       "<tr>\n",
       "  <th>Method:</th>                 <td>MLE</td>       <th>  Df Model:          </th>  <td>     4</td> \n",
       "</tr>\n",
       "<tr>\n",
       "  <th>Date:</th>            <td>Wed, 14 Apr 2021</td> <th>  Pseudo R-squ.:     </th>  <td>0.5744</td> \n",
       "</tr>\n",
       "<tr>\n",
       "  <th>Time:</th>                <td>08:59:06</td>     <th>  Log-Likelihood:    </th> <td> -39261.</td>\n",
       "</tr>\n",
       "<tr>\n",
       "  <th>converged:</th>             <td>True</td>       <th>  LL-Null:           </th> <td> -92237.</td>\n",
       "</tr>\n",
       "<tr>\n",
       "  <th>Covariance Type:</th>     <td>nonrobust</td>    <th>  LLR p-value:       </th>  <td> 0.000</td> \n",
       "</tr>\n",
       "</table>\n",
       "<table class=\"simpletable\">\n",
       "<tr>\n",
       "                 <td></td>                    <th>coef</th>     <th>std err</th>      <th>z</th>      <th>P>|z|</th>  <th>[0.025</th>    <th>0.975]</th>  \n",
       "</tr>\n",
       "<tr>\n",
       "  <th>Intercept</th>                       <td>    2.5377</td> <td>    0.016</td> <td>  161.575</td> <td> 0.000</td> <td>    2.507</td> <td>    2.568</td>\n",
       "</tr>\n",
       "<tr>\n",
       "  <th>HighMiss(plate_z, sz_top, 0.25)</th> <td>   -9.2302</td> <td>    0.084</td> <td> -109.743</td> <td> 0.000</td> <td>   -9.395</td> <td>   -9.065</td>\n",
       "</tr>\n",
       "<tr>\n",
       "  <th>LowMiss(plate_z, sz_bot, 0.25)</th>  <td>   -8.3928</td> <td>    0.063</td> <td> -133.948</td> <td> 0.000</td> <td>   -8.516</td> <td>   -8.270</td>\n",
       "</tr>\n",
       "<tr>\n",
       "  <th>LeftMiss(plate_x, 0.75)</th>         <td>   -7.7622</td> <td>    0.060</td> <td> -129.230</td> <td> 0.000</td> <td>   -7.880</td> <td>   -7.645</td>\n",
       "</tr>\n",
       "<tr>\n",
       "  <th>RightMiss(plate_x, 0.75)</th>        <td>  -10.5477</td> <td>    0.092</td> <td> -115.152</td> <td> 0.000</td> <td>  -10.727</td> <td>  -10.368</td>\n",
       "</tr>\n",
       "</table>"
      ],
      "text/plain": [
       "<class 'statsmodels.iolib.summary.Summary'>\n",
       "\"\"\"\n",
       "                           Logit Regression Results                           \n",
       "==============================================================================\n",
       "Dep. Variable:          called_strike   No. Observations:               137679\n",
       "Model:                          Logit   Df Residuals:                   137674\n",
       "Method:                           MLE   Df Model:                            4\n",
       "Date:                Wed, 14 Apr 2021   Pseudo R-squ.:                  0.5744\n",
       "Time:                        08:59:06   Log-Likelihood:                -39261.\n",
       "converged:                       True   LL-Null:                       -92237.\n",
       "Covariance Type:            nonrobust   LLR p-value:                     0.000\n",
       "===================================================================================================\n",
       "                                      coef    std err          z      P>|z|      [0.025      0.975]\n",
       "---------------------------------------------------------------------------------------------------\n",
       "Intercept                           2.5377      0.016    161.575      0.000       2.507       2.568\n",
       "HighMiss(plate_z, sz_top, 0.25)    -9.2302      0.084   -109.743      0.000      -9.395      -9.065\n",
       "LowMiss(plate_z, sz_bot, 0.25)     -8.3928      0.063   -133.948      0.000      -8.516      -8.270\n",
       "LeftMiss(plate_x, 0.75)            -7.7622      0.060   -129.230      0.000      -7.880      -7.645\n",
       "RightMiss(plate_x, 0.75)          -10.5477      0.092   -115.152      0.000     -10.727     -10.368\n",
       "===================================================================================================\n",
       "\"\"\""
      ]
     },
     "execution_count": 30,
     "metadata": {},
     "output_type": "execute_result"
    }
   ],
   "source": [
    "#all features have predictive power\n",
    "mod_cs1.summary()"
   ]
  },
  {
   "cell_type": "code",
   "execution_count": 31,
   "metadata": {},
   "outputs": [
    {
     "data": {
      "text/plain": [
       "0.07777594460030494"
      ]
     },
     "execution_count": 31,
     "metadata": {},
     "output_type": "execute_result"
    }
   ],
   "source": [
    "y_preds = mod_cs1.predict(test.drop(columns = 'called_strike'))\n",
    "brier_score_loss(y_test, y_preds)"
   ]
  },
  {
   "cell_type": "markdown",
   "metadata": {},
   "source": [
    "### Model 2"
   ]
  },
  {
   "cell_type": "code",
   "execution_count": 32,
   "metadata": {},
   "outputs": [
    {
     "name": "stdout",
     "output_type": "stream",
     "text": [
      "Optimization terminated successfully.\n",
      "         Current function value: 0.279425\n",
      "         Iterations 9\n"
     ]
    }
   ],
   "source": [
    "mod_cs2 = smf.logit('called_strike ~ HighMiss(plate_z,sz_top,0.25) + LowMiss(plate_z,sz_bot,0.25) + LeftMiss(plate_x,0.75)+RightMiss(plate_x,0.75)+dist_mid+plate_x+outside_pitch_platex', data = train).fit()\n"
   ]
  },
  {
   "cell_type": "code",
   "execution_count": 33,
   "metadata": {},
   "outputs": [
    {
     "data": {
      "text/html": [
       "<table class=\"simpletable\">\n",
       "<caption>Logit Regression Results</caption>\n",
       "<tr>\n",
       "  <th>Dep. Variable:</th>     <td>called_strike</td>  <th>  No. Observations:  </th>  <td>137679</td> \n",
       "</tr>\n",
       "<tr>\n",
       "  <th>Model:</th>                 <td>Logit</td>      <th>  Df Residuals:      </th>  <td>137671</td> \n",
       "</tr>\n",
       "<tr>\n",
       "  <th>Method:</th>                 <td>MLE</td>       <th>  Df Model:          </th>  <td>     7</td> \n",
       "</tr>\n",
       "<tr>\n",
       "  <th>Date:</th>            <td>Wed, 14 Apr 2021</td> <th>  Pseudo R-squ.:     </th>  <td>0.5829</td> \n",
       "</tr>\n",
       "<tr>\n",
       "  <th>Time:</th>                <td>08:59:12</td>     <th>  Log-Likelihood:    </th> <td> -38471.</td>\n",
       "</tr>\n",
       "<tr>\n",
       "  <th>converged:</th>             <td>True</td>       <th>  LL-Null:           </th> <td> -92237.</td>\n",
       "</tr>\n",
       "<tr>\n",
       "  <th>Covariance Type:</th>     <td>nonrobust</td>    <th>  LLR p-value:       </th>  <td> 0.000</td> \n",
       "</tr>\n",
       "</table>\n",
       "<table class=\"simpletable\">\n",
       "<tr>\n",
       "                 <td></td>                    <th>coef</th>     <th>std err</th>      <th>z</th>      <th>P>|z|</th>  <th>[0.025</th>    <th>0.975]</th>  \n",
       "</tr>\n",
       "<tr>\n",
       "  <th>Intercept</th>                       <td>    3.5914</td> <td>    0.061</td> <td>   58.859</td> <td> 0.000</td> <td>    3.472</td> <td>    3.711</td>\n",
       "</tr>\n",
       "<tr>\n",
       "  <th>HighMiss(plate_z, sz_top, 0.25)</th> <td>   -8.1890</td> <td>    0.115</td> <td>  -71.466</td> <td> 0.000</td> <td>   -8.414</td> <td>   -7.964</td>\n",
       "</tr>\n",
       "<tr>\n",
       "  <th>LowMiss(plate_z, sz_bot, 0.25)</th>  <td>   -7.2312</td> <td>    0.101</td> <td>  -71.732</td> <td> 0.000</td> <td>   -7.429</td> <td>   -7.034</td>\n",
       "</tr>\n",
       "<tr>\n",
       "  <th>LeftMiss(plate_x, 0.75)</th>         <td>   -7.5939</td> <td>    0.127</td> <td>  -59.951</td> <td> 0.000</td> <td>   -7.842</td> <td>   -7.346</td>\n",
       "</tr>\n",
       "<tr>\n",
       "  <th>RightMiss(plate_x, 0.75)</th>        <td>   -7.8423</td> <td>    0.146</td> <td>  -53.807</td> <td> 0.000</td> <td>   -8.128</td> <td>   -7.557</td>\n",
       "</tr>\n",
       "<tr>\n",
       "  <th>dist_mid</th>                        <td>   -1.2784</td> <td>    0.076</td> <td>  -16.745</td> <td> 0.000</td> <td>   -1.428</td> <td>   -1.129</td>\n",
       "</tr>\n",
       "<tr>\n",
       "  <th>plate_x</th>                         <td>   -0.3915</td> <td>    0.022</td> <td>  -18.049</td> <td> 0.000</td> <td>   -0.434</td> <td>   -0.349</td>\n",
       "</tr>\n",
       "<tr>\n",
       "  <th>outside_pitch_platex</th>            <td>    0.0038</td> <td>    0.000</td> <td>   36.884</td> <td> 0.000</td> <td>    0.004</td> <td>    0.004</td>\n",
       "</tr>\n",
       "</table>"
      ],
      "text/plain": [
       "<class 'statsmodels.iolib.summary.Summary'>\n",
       "\"\"\"\n",
       "                           Logit Regression Results                           \n",
       "==============================================================================\n",
       "Dep. Variable:          called_strike   No. Observations:               137679\n",
       "Model:                          Logit   Df Residuals:                   137671\n",
       "Method:                           MLE   Df Model:                            7\n",
       "Date:                Wed, 14 Apr 2021   Pseudo R-squ.:                  0.5829\n",
       "Time:                        08:59:12   Log-Likelihood:                -38471.\n",
       "converged:                       True   LL-Null:                       -92237.\n",
       "Covariance Type:            nonrobust   LLR p-value:                     0.000\n",
       "===================================================================================================\n",
       "                                      coef    std err          z      P>|z|      [0.025      0.975]\n",
       "---------------------------------------------------------------------------------------------------\n",
       "Intercept                           3.5914      0.061     58.859      0.000       3.472       3.711\n",
       "HighMiss(plate_z, sz_top, 0.25)    -8.1890      0.115    -71.466      0.000      -8.414      -7.964\n",
       "LowMiss(plate_z, sz_bot, 0.25)     -7.2312      0.101    -71.732      0.000      -7.429      -7.034\n",
       "LeftMiss(plate_x, 0.75)            -7.5939      0.127    -59.951      0.000      -7.842      -7.346\n",
       "RightMiss(plate_x, 0.75)           -7.8423      0.146    -53.807      0.000      -8.128      -7.557\n",
       "dist_mid                           -1.2784      0.076    -16.745      0.000      -1.428      -1.129\n",
       "plate_x                            -0.3915      0.022    -18.049      0.000      -0.434      -0.349\n",
       "outside_pitch_platex                0.0038      0.000     36.884      0.000       0.004       0.004\n",
       "===================================================================================================\n",
       "\"\"\""
      ]
     },
     "execution_count": 33,
     "metadata": {},
     "output_type": "execute_result"
    }
   ],
   "source": [
    "#improved model performance with new features\n",
    "mod_cs2.summary()"
   ]
  },
  {
   "cell_type": "code",
   "execution_count": 34,
   "metadata": {},
   "outputs": [
    {
     "data": {
      "text/plain": [
       "0.07771236163288979"
      ]
     },
     "execution_count": 34,
     "metadata": {},
     "output_type": "execute_result"
    }
   ],
   "source": [
    "y_preds = mod_cs2.predict(test.drop(columns = 'called_strike'))\n",
    "brier_score_loss(y_test, y_preds)"
   ]
  },
  {
   "cell_type": "markdown",
   "metadata": {},
   "source": [
    "### Model 3"
   ]
  },
  {
   "cell_type": "code",
   "execution_count": 35,
   "metadata": {},
   "outputs": [
    {
     "name": "stdout",
     "output_type": "stream",
     "text": [
      "Optimization terminated successfully.\n",
      "         Current function value: 0.087362\n",
      "         Iterations 13\n"
     ]
    }
   ],
   "source": [
    "mod_cs3 = smf.logit('called_strike ~ HighMiss(plate_z,sz_top,0.25) + LowMiss(plate_z,sz_bot,0.25) + LeftMiss(plate_x,0.75)+RightMiss(plate_x,0.75)+dist_mid+plate_x+outside_pitch_platex+b0s1+b0s2+b1s1+b1s2+b3s1+b3s0+b3s2+b2s1+b2s0+b2s2', data = train).fit()"
   ]
  },
  {
   "cell_type": "code",
   "execution_count": 36,
   "metadata": {},
   "outputs": [
    {
     "data": {
      "text/html": [
       "<table class=\"simpletable\">\n",
       "<caption>Logit Regression Results</caption>\n",
       "<tr>\n",
       "  <th>Dep. Variable:</th>     <td>called_strike</td>  <th>  No. Observations:  </th>  <td>137679</td> \n",
       "</tr>\n",
       "<tr>\n",
       "  <th>Model:</th>                 <td>Logit</td>      <th>  Df Residuals:      </th>  <td>137661</td> \n",
       "</tr>\n",
       "<tr>\n",
       "  <th>Method:</th>                 <td>MLE</td>       <th>  Df Model:          </th>  <td>    17</td> \n",
       "</tr>\n",
       "<tr>\n",
       "  <th>Date:</th>            <td>Wed, 14 Apr 2021</td> <th>  Pseudo R-squ.:     </th>  <td>0.8696</td> \n",
       "</tr>\n",
       "<tr>\n",
       "  <th>Time:</th>                <td>09:04:51</td>     <th>  Log-Likelihood:    </th> <td> -12028.</td>\n",
       "</tr>\n",
       "<tr>\n",
       "  <th>converged:</th>             <td>True</td>       <th>  LL-Null:           </th> <td> -92237.</td>\n",
       "</tr>\n",
       "<tr>\n",
       "  <th>Covariance Type:</th>     <td>nonrobust</td>    <th>  LLR p-value:       </th>  <td> 0.000</td> \n",
       "</tr>\n",
       "</table>\n",
       "<table class=\"simpletable\">\n",
       "<tr>\n",
       "                 <td></td>                    <th>coef</th>     <th>std err</th>      <th>z</th>      <th>P>|z|</th>  <th>[0.025</th>    <th>0.975]</th>  \n",
       "</tr>\n",
       "<tr>\n",
       "  <th>Intercept</th>                       <td>    2.3468</td> <td>    0.164</td> <td>   14.337</td> <td> 0.000</td> <td>    2.026</td> <td>    2.668</td>\n",
       "</tr>\n",
       "<tr>\n",
       "  <th>HighMiss(plate_z, sz_top, 0.25)</th> <td>   -8.1310</td> <td>    0.198</td> <td>  -41.142</td> <td> 0.000</td> <td>   -8.518</td> <td>   -7.744</td>\n",
       "</tr>\n",
       "<tr>\n",
       "  <th>LowMiss(plate_z, sz_bot, 0.25)</th>  <td>   -6.9117</td> <td>    0.167</td> <td>  -41.314</td> <td> 0.000</td> <td>   -7.240</td> <td>   -6.584</td>\n",
       "</tr>\n",
       "<tr>\n",
       "  <th>LeftMiss(plate_x, 0.75)</th>         <td>   -8.8525</td> <td>    0.231</td> <td>  -38.306</td> <td> 0.000</td> <td>   -9.305</td> <td>   -8.400</td>\n",
       "</tr>\n",
       "<tr>\n",
       "  <th>RightMiss(plate_x, 0.75)</th>        <td>   -9.0510</td> <td>    0.273</td> <td>  -33.113</td> <td> 0.000</td> <td>   -9.587</td> <td>   -8.515</td>\n",
       "</tr>\n",
       "<tr>\n",
       "  <th>dist_mid</th>                        <td>   -0.9849</td> <td>    0.125</td> <td>   -7.869</td> <td> 0.000</td> <td>   -1.230</td> <td>   -0.740</td>\n",
       "</tr>\n",
       "<tr>\n",
       "  <th>plate_x</th>                         <td>   -0.5446</td> <td>    0.038</td> <td>  -14.262</td> <td> 0.000</td> <td>   -0.619</td> <td>   -0.470</td>\n",
       "</tr>\n",
       "<tr>\n",
       "  <th>outside_pitch_platex</th>            <td>    0.0042</td> <td>    0.000</td> <td>   19.524</td> <td> 0.000</td> <td>    0.004</td> <td>    0.005</td>\n",
       "</tr>\n",
       "<tr>\n",
       "  <th>b0s1</th>                            <td>   -0.7172</td> <td>    0.301</td> <td>   -2.382</td> <td> 0.017</td> <td>   -1.307</td> <td>   -0.127</td>\n",
       "</tr>\n",
       "<tr>\n",
       "  <th>b0s2</th>                            <td>    6.2887</td> <td>    0.201</td> <td>   31.287</td> <td> 0.000</td> <td>    5.895</td> <td>    6.683</td>\n",
       "</tr>\n",
       "<tr>\n",
       "  <th>b1s1</th>                            <td>   -0.3730</td> <td>    0.310</td> <td>   -1.201</td> <td> 0.230</td> <td>   -0.982</td> <td>    0.236</td>\n",
       "</tr>\n",
       "<tr>\n",
       "  <th>b1s2</th>                            <td>    6.5326</td> <td>    0.184</td> <td>   35.536</td> <td> 0.000</td> <td>    6.172</td> <td>    6.893</td>\n",
       "</tr>\n",
       "<tr>\n",
       "  <th>b3s1</th>                            <td>   -6.1097</td> <td>    0.301</td> <td>  -20.285</td> <td> 0.000</td> <td>   -6.700</td> <td>   -5.519</td>\n",
       "</tr>\n",
       "<tr>\n",
       "  <th>b3s0</th>                            <td>   -6.9910</td> <td>    0.519</td> <td>  -13.469</td> <td> 0.000</td> <td>   -8.008</td> <td>   -5.974</td>\n",
       "</tr>\n",
       "<tr>\n",
       "  <th>b3s2</th>                            <td>    0.2700</td> <td>    0.138</td> <td>    1.955</td> <td> 0.051</td> <td>   -0.001</td> <td>    0.541</td>\n",
       "</tr>\n",
       "<tr>\n",
       "  <th>b2s1</th>                            <td>   -0.5614</td> <td>    0.515</td> <td>   -1.090</td> <td> 0.276</td> <td>   -1.571</td> <td>    0.448</td>\n",
       "</tr>\n",
       "<tr>\n",
       "  <th>b2s0</th>                            <td>    0.0474</td> <td>    0.569</td> <td>    0.083</td> <td> 0.934</td> <td>   -1.067</td> <td>    1.162</td>\n",
       "</tr>\n",
       "<tr>\n",
       "  <th>b2s2</th>                            <td>    6.8079</td> <td>    0.195</td> <td>   34.966</td> <td> 0.000</td> <td>    6.426</td> <td>    7.189</td>\n",
       "</tr>\n",
       "</table><br/><br/>Possibly complete quasi-separation: A fraction 0.27 of observations can be<br/>perfectly predicted. This might indicate that there is complete<br/>quasi-separation. In this case some parameters will not be identified."
      ],
      "text/plain": [
       "<class 'statsmodels.iolib.summary.Summary'>\n",
       "\"\"\"\n",
       "                           Logit Regression Results                           \n",
       "==============================================================================\n",
       "Dep. Variable:          called_strike   No. Observations:               137679\n",
       "Model:                          Logit   Df Residuals:                   137661\n",
       "Method:                           MLE   Df Model:                           17\n",
       "Date:                Wed, 14 Apr 2021   Pseudo R-squ.:                  0.8696\n",
       "Time:                        09:04:51   Log-Likelihood:                -12028.\n",
       "converged:                       True   LL-Null:                       -92237.\n",
       "Covariance Type:            nonrobust   LLR p-value:                     0.000\n",
       "===================================================================================================\n",
       "                                      coef    std err          z      P>|z|      [0.025      0.975]\n",
       "---------------------------------------------------------------------------------------------------\n",
       "Intercept                           2.3468      0.164     14.337      0.000       2.026       2.668\n",
       "HighMiss(plate_z, sz_top, 0.25)    -8.1310      0.198    -41.142      0.000      -8.518      -7.744\n",
       "LowMiss(plate_z, sz_bot, 0.25)     -6.9117      0.167    -41.314      0.000      -7.240      -6.584\n",
       "LeftMiss(plate_x, 0.75)            -8.8525      0.231    -38.306      0.000      -9.305      -8.400\n",
       "RightMiss(plate_x, 0.75)           -9.0510      0.273    -33.113      0.000      -9.587      -8.515\n",
       "dist_mid                           -0.9849      0.125     -7.869      0.000      -1.230      -0.740\n",
       "plate_x                            -0.5446      0.038    -14.262      0.000      -0.619      -0.470\n",
       "outside_pitch_platex                0.0042      0.000     19.524      0.000       0.004       0.005\n",
       "b0s1                               -0.7172      0.301     -2.382      0.017      -1.307      -0.127\n",
       "b0s2                                6.2887      0.201     31.287      0.000       5.895       6.683\n",
       "b1s1                               -0.3730      0.310     -1.201      0.230      -0.982       0.236\n",
       "b1s2                                6.5326      0.184     35.536      0.000       6.172       6.893\n",
       "b3s1                               -6.1097      0.301    -20.285      0.000      -6.700      -5.519\n",
       "b3s0                               -6.9910      0.519    -13.469      0.000      -8.008      -5.974\n",
       "b3s2                                0.2700      0.138      1.955      0.051      -0.001       0.541\n",
       "b2s1                               -0.5614      0.515     -1.090      0.276      -1.571       0.448\n",
       "b2s0                                0.0474      0.569      0.083      0.934      -1.067       1.162\n",
       "b2s2                                6.8079      0.195     34.966      0.000       6.426       7.189\n",
       "===================================================================================================\n",
       "\n",
       "Possibly complete quasi-separation: A fraction 0.27 of observations can be\n",
       "perfectly predicted. This might indicate that there is complete\n",
       "quasi-separation. In this case some parameters will not be identified.\n",
       "\"\"\""
      ]
     },
     "execution_count": 36,
     "metadata": {},
     "output_type": "execute_result"
    }
   ],
   "source": [
    "#ball/strike counts significantly improve model but some lower counts are not helpful\n",
    "mod_cs3.summary()"
   ]
  },
  {
   "cell_type": "code",
   "execution_count": 37,
   "metadata": {},
   "outputs": [
    {
     "data": {
      "text/plain": [
       "0.025380950527243647"
      ]
     },
     "execution_count": 37,
     "metadata": {},
     "output_type": "execute_result"
    }
   ],
   "source": [
    "y_preds = mod_cs3.predict(test.drop(columns = 'called_strike'))\n",
    "brier_score_loss(y_test, y_preds)"
   ]
  },
  {
   "cell_type": "markdown",
   "metadata": {},
   "source": [
    "### Model 4"
   ]
  },
  {
   "cell_type": "code",
   "execution_count": 38,
   "metadata": {},
   "outputs": [
    {
     "name": "stdout",
     "output_type": "stream",
     "text": [
      "Optimization terminated successfully.\n",
      "         Current function value: 0.083099\n",
      "         Iterations 13\n"
     ]
    }
   ],
   "source": [
    "mod_cs4 = smf.logit('called_strike ~ HighMiss(plate_z,sz_top,0.25) + LowMiss(plate_z,sz_bot,0.25) + LeftMiss(plate_x,0.75)+RightMiss(plate_x,0.75)+dist_mid+plate_x+b0s2+b1s2+b3s1+b3s0+b2s2+num_mv', data = train).fit()\n"
   ]
  },
  {
   "cell_type": "code",
   "execution_count": 39,
   "metadata": {},
   "outputs": [
    {
     "data": {
      "text/html": [
       "<table class=\"simpletable\">\n",
       "<caption>Logit Regression Results</caption>\n",
       "<tr>\n",
       "  <th>Dep. Variable:</th>     <td>called_strike</td>  <th>  No. Observations:  </th>  <td>137679</td> \n",
       "</tr>\n",
       "<tr>\n",
       "  <th>Model:</th>                 <td>Logit</td>      <th>  Df Residuals:      </th>  <td>137666</td> \n",
       "</tr>\n",
       "<tr>\n",
       "  <th>Method:</th>                 <td>MLE</td>       <th>  Df Model:          </th>  <td>    12</td> \n",
       "</tr>\n",
       "<tr>\n",
       "  <th>Date:</th>            <td>Wed, 14 Apr 2021</td> <th>  Pseudo R-squ.:     </th>  <td>0.8760</td> \n",
       "</tr>\n",
       "<tr>\n",
       "  <th>Time:</th>                <td>09:05:53</td>     <th>  Log-Likelihood:    </th> <td> -11441.</td>\n",
       "</tr>\n",
       "<tr>\n",
       "  <th>converged:</th>             <td>True</td>       <th>  LL-Null:           </th> <td> -92237.</td>\n",
       "</tr>\n",
       "<tr>\n",
       "  <th>Covariance Type:</th>     <td>nonrobust</td>    <th>  LLR p-value:       </th>  <td> 0.000</td> \n",
       "</tr>\n",
       "</table>\n",
       "<table class=\"simpletable\">\n",
       "<tr>\n",
       "                 <td></td>                    <th>coef</th>     <th>std err</th>      <th>z</th>      <th>P>|z|</th>  <th>[0.025</th>    <th>0.975]</th>  \n",
       "</tr>\n",
       "<tr>\n",
       "  <th>Intercept</th>                       <td>    4.7483</td> <td>    0.131</td> <td>   36.381</td> <td> 0.000</td> <td>    4.492</td> <td>    5.004</td>\n",
       "</tr>\n",
       "<tr>\n",
       "  <th>HighMiss(plate_z, sz_top, 0.25)</th> <td>   -6.1267</td> <td>    0.207</td> <td>  -29.555</td> <td> 0.000</td> <td>   -6.533</td> <td>   -5.720</td>\n",
       "</tr>\n",
       "<tr>\n",
       "  <th>LowMiss(plate_z, sz_bot, 0.25)</th>  <td>   -4.8695</td> <td>    0.179</td> <td>  -27.258</td> <td> 0.000</td> <td>   -5.220</td> <td>   -4.519</td>\n",
       "</tr>\n",
       "<tr>\n",
       "  <th>LeftMiss(plate_x, 0.75)</th>         <td>   -6.5763</td> <td>    0.243</td> <td>  -27.015</td> <td> 0.000</td> <td>   -7.053</td> <td>   -6.099</td>\n",
       "</tr>\n",
       "<tr>\n",
       "  <th>RightMiss(plate_x, 0.75)</th>        <td>   -6.4500</td> <td>    0.285</td> <td>  -22.625</td> <td> 0.000</td> <td>   -7.009</td> <td>   -5.891</td>\n",
       "</tr>\n",
       "<tr>\n",
       "  <th>dist_mid</th>                        <td>   -3.5067</td> <td>    0.158</td> <td>  -22.218</td> <td> 0.000</td> <td>   -3.816</td> <td>   -3.197</td>\n",
       "</tr>\n",
       "<tr>\n",
       "  <th>plate_x</th>                         <td>   -0.5936</td> <td>    0.039</td> <td>  -15.067</td> <td> 0.000</td> <td>   -0.671</td> <td>   -0.516</td>\n",
       "</tr>\n",
       "<tr>\n",
       "  <th>b0s2</th>                            <td>    6.0522</td> <td>    0.148</td> <td>   40.993</td> <td> 0.000</td> <td>    5.763</td> <td>    6.342</td>\n",
       "</tr>\n",
       "<tr>\n",
       "  <th>b1s2</th>                            <td>    6.2997</td> <td>    0.122</td> <td>   51.538</td> <td> 0.000</td> <td>    6.060</td> <td>    6.539</td>\n",
       "</tr>\n",
       "<tr>\n",
       "  <th>b3s1</th>                            <td>   -6.2575</td> <td>    0.270</td> <td>  -23.219</td> <td> 0.000</td> <td>   -6.786</td> <td>   -5.729</td>\n",
       "</tr>\n",
       "<tr>\n",
       "  <th>b3s0</th>                            <td>   -7.2463</td> <td>    0.502</td> <td>  -14.448</td> <td> 0.000</td> <td>   -8.229</td> <td>   -6.263</td>\n",
       "</tr>\n",
       "<tr>\n",
       "  <th>b2s2</th>                            <td>    6.5751</td> <td>    0.138</td> <td>   47.661</td> <td> 0.000</td> <td>    6.305</td> <td>    6.845</td>\n",
       "</tr>\n",
       "<tr>\n",
       "  <th>num_mv</th>                          <td>   -5.6661</td> <td>    0.158</td> <td>  -35.888</td> <td> 0.000</td> <td>   -5.976</td> <td>   -5.357</td>\n",
       "</tr>\n",
       "</table><br/><br/>Possibly complete quasi-separation: A fraction 0.32 of observations can be<br/>perfectly predicted. This might indicate that there is complete<br/>quasi-separation. In this case some parameters will not be identified."
      ],
      "text/plain": [
       "<class 'statsmodels.iolib.summary.Summary'>\n",
       "\"\"\"\n",
       "                           Logit Regression Results                           \n",
       "==============================================================================\n",
       "Dep. Variable:          called_strike   No. Observations:               137679\n",
       "Model:                          Logit   Df Residuals:                   137666\n",
       "Method:                           MLE   Df Model:                           12\n",
       "Date:                Wed, 14 Apr 2021   Pseudo R-squ.:                  0.8760\n",
       "Time:                        09:05:53   Log-Likelihood:                -11441.\n",
       "converged:                       True   LL-Null:                       -92237.\n",
       "Covariance Type:            nonrobust   LLR p-value:                     0.000\n",
       "===================================================================================================\n",
       "                                      coef    std err          z      P>|z|      [0.025      0.975]\n",
       "---------------------------------------------------------------------------------------------------\n",
       "Intercept                           4.7483      0.131     36.381      0.000       4.492       5.004\n",
       "HighMiss(plate_z, sz_top, 0.25)    -6.1267      0.207    -29.555      0.000      -6.533      -5.720\n",
       "LowMiss(plate_z, sz_bot, 0.25)     -4.8695      0.179    -27.258      0.000      -5.220      -4.519\n",
       "LeftMiss(plate_x, 0.75)            -6.5763      0.243    -27.015      0.000      -7.053      -6.099\n",
       "RightMiss(plate_x, 0.75)           -6.4500      0.285    -22.625      0.000      -7.009      -5.891\n",
       "dist_mid                           -3.5067      0.158    -22.218      0.000      -3.816      -3.197\n",
       "plate_x                            -0.5936      0.039    -15.067      0.000      -0.671      -0.516\n",
       "b0s2                                6.0522      0.148     40.993      0.000       5.763       6.342\n",
       "b1s2                                6.2997      0.122     51.538      0.000       6.060       6.539\n",
       "b3s1                               -6.2575      0.270    -23.219      0.000      -6.786      -5.729\n",
       "b3s0                               -7.2463      0.502    -14.448      0.000      -8.229      -6.263\n",
       "b2s2                                6.5751      0.138     47.661      0.000       6.305       6.845\n",
       "num_mv                             -5.6661      0.158    -35.888      0.000      -5.976      -5.357\n",
       "===================================================================================================\n",
       "\n",
       "Possibly complete quasi-separation: A fraction 0.32 of observations can be\n",
       "perfectly predicted. This might indicate that there is complete\n",
       "quasi-separation. In this case some parameters will not be identified.\n",
       "\"\"\""
      ]
     },
     "execution_count": 39,
     "metadata": {},
     "output_type": "execute_result"
    }
   ],
   "source": [
    "#achieved better performance without the low ball/strike count features\n",
    "mod_cs4.summary()"
   ]
  },
  {
   "cell_type": "code",
   "execution_count": 40,
   "metadata": {},
   "outputs": [
    {
     "data": {
      "text/plain": [
       "0.02426679502706984"
      ]
     },
     "execution_count": 40,
     "metadata": {},
     "output_type": "execute_result"
    }
   ],
   "source": [
    "y_preds = mod_cs4.predict(test.drop(columns = 'called_strike'))\n",
    "brier_score_loss(y_test, y_preds)"
   ]
  },
  {
   "cell_type": "markdown",
   "metadata": {},
   "source": [
    "## Question 3: Swinging Strike Model"
   ]
  },
  {
   "cell_type": "code",
   "execution_count": 41,
   "metadata": {},
   "outputs": [],
   "source": [
    "df_ss = df_cs.copy()\n",
    "\n",
    "#create binary column for swinging strike\n",
    "df_ss.loc[:,'swinging_strike'] = ((df_ss.description == 'swinging_strike')\n",
    "                                  |(df_ss.description == 'swinging_strike_blocked'))*1.0"
   ]
  },
  {
   "cell_type": "code",
   "execution_count": 42,
   "metadata": {},
   "outputs": [
    {
     "data": {
      "text/plain": [
       "b3s1  swinging_strike\n",
       "0.0   0.0                0.845029\n",
       "      1.0                0.154971\n",
       "1.0   0.0                0.999784\n",
       "      1.0                0.000216\n",
       "Name: swinging_strike, dtype: float64"
      ]
     },
     "execution_count": 42,
     "metadata": {},
     "output_type": "execute_result"
    }
   ],
   "source": [
    "#nearly all 3 ball, 1 strike counts will end in no swinging strike\n",
    "df_ss.groupby(['b3s1']).swinging_strike.value_counts()/df_ss.groupby(['b3s1']).swinging_strike.count()\n"
   ]
  },
  {
   "cell_type": "code",
   "execution_count": 43,
   "metadata": {},
   "outputs": [
    {
     "data": {
      "text/plain": [
       "b3s0  swinging_strike\n",
       "0.0   0.0                0.849567\n",
       "      1.0                0.150433\n",
       "1.0   0.0                1.000000\n",
       "Name: swinging_strike, dtype: float64"
      ]
     },
     "execution_count": 43,
     "metadata": {},
     "output_type": "execute_result"
    }
   ],
   "source": [
    "#all 3 ball, 0 strike counts will always end in no swinging strike\n",
    "df_ss.groupby(['b3s0']).swinging_strike.value_counts()/df_ss.groupby(['b3s0']).swinging_strike.count()"
   ]
  },
  {
   "cell_type": "code",
   "execution_count": 44,
   "metadata": {},
   "outputs": [],
   "source": [
    "df_ss = df_ss.drop(columns = ['b3s1','b3s0'])"
   ]
  },
  {
   "cell_type": "code",
   "execution_count": 45,
   "metadata": {},
   "outputs": [],
   "source": [
    "#split into train/test\n",
    "train = df_ss.loc[df_ss.game_year < 2018].copy()\n",
    "test = df_ss.loc[df_ss.game_year == 2018].copy()\n",
    "\n",
    "y_train = train.swinging_strike\n",
    "X_train = train.drop(columns = 'swinging_strike')\n",
    "\n",
    "y_test = test.swinging_strike\n",
    "X_test = test.drop(columns = 'swinging_strike')"
   ]
  },
  {
   "cell_type": "markdown",
   "metadata": {},
   "source": [
    "### Model 1"
   ]
  },
  {
   "cell_type": "code",
   "execution_count": 46,
   "metadata": {},
   "outputs": [
    {
     "name": "stdout",
     "output_type": "stream",
     "text": [
      "Optimization terminated successfully.\n",
      "         Current function value: 0.267216\n",
      "         Iterations 13\n"
     ]
    }
   ],
   "source": [
    "mod_ss1 = smf.logit('swinging_strike ~ HighMiss(plate_z,sz_top,0.25) + LowMiss(plate_z,sz_bot,0.25) + LeftMiss(plate_x,0.75)+RightMiss(plate_x,0.75)+dist_mid+plate_x+outside_pitch_platex+b0s1+b0s0+b0s2+b1s1+b1s0+b1s2+b3s2+b2s1+b2s0+b2s2+vx0+vy0+vz0', data = train).fit()\n"
   ]
  },
  {
   "cell_type": "code",
   "execution_count": 47,
   "metadata": {},
   "outputs": [
    {
     "data": {
      "text/html": [
       "<table class=\"simpletable\">\n",
       "<caption>Logit Regression Results</caption>\n",
       "<tr>\n",
       "  <th>Dep. Variable:</th>    <td>swinging_strike</td> <th>  No. Observations:  </th>   <td>1102054</td>  \n",
       "</tr>\n",
       "<tr>\n",
       "  <th>Model:</th>                 <td>Logit</td>      <th>  Df Residuals:      </th>   <td>1102033</td>  \n",
       "</tr>\n",
       "<tr>\n",
       "  <th>Method:</th>                 <td>MLE</td>       <th>  Df Model:          </th>   <td>    20</td>   \n",
       "</tr>\n",
       "<tr>\n",
       "  <th>Date:</th>            <td>Wed, 14 Apr 2021</td> <th>  Pseudo R-squ.:     </th>   <td>0.3516</td>   \n",
       "</tr>\n",
       "<tr>\n",
       "  <th>Time:</th>                <td>09:11:35</td>     <th>  Log-Likelihood:    </th> <td>-2.9449e+05</td>\n",
       "</tr>\n",
       "<tr>\n",
       "  <th>converged:</th>             <td>True</td>       <th>  LL-Null:           </th> <td>-4.5414e+05</td>\n",
       "</tr>\n",
       "<tr>\n",
       "  <th>Covariance Type:</th>     <td>nonrobust</td>    <th>  LLR p-value:       </th>   <td> 0.000</td>   \n",
       "</tr>\n",
       "</table>\n",
       "<table class=\"simpletable\">\n",
       "<tr>\n",
       "                 <td></td>                    <th>coef</th>     <th>std err</th>      <th>z</th>      <th>P>|z|</th>  <th>[0.025</th>    <th>0.975]</th>  \n",
       "</tr>\n",
       "<tr>\n",
       "  <th>Intercept</th>                       <td>  -10.8322</td> <td>    0.286</td> <td>  -37.831</td> <td> 0.000</td> <td>  -11.393</td> <td>  -10.271</td>\n",
       "</tr>\n",
       "<tr>\n",
       "  <th>HighMiss(plate_z, sz_top, 0.25)</th> <td>   -0.1407</td> <td>    0.025</td> <td>   -5.707</td> <td> 0.000</td> <td>   -0.189</td> <td>   -0.092</td>\n",
       "</tr>\n",
       "<tr>\n",
       "  <th>LowMiss(plate_z, sz_bot, 0.25)</th>  <td>    0.6453</td> <td>    0.021</td> <td>   30.479</td> <td> 0.000</td> <td>    0.604</td> <td>    0.687</td>\n",
       "</tr>\n",
       "<tr>\n",
       "  <th>LeftMiss(plate_x, 0.75)</th>         <td>   -1.1174</td> <td>    0.028</td> <td>  -39.266</td> <td> 0.000</td> <td>   -1.173</td> <td>   -1.062</td>\n",
       "</tr>\n",
       "<tr>\n",
       "  <th>RightMiss(plate_x, 0.75)</th>        <td>   -0.8231</td> <td>    0.029</td> <td>  -28.583</td> <td> 0.000</td> <td>   -0.880</td> <td>   -0.767</td>\n",
       "</tr>\n",
       "<tr>\n",
       "  <th>dist_mid</th>                        <td>    1.3635</td> <td>    0.018</td> <td>   74.588</td> <td> 0.000</td> <td>    1.328</td> <td>    1.399</td>\n",
       "</tr>\n",
       "<tr>\n",
       "  <th>plate_x</th>                         <td>    0.0869</td> <td>    0.007</td> <td>   12.147</td> <td> 0.000</td> <td>    0.073</td> <td>    0.101</td>\n",
       "</tr>\n",
       "<tr>\n",
       "  <th>outside_pitch_platex</th>            <td>   -0.0013</td> <td> 4.85e-05</td> <td>  -26.760</td> <td> 0.000</td> <td>   -0.001</td> <td>   -0.001</td>\n",
       "</tr>\n",
       "<tr>\n",
       "  <th>b0s1</th>                            <td>    0.9218</td> <td>    0.340</td> <td>    2.709</td> <td> 0.007</td> <td>    0.255</td> <td>    1.589</td>\n",
       "</tr>\n",
       "<tr>\n",
       "  <th>b0s0</th>                            <td>    0.7852</td> <td>    0.342</td> <td>    2.297</td> <td> 0.022</td> <td>    0.115</td> <td>    1.455</td>\n",
       "</tr>\n",
       "<tr>\n",
       "  <th>b0s2</th>                            <td>    8.2851</td> <td>    0.278</td> <td>   29.810</td> <td> 0.000</td> <td>    7.740</td> <td>    8.830</td>\n",
       "</tr>\n",
       "<tr>\n",
       "  <th>b1s1</th>                            <td>    1.2055</td> <td>    0.331</td> <td>    3.642</td> <td> 0.000</td> <td>    0.557</td> <td>    1.854</td>\n",
       "</tr>\n",
       "<tr>\n",
       "  <th>b1s0</th>                            <td>    0.5236</td> <td>    0.410</td> <td>    1.276</td> <td> 0.202</td> <td>   -0.280</td> <td>    1.328</td>\n",
       "</tr>\n",
       "<tr>\n",
       "  <th>b1s2</th>                            <td>    8.2305</td> <td>    0.278</td> <td>   29.617</td> <td> 0.000</td> <td>    7.686</td> <td>    8.775</td>\n",
       "</tr>\n",
       "<tr>\n",
       "  <th>b3s2</th>                            <td>    7.1352</td> <td>    0.278</td> <td>   25.674</td> <td> 0.000</td> <td>    6.590</td> <td>    7.680</td>\n",
       "</tr>\n",
       "<tr>\n",
       "  <th>b2s1</th>                            <td>    0.8036</td> <td>    0.410</td> <td>    1.960</td> <td> 0.050</td> <td>-8.12e-05</td> <td>    1.607</td>\n",
       "</tr>\n",
       "<tr>\n",
       "  <th>b2s0</th>                            <td>    0.5783</td> <td>    0.572</td> <td>    1.011</td> <td> 0.312</td> <td>   -0.543</td> <td>    1.699</td>\n",
       "</tr>\n",
       "<tr>\n",
       "  <th>b2s2</th>                            <td>    8.1438</td> <td>    0.278</td> <td>   29.304</td> <td> 0.000</td> <td>    7.599</td> <td>    8.689</td>\n",
       "</tr>\n",
       "<tr>\n",
       "  <th>vx0</th>                             <td>   -0.0018</td> <td>    0.001</td> <td>   -3.054</td> <td> 0.002</td> <td>   -0.003</td> <td>   -0.001</td>\n",
       "</tr>\n",
       "<tr>\n",
       "  <th>vy0</th>                             <td>   -0.0050</td> <td>    0.001</td> <td>   -9.023</td> <td> 0.000</td> <td>   -0.006</td> <td>   -0.004</td>\n",
       "</tr>\n",
       "<tr>\n",
       "  <th>vz0</th>                             <td>    0.0461</td> <td>    0.002</td> <td>   26.865</td> <td> 0.000</td> <td>    0.043</td> <td>    0.049</td>\n",
       "</tr>\n",
       "</table>"
      ],
      "text/plain": [
       "<class 'statsmodels.iolib.summary.Summary'>\n",
       "\"\"\"\n",
       "                           Logit Regression Results                           \n",
       "==============================================================================\n",
       "Dep. Variable:        swinging_strike   No. Observations:              1102054\n",
       "Model:                          Logit   Df Residuals:                  1102033\n",
       "Method:                           MLE   Df Model:                           20\n",
       "Date:                Wed, 14 Apr 2021   Pseudo R-squ.:                  0.3516\n",
       "Time:                        09:11:35   Log-Likelihood:            -2.9449e+05\n",
       "converged:                       True   LL-Null:                   -4.5414e+05\n",
       "Covariance Type:            nonrobust   LLR p-value:                     0.000\n",
       "===================================================================================================\n",
       "                                      coef    std err          z      P>|z|      [0.025      0.975]\n",
       "---------------------------------------------------------------------------------------------------\n",
       "Intercept                         -10.8322      0.286    -37.831      0.000     -11.393     -10.271\n",
       "HighMiss(plate_z, sz_top, 0.25)    -0.1407      0.025     -5.707      0.000      -0.189      -0.092\n",
       "LowMiss(plate_z, sz_bot, 0.25)      0.6453      0.021     30.479      0.000       0.604       0.687\n",
       "LeftMiss(plate_x, 0.75)            -1.1174      0.028    -39.266      0.000      -1.173      -1.062\n",
       "RightMiss(plate_x, 0.75)           -0.8231      0.029    -28.583      0.000      -0.880      -0.767\n",
       "dist_mid                            1.3635      0.018     74.588      0.000       1.328       1.399\n",
       "plate_x                             0.0869      0.007     12.147      0.000       0.073       0.101\n",
       "outside_pitch_platex               -0.0013   4.85e-05    -26.760      0.000      -0.001      -0.001\n",
       "b0s1                                0.9218      0.340      2.709      0.007       0.255       1.589\n",
       "b0s0                                0.7852      0.342      2.297      0.022       0.115       1.455\n",
       "b0s2                                8.2851      0.278     29.810      0.000       7.740       8.830\n",
       "b1s1                                1.2055      0.331      3.642      0.000       0.557       1.854\n",
       "b1s0                                0.5236      0.410      1.276      0.202      -0.280       1.328\n",
       "b1s2                                8.2305      0.278     29.617      0.000       7.686       8.775\n",
       "b3s2                                7.1352      0.278     25.674      0.000       6.590       7.680\n",
       "b2s1                                0.8036      0.410      1.960      0.050   -8.12e-05       1.607\n",
       "b2s0                                0.5783      0.572      1.011      0.312      -0.543       1.699\n",
       "b2s2                                8.1438      0.278     29.304      0.000       7.599       8.689\n",
       "vx0                                -0.0018      0.001     -3.054      0.002      -0.003      -0.001\n",
       "vy0                                -0.0050      0.001     -9.023      0.000      -0.006      -0.004\n",
       "vz0                                 0.0461      0.002     26.865      0.000       0.043       0.049\n",
       "===================================================================================================\n",
       "\"\"\""
      ]
     },
     "execution_count": 47,
     "metadata": {},
     "output_type": "execute_result"
    }
   ],
   "source": [
    "mod_ss1.summary()"
   ]
  },
  {
   "cell_type": "code",
   "execution_count": 48,
   "metadata": {},
   "outputs": [
    {
     "data": {
      "text/plain": [
       "0.09362594035662831"
      ]
     },
     "execution_count": 48,
     "metadata": {},
     "output_type": "execute_result"
    }
   ],
   "source": [
    "y_preds = mod_ss1.predict(test.drop(columns = 'swinging_strike'))\n",
    "brier_score_loss(y_test, y_preds)"
   ]
  },
  {
   "cell_type": "markdown",
   "metadata": {},
   "source": [
    "### Model 2"
   ]
  },
  {
   "cell_type": "code",
   "execution_count": 49,
   "metadata": {},
   "outputs": [
    {
     "name": "stdout",
     "output_type": "stream",
     "text": [
      "Optimization terminated successfully.\n",
      "         Current function value: 0.267223\n",
      "         Iterations 12\n"
     ]
    }
   ],
   "source": [
    "mod_ss2 = smf.logit('swinging_strike ~ HighMiss(plate_z,sz_top,0.25) + LowMiss(plate_z,sz_bot,0.25) + LeftMiss(plate_x,0.75)+RightMiss(plate_x,0.75)+dist_mid+plate_x+outside_pitch_platex+b0s2+b1s2+b3s2+b2s2+vx0+vy0+vz0', data = train).fit()\n"
   ]
  },
  {
   "cell_type": "code",
   "execution_count": 50,
   "metadata": {},
   "outputs": [
    {
     "data": {
      "text/html": [
       "<table class=\"simpletable\">\n",
       "<caption>Logit Regression Results</caption>\n",
       "<tr>\n",
       "  <th>Dep. Variable:</th>    <td>swinging_strike</td> <th>  No. Observations:  </th>   <td>1102054</td>  \n",
       "</tr>\n",
       "<tr>\n",
       "  <th>Model:</th>                 <td>Logit</td>      <th>  Df Residuals:      </th>   <td>1102039</td>  \n",
       "</tr>\n",
       "<tr>\n",
       "  <th>Method:</th>                 <td>MLE</td>       <th>  Df Model:          </th>   <td>    14</td>   \n",
       "</tr>\n",
       "<tr>\n",
       "  <th>Date:</th>            <td>Wed, 14 Apr 2021</td> <th>  Pseudo R-squ.:     </th>   <td>0.3515</td>   \n",
       "</tr>\n",
       "<tr>\n",
       "  <th>Time:</th>                <td>09:19:06</td>     <th>  Log-Likelihood:    </th> <td>-2.9449e+05</td>\n",
       "</tr>\n",
       "<tr>\n",
       "  <th>converged:</th>             <td>True</td>       <th>  LL-Null:           </th> <td>-4.5414e+05</td>\n",
       "</tr>\n",
       "<tr>\n",
       "  <th>Covariance Type:</th>     <td>nonrobust</td>    <th>  LLR p-value:       </th>   <td> 0.000</td>   \n",
       "</tr>\n",
       "</table>\n",
       "<table class=\"simpletable\">\n",
       "<tr>\n",
       "                 <td></td>                    <th>coef</th>     <th>std err</th>      <th>z</th>      <th>P>|z|</th>  <th>[0.025</th>    <th>0.975]</th>  \n",
       "</tr>\n",
       "<tr>\n",
       "  <th>Intercept</th>                       <td>  -10.0895</td> <td>    0.113</td> <td>  -88.897</td> <td> 0.000</td> <td>  -10.312</td> <td>   -9.867</td>\n",
       "</tr>\n",
       "<tr>\n",
       "  <th>HighMiss(plate_z, sz_top, 0.25)</th> <td>   -0.1411</td> <td>    0.025</td> <td>   -5.724</td> <td> 0.000</td> <td>   -0.189</td> <td>   -0.093</td>\n",
       "</tr>\n",
       "<tr>\n",
       "  <th>LowMiss(plate_z, sz_bot, 0.25)</th>  <td>    0.6447</td> <td>    0.021</td> <td>   30.461</td> <td> 0.000</td> <td>    0.603</td> <td>    0.686</td>\n",
       "</tr>\n",
       "<tr>\n",
       "  <th>LeftMiss(plate_x, 0.75)</th>         <td>   -1.1176</td> <td>    0.028</td> <td>  -39.286</td> <td> 0.000</td> <td>   -1.173</td> <td>   -1.062</td>\n",
       "</tr>\n",
       "<tr>\n",
       "  <th>RightMiss(plate_x, 0.75)</th>        <td>   -0.8231</td> <td>    0.029</td> <td>  -28.588</td> <td> 0.000</td> <td>   -0.880</td> <td>   -0.767</td>\n",
       "</tr>\n",
       "<tr>\n",
       "  <th>dist_mid</th>                        <td>    1.3634</td> <td>    0.018</td> <td>   74.592</td> <td> 0.000</td> <td>    1.328</td> <td>    1.399</td>\n",
       "</tr>\n",
       "<tr>\n",
       "  <th>plate_x</th>                         <td>    0.0869</td> <td>    0.007</td> <td>   12.142</td> <td> 0.000</td> <td>    0.073</td> <td>    0.101</td>\n",
       "</tr>\n",
       "<tr>\n",
       "  <th>outside_pitch_platex</th>            <td>   -0.0013</td> <td> 4.85e-05</td> <td>  -26.757</td> <td> 0.000</td> <td>   -0.001</td> <td>   -0.001</td>\n",
       "</tr>\n",
       "<tr>\n",
       "  <th>b0s2</th>                            <td>    7.5441</td> <td>    0.091</td> <td>   82.699</td> <td> 0.000</td> <td>    7.365</td> <td>    7.723</td>\n",
       "</tr>\n",
       "<tr>\n",
       "  <th>b1s2</th>                            <td>    7.4896</td> <td>    0.091</td> <td>   82.196</td> <td> 0.000</td> <td>    7.311</td> <td>    7.668</td>\n",
       "</tr>\n",
       "<tr>\n",
       "  <th>b3s2</th>                            <td>    6.3943</td> <td>    0.091</td> <td>   70.072</td> <td> 0.000</td> <td>    6.215</td> <td>    6.573</td>\n",
       "</tr>\n",
       "<tr>\n",
       "  <th>b2s2</th>                            <td>    7.4028</td> <td>    0.091</td> <td>   81.222</td> <td> 0.000</td> <td>    7.224</td> <td>    7.581</td>\n",
       "</tr>\n",
       "<tr>\n",
       "  <th>vx0</th>                             <td>   -0.0018</td> <td>    0.001</td> <td>   -3.051</td> <td> 0.002</td> <td>   -0.003</td> <td>   -0.001</td>\n",
       "</tr>\n",
       "<tr>\n",
       "  <th>vy0</th>                             <td>   -0.0050</td> <td>    0.001</td> <td>   -9.002</td> <td> 0.000</td> <td>   -0.006</td> <td>   -0.004</td>\n",
       "</tr>\n",
       "<tr>\n",
       "  <th>vz0</th>                             <td>    0.0461</td> <td>    0.002</td> <td>   26.870</td> <td> 0.000</td> <td>    0.043</td> <td>    0.049</td>\n",
       "</tr>\n",
       "</table>"
      ],
      "text/plain": [
       "<class 'statsmodels.iolib.summary.Summary'>\n",
       "\"\"\"\n",
       "                           Logit Regression Results                           \n",
       "==============================================================================\n",
       "Dep. Variable:        swinging_strike   No. Observations:              1102054\n",
       "Model:                          Logit   Df Residuals:                  1102039\n",
       "Method:                           MLE   Df Model:                           14\n",
       "Date:                Wed, 14 Apr 2021   Pseudo R-squ.:                  0.3515\n",
       "Time:                        09:19:06   Log-Likelihood:            -2.9449e+05\n",
       "converged:                       True   LL-Null:                   -4.5414e+05\n",
       "Covariance Type:            nonrobust   LLR p-value:                     0.000\n",
       "===================================================================================================\n",
       "                                      coef    std err          z      P>|z|      [0.025      0.975]\n",
       "---------------------------------------------------------------------------------------------------\n",
       "Intercept                         -10.0895      0.113    -88.897      0.000     -10.312      -9.867\n",
       "HighMiss(plate_z, sz_top, 0.25)    -0.1411      0.025     -5.724      0.000      -0.189      -0.093\n",
       "LowMiss(plate_z, sz_bot, 0.25)      0.6447      0.021     30.461      0.000       0.603       0.686\n",
       "LeftMiss(plate_x, 0.75)            -1.1176      0.028    -39.286      0.000      -1.173      -1.062\n",
       "RightMiss(plate_x, 0.75)           -0.8231      0.029    -28.588      0.000      -0.880      -0.767\n",
       "dist_mid                            1.3634      0.018     74.592      0.000       1.328       1.399\n",
       "plate_x                             0.0869      0.007     12.142      0.000       0.073       0.101\n",
       "outside_pitch_platex               -0.0013   4.85e-05    -26.757      0.000      -0.001      -0.001\n",
       "b0s2                                7.5441      0.091     82.699      0.000       7.365       7.723\n",
       "b1s2                                7.4896      0.091     82.196      0.000       7.311       7.668\n",
       "b3s2                                6.3943      0.091     70.072      0.000       6.215       6.573\n",
       "b2s2                                7.4028      0.091     81.222      0.000       7.224       7.581\n",
       "vx0                                -0.0018      0.001     -3.051      0.002      -0.003      -0.001\n",
       "vy0                                -0.0050      0.001     -9.002      0.000      -0.006      -0.004\n",
       "vz0                                 0.0461      0.002     26.870      0.000       0.043       0.049\n",
       "===================================================================================================\n",
       "\"\"\""
      ]
     },
     "execution_count": 50,
     "metadata": {},
     "output_type": "execute_result"
    }
   ],
   "source": [
    "mod_ss2.summary()"
   ]
  },
  {
   "cell_type": "code",
   "execution_count": 51,
   "metadata": {},
   "outputs": [
    {
     "data": {
      "text/plain": [
       "0.09362656950292164"
      ]
     },
     "execution_count": 51,
     "metadata": {},
     "output_type": "execute_result"
    }
   ],
   "source": [
    "y_preds = mod_ss2.predict(test.drop(columns = 'swinging_strike'))\n",
    "brier_score_loss(y_test, y_preds)"
   ]
  },
  {
   "cell_type": "markdown",
   "metadata": {},
   "source": [
    "### Model 3"
   ]
  },
  {
   "cell_type": "code",
   "execution_count": 52,
   "metadata": {},
   "outputs": [
    {
     "name": "stdout",
     "output_type": "stream",
     "text": [
      "Optimization terminated successfully.\n",
      "         Current function value: 0.263686\n",
      "         Iterations 12\n"
     ]
    }
   ],
   "source": [
    "mod_ss3 = smf.logit('swinging_strike ~ HighMiss(plate_z,sz_top,0.25) + LowMiss(plate_z,sz_bot,0.25) + LeftMiss(plate_x,0.75)+RightMiss(plate_x,0.75)+dist_mid+plate_x+outside_pitch_platex+b0s2+b1s2+b3s2+b2s2+vx0+vy0+vz0+release_speed+release_spin_rate+pitch_type_mv+pitch_type_FF+pitch_type_SL+pitch_type_CH+pitch_type_SI+pitch_type_CU+pitch_type_KC+pitch_type_FC+pitch_type_FC+pitch_type_FS+pitch_type_KN+pitch_type_SC+pitch_type_EP+pitch_type_FO', data = train).fit()\n"
   ]
  },
  {
   "cell_type": "code",
   "execution_count": 53,
   "metadata": {},
   "outputs": [
    {
     "data": {
      "text/html": [
       "<table class=\"simpletable\">\n",
       "<caption>Logit Regression Results</caption>\n",
       "<tr>\n",
       "  <th>Dep. Variable:</th>    <td>swinging_strike</td> <th>  No. Observations:  </th>   <td>1102054</td>  \n",
       "</tr>\n",
       "<tr>\n",
       "  <th>Model:</th>                 <td>Logit</td>      <th>  Df Residuals:      </th>   <td>1102024</td>  \n",
       "</tr>\n",
       "<tr>\n",
       "  <th>Method:</th>                 <td>MLE</td>       <th>  Df Model:          </th>   <td>    29</td>   \n",
       "</tr>\n",
       "<tr>\n",
       "  <th>Date:</th>            <td>Wed, 14 Apr 2021</td> <th>  Pseudo R-squ.:     </th>   <td>0.3601</td>   \n",
       "</tr>\n",
       "<tr>\n",
       "  <th>Time:</th>                <td>09:21:16</td>     <th>  Log-Likelihood:    </th> <td>-2.9060e+05</td>\n",
       "</tr>\n",
       "<tr>\n",
       "  <th>converged:</th>             <td>True</td>       <th>  LL-Null:           </th> <td>-4.5414e+05</td>\n",
       "</tr>\n",
       "<tr>\n",
       "  <th>Covariance Type:</th>     <td>nonrobust</td>    <th>  LLR p-value:       </th>   <td> 0.000</td>   \n",
       "</tr>\n",
       "</table>\n",
       "<table class=\"simpletable\">\n",
       "<tr>\n",
       "                 <td></td>                    <th>coef</th>     <th>std err</th>      <th>z</th>      <th>P>|z|</th>  <th>[0.025</th>    <th>0.975]</th>  \n",
       "</tr>\n",
       "<tr>\n",
       "  <th>Intercept</th>                       <td>  -15.3989</td> <td>    0.140</td> <td> -109.869</td> <td> 0.000</td> <td>  -15.674</td> <td>  -15.124</td>\n",
       "</tr>\n",
       "<tr>\n",
       "  <th>HighMiss(plate_z, sz_top, 0.25)</th> <td>   -0.1427</td> <td>    0.025</td> <td>   -5.674</td> <td> 0.000</td> <td>   -0.192</td> <td>   -0.093</td>\n",
       "</tr>\n",
       "<tr>\n",
       "  <th>LowMiss(plate_z, sz_bot, 0.25)</th>  <td>    0.5825</td> <td>    0.022</td> <td>   26.998</td> <td> 0.000</td> <td>    0.540</td> <td>    0.625</td>\n",
       "</tr>\n",
       "<tr>\n",
       "  <th>LeftMiss(plate_x, 0.75)</th>         <td>   -1.1199</td> <td>    0.029</td> <td>  -39.058</td> <td> 0.000</td> <td>   -1.176</td> <td>   -1.064</td>\n",
       "</tr>\n",
       "<tr>\n",
       "  <th>RightMiss(plate_x, 0.75)</th>        <td>   -0.8408</td> <td>    0.029</td> <td>  -28.986</td> <td> 0.000</td> <td>   -0.898</td> <td>   -0.784</td>\n",
       "</tr>\n",
       "<tr>\n",
       "  <th>dist_mid</th>                        <td>    1.3678</td> <td>    0.018</td> <td>   74.393</td> <td> 0.000</td> <td>    1.332</td> <td>    1.404</td>\n",
       "</tr>\n",
       "<tr>\n",
       "  <th>plate_x</th>                         <td>    0.0828</td> <td>    0.007</td> <td>   11.357</td> <td> 0.000</td> <td>    0.068</td> <td>    0.097</td>\n",
       "</tr>\n",
       "<tr>\n",
       "  <th>outside_pitch_platex</th>            <td>   -0.0011</td> <td> 5.28e-05</td> <td>  -20.930</td> <td> 0.000</td> <td>   -0.001</td> <td>   -0.001</td>\n",
       "</tr>\n",
       "<tr>\n",
       "  <th>b0s2</th>                            <td>    7.4337</td> <td>    0.091</td> <td>   81.833</td> <td> 0.000</td> <td>    7.256</td> <td>    7.612</td>\n",
       "</tr>\n",
       "<tr>\n",
       "  <th>b1s2</th>                            <td>    7.3766</td> <td>    0.091</td> <td>   81.301</td> <td> 0.000</td> <td>    7.199</td> <td>    7.554</td>\n",
       "</tr>\n",
       "<tr>\n",
       "  <th>b3s2</th>                            <td>    6.3296</td> <td>    0.091</td> <td>   69.657</td> <td> 0.000</td> <td>    6.152</td> <td>    6.508</td>\n",
       "</tr>\n",
       "<tr>\n",
       "  <th>b2s2</th>                            <td>    7.2963</td> <td>    0.091</td> <td>   80.397</td> <td> 0.000</td> <td>    7.118</td> <td>    7.474</td>\n",
       "</tr>\n",
       "<tr>\n",
       "  <th>vx0</th>                             <td>   -0.0073</td> <td>    0.001</td> <td>  -11.738</td> <td> 0.000</td> <td>   -0.009</td> <td>   -0.006</td>\n",
       "</tr>\n",
       "<tr>\n",
       "  <th>vy0</th>                             <td>   -0.1592</td> <td>    0.016</td> <td>   -9.788</td> <td> 0.000</td> <td>   -0.191</td> <td>   -0.127</td>\n",
       "</tr>\n",
       "<tr>\n",
       "  <th>vz0</th>                             <td>    0.0541</td> <td>    0.002</td> <td>   28.599</td> <td> 0.000</td> <td>    0.050</td> <td>    0.058</td>\n",
       "</tr>\n",
       "<tr>\n",
       "  <th>release_speed</th>                   <td>   -0.1742</td> <td>    0.024</td> <td>   -7.377</td> <td> 0.000</td> <td>   -0.221</td> <td>   -0.128</td>\n",
       "</tr>\n",
       "<tr>\n",
       "  <th>release_spin_rate</th>               <td>    0.0002</td> <td> 1.33e-05</td> <td>   11.392</td> <td> 0.000</td> <td>    0.000</td> <td>    0.000</td>\n",
       "</tr>\n",
       "<tr>\n",
       "  <th>pitch_type_mv</th>                   <td>    1.3078</td> <td>    0.073</td> <td>   17.970</td> <td> 0.000</td> <td>    1.165</td> <td>    1.450</td>\n",
       "</tr>\n",
       "<tr>\n",
       "  <th>pitch_type_FF</th>                   <td>    0.4788</td> <td>    0.014</td> <td>   34.037</td> <td> 0.000</td> <td>    0.451</td> <td>    0.506</td>\n",
       "</tr>\n",
       "<tr>\n",
       "  <th>pitch_type_SL</th>                   <td>    1.1420</td> <td>    0.017</td> <td>   67.902</td> <td> 0.000</td> <td>    1.109</td> <td>    1.175</td>\n",
       "</tr>\n",
       "<tr>\n",
       "  <th>pitch_type_CH</th>                   <td>    1.1421</td> <td>    0.018</td> <td>   62.252</td> <td> 0.000</td> <td>    1.106</td> <td>    1.178</td>\n",
       "</tr>\n",
       "<tr>\n",
       "  <th>pitch_type_SI</th>                   <td>    0.0450</td> <td>    0.019</td> <td>    2.420</td> <td> 0.016</td> <td>    0.009</td> <td>    0.081</td>\n",
       "</tr>\n",
       "<tr>\n",
       "  <th>pitch_type_CU</th>                   <td>    1.0506</td> <td>    0.022</td> <td>   47.320</td> <td> 0.000</td> <td>    1.007</td> <td>    1.094</td>\n",
       "</tr>\n",
       "<tr>\n",
       "  <th>pitch_type_KC</th>                   <td>    1.0062</td> <td>    0.026</td> <td>   38.690</td> <td> 0.000</td> <td>    0.955</td> <td>    1.057</td>\n",
       "</tr>\n",
       "<tr>\n",
       "  <th>pitch_type_FC</th>                   <td>    0.6982</td> <td>    0.019</td> <td>   35.970</td> <td> 0.000</td> <td>    0.660</td> <td>    0.736</td>\n",
       "</tr>\n",
       "<tr>\n",
       "  <th>pitch_type_FS</th>                   <td>    1.2091</td> <td>    0.026</td> <td>   46.764</td> <td> 0.000</td> <td>    1.158</td> <td>    1.260</td>\n",
       "</tr>\n",
       "<tr>\n",
       "  <th>pitch_type_KN</th>                   <td>    1.2883</td> <td>    0.049</td> <td>   26.278</td> <td> 0.000</td> <td>    1.192</td> <td>    1.384</td>\n",
       "</tr>\n",
       "<tr>\n",
       "  <th>pitch_type_SC</th>                   <td>    0.6069</td> <td>    0.330</td> <td>    1.837</td> <td> 0.066</td> <td>   -0.041</td> <td>    1.254</td>\n",
       "</tr>\n",
       "<tr>\n",
       "  <th>pitch_type_EP</th>                   <td>    1.3319</td> <td>    0.150</td> <td>    8.871</td> <td> 0.000</td> <td>    1.038</td> <td>    1.626</td>\n",
       "</tr>\n",
       "<tr>\n",
       "  <th>pitch_type_FO</th>                   <td>    1.0238</td> <td>    0.126</td> <td>    8.135</td> <td> 0.000</td> <td>    0.777</td> <td>    1.271</td>\n",
       "</tr>\n",
       "</table>"
      ],
      "text/plain": [
       "<class 'statsmodels.iolib.summary.Summary'>\n",
       "\"\"\"\n",
       "                           Logit Regression Results                           \n",
       "==============================================================================\n",
       "Dep. Variable:        swinging_strike   No. Observations:              1102054\n",
       "Model:                          Logit   Df Residuals:                  1102024\n",
       "Method:                           MLE   Df Model:                           29\n",
       "Date:                Wed, 14 Apr 2021   Pseudo R-squ.:                  0.3601\n",
       "Time:                        09:21:16   Log-Likelihood:            -2.9060e+05\n",
       "converged:                       True   LL-Null:                   -4.5414e+05\n",
       "Covariance Type:            nonrobust   LLR p-value:                     0.000\n",
       "===================================================================================================\n",
       "                                      coef    std err          z      P>|z|      [0.025      0.975]\n",
       "---------------------------------------------------------------------------------------------------\n",
       "Intercept                         -15.3989      0.140   -109.869      0.000     -15.674     -15.124\n",
       "HighMiss(plate_z, sz_top, 0.25)    -0.1427      0.025     -5.674      0.000      -0.192      -0.093\n",
       "LowMiss(plate_z, sz_bot, 0.25)      0.5825      0.022     26.998      0.000       0.540       0.625\n",
       "LeftMiss(plate_x, 0.75)            -1.1199      0.029    -39.058      0.000      -1.176      -1.064\n",
       "RightMiss(plate_x, 0.75)           -0.8408      0.029    -28.986      0.000      -0.898      -0.784\n",
       "dist_mid                            1.3678      0.018     74.393      0.000       1.332       1.404\n",
       "plate_x                             0.0828      0.007     11.357      0.000       0.068       0.097\n",
       "outside_pitch_platex               -0.0011   5.28e-05    -20.930      0.000      -0.001      -0.001\n",
       "b0s2                                7.4337      0.091     81.833      0.000       7.256       7.612\n",
       "b1s2                                7.3766      0.091     81.301      0.000       7.199       7.554\n",
       "b3s2                                6.3296      0.091     69.657      0.000       6.152       6.508\n",
       "b2s2                                7.2963      0.091     80.397      0.000       7.118       7.474\n",
       "vx0                                -0.0073      0.001    -11.738      0.000      -0.009      -0.006\n",
       "vy0                                -0.1592      0.016     -9.788      0.000      -0.191      -0.127\n",
       "vz0                                 0.0541      0.002     28.599      0.000       0.050       0.058\n",
       "release_speed                      -0.1742      0.024     -7.377      0.000      -0.221      -0.128\n",
       "release_spin_rate                   0.0002   1.33e-05     11.392      0.000       0.000       0.000\n",
       "pitch_type_mv                       1.3078      0.073     17.970      0.000       1.165       1.450\n",
       "pitch_type_FF                       0.4788      0.014     34.037      0.000       0.451       0.506\n",
       "pitch_type_SL                       1.1420      0.017     67.902      0.000       1.109       1.175\n",
       "pitch_type_CH                       1.1421      0.018     62.252      0.000       1.106       1.178\n",
       "pitch_type_SI                       0.0450      0.019      2.420      0.016       0.009       0.081\n",
       "pitch_type_CU                       1.0506      0.022     47.320      0.000       1.007       1.094\n",
       "pitch_type_KC                       1.0062      0.026     38.690      0.000       0.955       1.057\n",
       "pitch_type_FC                       0.6982      0.019     35.970      0.000       0.660       0.736\n",
       "pitch_type_FS                       1.2091      0.026     46.764      0.000       1.158       1.260\n",
       "pitch_type_KN                       1.2883      0.049     26.278      0.000       1.192       1.384\n",
       "pitch_type_SC                       0.6069      0.330      1.837      0.066      -0.041       1.254\n",
       "pitch_type_EP                       1.3319      0.150      8.871      0.000       1.038       1.626\n",
       "pitch_type_FO                       1.0238      0.126      8.135      0.000       0.777       1.271\n",
       "===================================================================================================\n",
       "\"\"\""
      ]
     },
     "execution_count": 53,
     "metadata": {},
     "output_type": "execute_result"
    }
   ],
   "source": [
    "mod_ss3.summary()"
   ]
  },
  {
   "cell_type": "code",
   "execution_count": 54,
   "metadata": {},
   "outputs": [
    {
     "data": {
      "text/plain": [
       "0.09221831525128585"
      ]
     },
     "execution_count": 54,
     "metadata": {},
     "output_type": "execute_result"
    }
   ],
   "source": [
    "y_preds = mod_ss3.predict(test.drop(columns = 'swinging_strike'))\n",
    "brier_score_loss(y_test, y_preds)"
   ]
  },
  {
   "cell_type": "markdown",
   "metadata": {},
   "source": [
    "### Model 4"
   ]
  },
  {
   "cell_type": "code",
   "execution_count": 67,
   "metadata": {},
   "outputs": [
    {
     "name": "stdout",
     "output_type": "stream",
     "text": [
      "Optimization terminated successfully.\n",
      "         Current function value: 0.262766\n",
      "         Iterations 12\n"
     ]
    }
   ],
   "source": [
    "mod_ss4 = smf.logit('swinging_strike ~ HighMiss(plate_z,sz_top,0.25) + LowMiss(plate_z,sz_bot,0.25) + LeftMiss(plate_x,0.75)+RightMiss(plate_x,0.75)+dist_mid+plate_x+b0s2+b1s2+b3s2+b2s2+vx0+vy0+vz0+release_speed+release_spin_rate+pitch_type_mv+pitch_type_FF+pitch_type_SL+pitch_type_CH+pitch_type_CU+pitch_type_KC+pitch_type_FC+pitch_type_FC+pitch_type_FS+pitch_type_KN+pitch_type_EP+pitch_type_FO+outs_when_up2+sz_bot+sz_top+num_mv', data = train).fit()\n"
   ]
  },
  {
   "cell_type": "code",
   "execution_count": 68,
   "metadata": {},
   "outputs": [
    {
     "data": {
      "text/html": [
       "<table class=\"simpletable\">\n",
       "<caption>Logit Regression Results</caption>\n",
       "<tr>\n",
       "  <th>Dep. Variable:</th>    <td>swinging_strike</td> <th>  No. Observations:  </th>   <td>1102054</td>  \n",
       "</tr>\n",
       "<tr>\n",
       "  <th>Model:</th>                 <td>Logit</td>      <th>  Df Residuals:      </th>   <td>1102023</td>  \n",
       "</tr>\n",
       "<tr>\n",
       "  <th>Method:</th>                 <td>MLE</td>       <th>  Df Model:          </th>   <td>    30</td>   \n",
       "</tr>\n",
       "<tr>\n",
       "  <th>Date:</th>            <td>Wed, 14 Apr 2021</td> <th>  Pseudo R-squ.:     </th>   <td>0.3624</td>   \n",
       "</tr>\n",
       "<tr>\n",
       "  <th>Time:</th>                <td>09:30:45</td>     <th>  Log-Likelihood:    </th> <td>-2.8958e+05</td>\n",
       "</tr>\n",
       "<tr>\n",
       "  <th>converged:</th>             <td>True</td>       <th>  LL-Null:           </th> <td>-4.5414e+05</td>\n",
       "</tr>\n",
       "<tr>\n",
       "  <th>Covariance Type:</th>     <td>nonrobust</td>    <th>  LLR p-value:       </th>   <td> 0.000</td>   \n",
       "</tr>\n",
       "</table>\n",
       "<table class=\"simpletable\">\n",
       "<tr>\n",
       "                 <td></td>                    <th>coef</th>     <th>std err</th>      <th>z</th>      <th>P>|z|</th>  <th>[0.025</th>    <th>0.975]</th>  \n",
       "</tr>\n",
       "<tr>\n",
       "  <th>Intercept</th>                       <td>  -15.5346</td> <td>    0.149</td> <td> -104.358</td> <td> 0.000</td> <td>  -15.826</td> <td>  -15.243</td>\n",
       "</tr>\n",
       "<tr>\n",
       "  <th>HighMiss(plate_z, sz_top, 0.25)</th> <td>   -0.1193</td> <td>    0.026</td> <td>   -4.563</td> <td> 0.000</td> <td>   -0.170</td> <td>   -0.068</td>\n",
       "</tr>\n",
       "<tr>\n",
       "  <th>LowMiss(plate_z, sz_bot, 0.25)</th>  <td>    0.6513</td> <td>    0.022</td> <td>   29.513</td> <td> 0.000</td> <td>    0.608</td> <td>    0.695</td>\n",
       "</tr>\n",
       "<tr>\n",
       "  <th>LeftMiss(plate_x, 0.75)</th>         <td>   -1.0965</td> <td>    0.029</td> <td>  -37.696</td> <td> 0.000</td> <td>   -1.153</td> <td>   -1.039</td>\n",
       "</tr>\n",
       "<tr>\n",
       "  <th>RightMiss(plate_x, 0.75)</th>        <td>   -0.7994</td> <td>    0.030</td> <td>  -27.064</td> <td> 0.000</td> <td>   -0.857</td> <td>   -0.742</td>\n",
       "</tr>\n",
       "<tr>\n",
       "  <th>dist_mid</th>                        <td>    1.3484</td> <td>    0.019</td> <td>   70.953</td> <td> 0.000</td> <td>    1.311</td> <td>    1.386</td>\n",
       "</tr>\n",
       "<tr>\n",
       "  <th>plate_x</th>                         <td>    0.0723</td> <td>    0.007</td> <td>    9.876</td> <td> 0.000</td> <td>    0.058</td> <td>    0.087</td>\n",
       "</tr>\n",
       "<tr>\n",
       "  <th>b0s2</th>                            <td>    7.4513</td> <td>    0.091</td> <td>   81.618</td> <td> 0.000</td> <td>    7.272</td> <td>    7.630</td>\n",
       "</tr>\n",
       "<tr>\n",
       "  <th>b1s2</th>                            <td>    7.3943</td> <td>    0.091</td> <td>   81.091</td> <td> 0.000</td> <td>    7.216</td> <td>    7.573</td>\n",
       "</tr>\n",
       "<tr>\n",
       "  <th>b3s2</th>                            <td>    6.3577</td> <td>    0.091</td> <td>   69.613</td> <td> 0.000</td> <td>    6.179</td> <td>    6.537</td>\n",
       "</tr>\n",
       "<tr>\n",
       "  <th>b2s2</th>                            <td>    7.3146</td> <td>    0.091</td> <td>   80.198</td> <td> 0.000</td> <td>    7.136</td> <td>    7.493</td>\n",
       "</tr>\n",
       "<tr>\n",
       "  <th>vx0</th>                             <td>   -0.0074</td> <td>    0.001</td> <td>  -11.897</td> <td> 0.000</td> <td>   -0.009</td> <td>   -0.006</td>\n",
       "</tr>\n",
       "<tr>\n",
       "  <th>vy0</th>                             <td>   -0.2242</td> <td>    0.016</td> <td>  -14.080</td> <td> 0.000</td> <td>   -0.255</td> <td>   -0.193</td>\n",
       "</tr>\n",
       "<tr>\n",
       "  <th>vz0</th>                             <td>    0.0548</td> <td>    0.002</td> <td>   28.733</td> <td> 0.000</td> <td>    0.051</td> <td>    0.059</td>\n",
       "</tr>\n",
       "<tr>\n",
       "  <th>release_speed</th>                   <td>   -0.2692</td> <td>    0.023</td> <td>  -11.639</td> <td> 0.000</td> <td>   -0.315</td> <td>   -0.224</td>\n",
       "</tr>\n",
       "<tr>\n",
       "  <th>release_spin_rate</th>               <td>    0.0001</td> <td> 1.33e-05</td> <td>   10.582</td> <td> 0.000</td> <td>    0.000</td> <td>    0.000</td>\n",
       "</tr>\n",
       "<tr>\n",
       "  <th>pitch_type_mv</th>                   <td>    0.7248</td> <td>    0.074</td> <td>    9.841</td> <td> 0.000</td> <td>    0.580</td> <td>    0.869</td>\n",
       "</tr>\n",
       "<tr>\n",
       "  <th>pitch_type_FF</th>                   <td>    0.4576</td> <td>    0.011</td> <td>   40.270</td> <td> 0.000</td> <td>    0.435</td> <td>    0.480</td>\n",
       "</tr>\n",
       "<tr>\n",
       "  <th>pitch_type_SL</th>                   <td>    1.0956</td> <td>    0.014</td> <td>   76.456</td> <td> 0.000</td> <td>    1.068</td> <td>    1.124</td>\n",
       "</tr>\n",
       "<tr>\n",
       "  <th>pitch_type_CH</th>                   <td>    1.0988</td> <td>    0.016</td> <td>   68.177</td> <td> 0.000</td> <td>    1.067</td> <td>    1.130</td>\n",
       "</tr>\n",
       "<tr>\n",
       "  <th>pitch_type_CU</th>                   <td>    0.9945</td> <td>    0.020</td> <td>   49.149</td> <td> 0.000</td> <td>    0.955</td> <td>    1.034</td>\n",
       "</tr>\n",
       "<tr>\n",
       "  <th>pitch_type_KC</th>                   <td>    0.9461</td> <td>    0.024</td> <td>   38.742</td> <td> 0.000</td> <td>    0.898</td> <td>    0.994</td>\n",
       "</tr>\n",
       "<tr>\n",
       "  <th>pitch_type_FC</th>                   <td>    0.6631</td> <td>    0.017</td> <td>   37.986</td> <td> 0.000</td> <td>    0.629</td> <td>    0.697</td>\n",
       "</tr>\n",
       "<tr>\n",
       "  <th>pitch_type_FS</th>                   <td>    1.1629</td> <td>    0.024</td> <td>   47.744</td> <td> 0.000</td> <td>    1.115</td> <td>    1.211</td>\n",
       "</tr>\n",
       "<tr>\n",
       "  <th>pitch_type_KN</th>                   <td>    1.2449</td> <td>    0.048</td> <td>   25.803</td> <td> 0.000</td> <td>    1.150</td> <td>    1.339</td>\n",
       "</tr>\n",
       "<tr>\n",
       "  <th>pitch_type_EP</th>                   <td>    1.2749</td> <td>    0.150</td> <td>    8.482</td> <td> 0.000</td> <td>    0.980</td> <td>    1.569</td>\n",
       "</tr>\n",
       "<tr>\n",
       "  <th>pitch_type_FO</th>                   <td>    0.9602</td> <td>    0.126</td> <td>    7.639</td> <td> 0.000</td> <td>    0.714</td> <td>    1.207</td>\n",
       "</tr>\n",
       "<tr>\n",
       "  <th>outs_when_up2</th>                   <td>    0.1007</td> <td>    0.007</td> <td>   14.685</td> <td> 0.000</td> <td>    0.087</td> <td>    0.114</td>\n",
       "</tr>\n",
       "<tr>\n",
       "  <th>sz_bot</th>                          <td>   -1.4963</td> <td>    0.041</td> <td>  -36.358</td> <td> 0.000</td> <td>   -1.577</td> <td>   -1.416</td>\n",
       "</tr>\n",
       "<tr>\n",
       "  <th>sz_top</th>                          <td>    0.7314</td> <td>    0.024</td> <td>   29.887</td> <td> 0.000</td> <td>    0.683</td> <td>    0.779</td>\n",
       "</tr>\n",
       "<tr>\n",
       "  <th>num_mv</th>                          <td>    1.2070</td> <td>    0.039</td> <td>   30.838</td> <td> 0.000</td> <td>    1.130</td> <td>    1.284</td>\n",
       "</tr>\n",
       "</table>"
      ],
      "text/plain": [
       "<class 'statsmodels.iolib.summary.Summary'>\n",
       "\"\"\"\n",
       "                           Logit Regression Results                           \n",
       "==============================================================================\n",
       "Dep. Variable:        swinging_strike   No. Observations:              1102054\n",
       "Model:                          Logit   Df Residuals:                  1102023\n",
       "Method:                           MLE   Df Model:                           30\n",
       "Date:                Wed, 14 Apr 2021   Pseudo R-squ.:                  0.3624\n",
       "Time:                        09:30:45   Log-Likelihood:            -2.8958e+05\n",
       "converged:                       True   LL-Null:                   -4.5414e+05\n",
       "Covariance Type:            nonrobust   LLR p-value:                     0.000\n",
       "===================================================================================================\n",
       "                                      coef    std err          z      P>|z|      [0.025      0.975]\n",
       "---------------------------------------------------------------------------------------------------\n",
       "Intercept                         -15.5346      0.149   -104.358      0.000     -15.826     -15.243\n",
       "HighMiss(plate_z, sz_top, 0.25)    -0.1193      0.026     -4.563      0.000      -0.170      -0.068\n",
       "LowMiss(plate_z, sz_bot, 0.25)      0.6513      0.022     29.513      0.000       0.608       0.695\n",
       "LeftMiss(plate_x, 0.75)            -1.0965      0.029    -37.696      0.000      -1.153      -1.039\n",
       "RightMiss(plate_x, 0.75)           -0.7994      0.030    -27.064      0.000      -0.857      -0.742\n",
       "dist_mid                            1.3484      0.019     70.953      0.000       1.311       1.386\n",
       "plate_x                             0.0723      0.007      9.876      0.000       0.058       0.087\n",
       "b0s2                                7.4513      0.091     81.618      0.000       7.272       7.630\n",
       "b1s2                                7.3943      0.091     81.091      0.000       7.216       7.573\n",
       "b3s2                                6.3577      0.091     69.613      0.000       6.179       6.537\n",
       "b2s2                                7.3146      0.091     80.198      0.000       7.136       7.493\n",
       "vx0                                -0.0074      0.001    -11.897      0.000      -0.009      -0.006\n",
       "vy0                                -0.2242      0.016    -14.080      0.000      -0.255      -0.193\n",
       "vz0                                 0.0548      0.002     28.733      0.000       0.051       0.059\n",
       "release_speed                      -0.2692      0.023    -11.639      0.000      -0.315      -0.224\n",
       "release_spin_rate                   0.0001   1.33e-05     10.582      0.000       0.000       0.000\n",
       "pitch_type_mv                       0.7248      0.074      9.841      0.000       0.580       0.869\n",
       "pitch_type_FF                       0.4576      0.011     40.270      0.000       0.435       0.480\n",
       "pitch_type_SL                       1.0956      0.014     76.456      0.000       1.068       1.124\n",
       "pitch_type_CH                       1.0988      0.016     68.177      0.000       1.067       1.130\n",
       "pitch_type_CU                       0.9945      0.020     49.149      0.000       0.955       1.034\n",
       "pitch_type_KC                       0.9461      0.024     38.742      0.000       0.898       0.994\n",
       "pitch_type_FC                       0.6631      0.017     37.986      0.000       0.629       0.697\n",
       "pitch_type_FS                       1.1629      0.024     47.744      0.000       1.115       1.211\n",
       "pitch_type_KN                       1.2449      0.048     25.803      0.000       1.150       1.339\n",
       "pitch_type_EP                       1.2749      0.150      8.482      0.000       0.980       1.569\n",
       "pitch_type_FO                       0.9602      0.126      7.639      0.000       0.714       1.207\n",
       "outs_when_up2                       0.1007      0.007     14.685      0.000       0.087       0.114\n",
       "sz_bot                             -1.4963      0.041    -36.358      0.000      -1.577      -1.416\n",
       "sz_top                              0.7314      0.024     29.887      0.000       0.683       0.779\n",
       "num_mv                              1.2070      0.039     30.838      0.000       1.130       1.284\n",
       "===================================================================================================\n",
       "\"\"\""
      ]
     },
     "execution_count": 68,
     "metadata": {},
     "output_type": "execute_result"
    }
   ],
   "source": [
    "mod_ss4.summary()"
   ]
  },
  {
   "cell_type": "code",
   "execution_count": 69,
   "metadata": {},
   "outputs": [
    {
     "data": {
      "text/plain": [
       "0.09125743956692411"
      ]
     },
     "execution_count": 69,
     "metadata": {},
     "output_type": "execute_result"
    }
   ],
   "source": [
    "y_preds = mod_ss4.predict(test.drop(columns = 'swinging_strike'))\n",
    "brier_score_loss(y_test, y_preds)"
   ]
  },
  {
   "cell_type": "markdown",
   "metadata": {},
   "source": [
    "## Question 4: Improving the Baseline"
   ]
  },
  {
   "cell_type": "code",
   "execution_count": 281,
   "metadata": {},
   "outputs": [],
   "source": [
    "#probability of pitch being called a strike\n",
    "df_cs['strike_pred'] = mod_cs4.predict(df_cs)\n",
    "\n",
    "#create feature for strikes above expectation\n",
    "df_cs['extra_strike'] = df_cs.called_strike - df_cs.strike_pred"
   ]
  },
  {
   "cell_type": "code",
   "execution_count": 282,
   "metadata": {},
   "outputs": [],
   "source": [
    "#net ‘extra strikes’ on pitches where batter had 2 strikes\n",
    "df_cs['xtr1S'] = df_cs.extra_strike*(df_cs.b0s2 + df_cs.b1s2 + df_cs.b2s2 +df_cs.b3s2)\n",
    "\n",
    "#net ‘extra strikes’ on pitches where batter had 3 balls\n",
    "df_cs['xtr1B'] = df_cs.extra_strike*(df_cs.b3s0 + df_cs.b3s1 + df_cs.b3s2)"
   ]
  },
  {
   "cell_type": "code",
   "execution_count": 283,
   "metadata": {},
   "outputs": [],
   "source": [
    "df_cs_small = df_cs[['dist_mid', 'extra_strike','b0s2','b1s2','b2s2','b3s2','b3s0','b3s1','xtr1S','xtr1B']]\n",
    "\n",
    "#get smaller df of original with columns missing from previous analysis\n",
    "df_sc_small = df_sc[['player_name','pitcher','game_pk','game_year','events','balls','strikes','at_bat_number']]\n",
    "\n",
    "#join with previously engineered features\n",
    "df_feats = df_sc_small.join(df_cs_small, how='left')\n",
    "\n",
    "#sort df\n",
    "df_feats = df_feats.sort_values(['player_name','pitcher','game_pk','at_bat_number']) "
   ]
  },
  {
   "cell_type": "code",
   "execution_count": 284,
   "metadata": {},
   "outputs": [],
   "source": [
    "#create 3 ball counts and 2 strike counts\n",
    "df_feats['b3_count'] = df_feats.b3s0 + df_feats.b3s1 + df_feats.b3s2\n",
    "df_feats['s2_count'] = df_feats.b0s2 + df_feats.b1s2 + df_feats.b2s2 + df_feats.b3s2"
   ]
  },
  {
   "cell_type": "code",
   "execution_count": 285,
   "metadata": {},
   "outputs": [],
   "source": [
    "#group for game level stats\n",
    "group_game = df_feats.groupby(['player_name','pitcher','game_pk','game_year'])\n",
    "\n",
    "game_stats = group_game.agg(\n",
    "    balls = pd.NamedAgg(column = 'balls', aggfunc = 'sum'),\n",
    "    strikes = pd.NamedAgg(column = 'strikes', aggfunc = 'sum'),\n",
    "    bb = pd.NamedAgg(column = 'events', aggfunc = lambda x: (x == 'walk').sum()),\n",
    "    k = pd.NamedAgg(column = 'events', aggfunc = lambda x: ((x == 'strikeout')|(x == 'strikeout_double_play')).sum()),\n",
    "    bf = pd.NamedAgg(column = 'at_bat_number', aggfunc = 'nunique'), \n",
    "    dist_mid = pd.NamedAgg(column = 'dist_mid', aggfunc = 'mean'),\n",
    "    extra_strike = pd.NamedAgg(column = 'extra_strike', aggfunc = 'sum'),\n",
    "    b3_count = pd.NamedAgg(column = 'b3_count', aggfunc = 'sum'),\n",
    "    s2_count = pd.NamedAgg(column = 's2_count', aggfunc = 'sum'),\n",
    "    xtr1S = pd.NamedAgg(column = 'xtr1S', aggfunc = 'sum'),\n",
    "    xtr1B = pd.NamedAgg(column = 'xtr1B', aggfunc = 'sum')\n",
    "    )\n",
    "game_stats  = game_stats .reset_index().sort_values(['player_name','pitcher','game_pk','game_year']) "
   ]
  },
  {
   "cell_type": "code",
   "execution_count": 286,
   "metadata": {},
   "outputs": [
    {
     "data": {
      "text/html": [
       "<div>\n",
       "<style scoped>\n",
       "    .dataframe tbody tr th:only-of-type {\n",
       "        vertical-align: middle;\n",
       "    }\n",
       "\n",
       "    .dataframe tbody tr th {\n",
       "        vertical-align: top;\n",
       "    }\n",
       "\n",
       "    .dataframe thead th {\n",
       "        text-align: right;\n",
       "    }\n",
       "</style>\n",
       "<table border=\"1\" class=\"dataframe\">\n",
       "  <thead>\n",
       "    <tr style=\"text-align: right;\">\n",
       "      <th></th>\n",
       "      <th>player_name</th>\n",
       "      <th>pitcher</th>\n",
       "      <th>game_pk</th>\n",
       "      <th>game_year</th>\n",
       "      <th>balls</th>\n",
       "      <th>strikes</th>\n",
       "      <th>bb</th>\n",
       "      <th>k</th>\n",
       "      <th>bf</th>\n",
       "      <th>dist_mid</th>\n",
       "      <th>extra_strike</th>\n",
       "      <th>b3_count</th>\n",
       "      <th>s2_count</th>\n",
       "      <th>xtr1S</th>\n",
       "      <th>xtr1B</th>\n",
       "    </tr>\n",
       "  </thead>\n",
       "  <tbody>\n",
       "    <tr>\n",
       "      <th>0</th>\n",
       "      <td>Aardsma, David</td>\n",
       "      <td>430911</td>\n",
       "      <td>320068</td>\n",
       "      <td>2012</td>\n",
       "      <td>9</td>\n",
       "      <td>8</td>\n",
       "      <td>1</td>\n",
       "      <td>1</td>\n",
       "      <td>5</td>\n",
       "      <td>1.298633</td>\n",
       "      <td>-2.125359</td>\n",
       "      <td>2.0</td>\n",
       "      <td>4.0</td>\n",
       "      <td>-1.959447</td>\n",
       "      <td>-0.002619</td>\n",
       "    </tr>\n",
       "    <tr>\n",
       "      <th>1</th>\n",
       "      <td>Aardsma, David</td>\n",
       "      <td>430911</td>\n",
       "      <td>347669</td>\n",
       "      <td>2013</td>\n",
       "      <td>5</td>\n",
       "      <td>5</td>\n",
       "      <td>0</td>\n",
       "      <td>1</td>\n",
       "      <td>3</td>\n",
       "      <td>1.013666</td>\n",
       "      <td>-2.119672</td>\n",
       "      <td>1.0</td>\n",
       "      <td>2.0</td>\n",
       "      <td>-1.567935</td>\n",
       "      <td>-0.572021</td>\n",
       "    </tr>\n",
       "    <tr>\n",
       "      <th>2</th>\n",
       "      <td>Aardsma, David</td>\n",
       "      <td>430911</td>\n",
       "      <td>347713</td>\n",
       "      <td>2013</td>\n",
       "      <td>3</td>\n",
       "      <td>8</td>\n",
       "      <td>0</td>\n",
       "      <td>2</td>\n",
       "      <td>5</td>\n",
       "      <td>0.778057</td>\n",
       "      <td>-3.919330</td>\n",
       "      <td>0.0</td>\n",
       "      <td>3.0</td>\n",
       "      <td>-1.965191</td>\n",
       "      <td>0.000000</td>\n",
       "    </tr>\n",
       "    <tr>\n",
       "      <th>3</th>\n",
       "      <td>Aardsma, David</td>\n",
       "      <td>430911</td>\n",
       "      <td>347746</td>\n",
       "      <td>2013</td>\n",
       "      <td>4</td>\n",
       "      <td>7</td>\n",
       "      <td>0</td>\n",
       "      <td>2</td>\n",
       "      <td>4</td>\n",
       "      <td>0.476956</td>\n",
       "      <td>-2.978430</td>\n",
       "      <td>0.0</td>\n",
       "      <td>3.0</td>\n",
       "      <td>-1.993060</td>\n",
       "      <td>0.000000</td>\n",
       "    </tr>\n",
       "    <tr>\n",
       "      <th>4</th>\n",
       "      <td>Aardsma, David</td>\n",
       "      <td>430911</td>\n",
       "      <td>347776</td>\n",
       "      <td>2013</td>\n",
       "      <td>1</td>\n",
       "      <td>6</td>\n",
       "      <td>0</td>\n",
       "      <td>1</td>\n",
       "      <td>3</td>\n",
       "      <td>0.940016</td>\n",
       "      <td>-2.963401</td>\n",
       "      <td>0.0</td>\n",
       "      <td>3.0</td>\n",
       "      <td>-2.963401</td>\n",
       "      <td>0.000000</td>\n",
       "    </tr>\n",
       "  </tbody>\n",
       "</table>\n",
       "</div>"
      ],
      "text/plain": [
       "      player_name  pitcher  game_pk  game_year  balls  strikes  bb  k  bf  \\\n",
       "0  Aardsma, David   430911   320068       2012      9        8   1  1   5   \n",
       "1  Aardsma, David   430911   347669       2013      5        5   0  1   3   \n",
       "2  Aardsma, David   430911   347713       2013      3        8   0  2   5   \n",
       "3  Aardsma, David   430911   347746       2013      4        7   0  2   4   \n",
       "4  Aardsma, David   430911   347776       2013      1        6   0  1   3   \n",
       "\n",
       "   dist_mid  extra_strike  b3_count  s2_count     xtr1S     xtr1B  \n",
       "0  1.298633     -2.125359       2.0       4.0 -1.959447 -0.002619  \n",
       "1  1.013666     -2.119672       1.0       2.0 -1.567935 -0.572021  \n",
       "2  0.778057     -3.919330       0.0       3.0 -1.965191  0.000000  \n",
       "3  0.476956     -2.978430       0.0       3.0 -1.993060  0.000000  \n",
       "4  0.940016     -2.963401       0.0       3.0 -2.963401  0.000000  "
      ]
     },
     "execution_count": 286,
     "metadata": {},
     "output_type": "execute_result"
    }
   ],
   "source": [
    "game_stats.head()"
   ]
  },
  {
   "cell_type": "code",
   "execution_count": 287,
   "metadata": {},
   "outputs": [],
   "source": [
    "#group for pitching stats per season\n",
    "group_year = game_stats.groupby(['player_name','pitcher','game_year'])\n",
    "\n",
    "year_stats = group_year.agg(\n",
    "    balls = pd.NamedAgg(column = 'balls', aggfunc = 'sum'),\n",
    "    strikes = pd.NamedAgg(column = 'strikes', aggfunc = 'sum'),\n",
    "    bb = pd.NamedAgg(column = 'bb', aggfunc = 'sum'),\n",
    "    k = pd.NamedAgg(column = 'k', aggfunc = 'sum'),\n",
    "    bf = pd.NamedAgg(column = 'bf', aggfunc = 'sum'), \n",
    "    dist_mid = pd.NamedAgg(column = 'dist_mid', aggfunc = 'mean'),\n",
    "    extra_strike = pd.NamedAgg(column = 'extra_strike', aggfunc = 'sum'),\n",
    "    b3_count = pd.NamedAgg(column = 'b3_count', aggfunc = 'sum'),\n",
    "    s2_count = pd.NamedAgg(column = 's2_count', aggfunc = 'sum'),\n",
    "    xtr1S = pd.NamedAgg(column = 'xtr1S', aggfunc = 'sum'),\n",
    "    xtr1B = pd.NamedAgg(column = 'xtr1B', aggfunc = 'sum')\n",
    "    )\n",
    "year_stats = year_stats.reset_index().sort_values(['player_name','pitcher','game_year']) "
   ]
  },
  {
   "cell_type": "code",
   "execution_count": 288,
   "metadata": {},
   "outputs": [],
   "source": [
    "#check how many seasons ago pitcher played (ie. 1 means they played last season, 0 means they haven't played yet)\n",
    "year_stats['played_prev'] = year_stats.groupby(['player_name','pitcher'])['game_year'].transform(lambda x: x-x.shift(1,fill_value = x.min()))\n",
    "\n",
    "#get previous season's batters faced\n",
    "year_stats['bf_prev'] = year_stats.groupby(['player_name','pitcher'])['bf'].transform(lambda x: x.shift(1,fill_value = 0))\n",
    "\n",
    "#get previous season's avg dist_mid\n",
    "year_stats['dist_mid_prev'] = year_stats.groupby(['player_name','pitcher'])['dist_mid'].transform(lambda x: x.shift(1,fill_value = 0))"
   ]
  },
  {
   "cell_type": "code",
   "execution_count": 289,
   "metadata": {},
   "outputs": [],
   "source": [
    "#create seasonal rates and prev values for all new features (with bf as denominator)\n",
    "feats = ['bb','balls','strikes','extra_strike','b3_count','s2_count','xtr1S', 'xtr1B']\n",
    "\n",
    "for feat in feats:\n",
    "    year_stats[feat+'_rate'] = year_stats[feat]/year_stats.bf\n",
    "    year_stats[feat+'_rate_prev'] = year_stats.groupby(['player_name','pitcher'])[feat+'_rate'].transform(lambda x: x.shift(1,fill_value = 0))"
   ]
  },
  {
   "cell_type": "code",
   "execution_count": 291,
   "metadata": {},
   "outputs": [],
   "source": [
    "#k has a different denominator so run separately\n",
    "\n",
    "#add strikeouts rate feature\n",
    "year_stats.loc[:,'k_rate'] = year_stats.k/(year_stats.bf-year_stats.bb)\n",
    "\n",
    "#get previous strikeouts rate\n",
    "year_stats['k_rate_prev'] = year_stats.groupby(['player_name','pitcher'])['k_rate'].transform(lambda x: x.shift(1,fill_value = 0))"
   ]
  },
  {
   "cell_type": "code",
   "execution_count": 292,
   "metadata": {},
   "outputs": [],
   "source": [
    "#filter for seasons other than 2012 and 2019, bf at least 200, and stats based on consecutive seasons only\n",
    "data_18 = year_stats.loc[(year_stats.game_year != 2012) & (year_stats.game_year != 2019) & (year_stats.bf >=200) & (year_stats.bf_prev >=200)& (year_stats.played_prev <= 1)]\n",
    "data_19 = year_stats.loc[(year_stats.game_year == 2019) & (year_stats.bf >=200) & (year_stats.bf_prev >=200)& (year_stats.played_prev <= 1)]"
   ]
  },
  {
   "cell_type": "markdown",
   "metadata": {},
   "source": [
    "### Part a: bb-rate"
   ]
  },
  {
   "cell_type": "markdown",
   "metadata": {},
   "source": [
    "### Model 1"
   ]
  },
  {
   "cell_type": "code",
   "execution_count": 293,
   "metadata": {},
   "outputs": [
    {
     "data": {
      "text/html": [
       "<table class=\"simpletable\">\n",
       "<caption>OLS Regression Results</caption>\n",
       "<tr>\n",
       "  <th>Dep. Variable:</th>         <td>bb_rate</td>     <th>  R-squared:         </th> <td>   0.323</td> \n",
       "</tr>\n",
       "<tr>\n",
       "  <th>Model:</th>                   <td>OLS</td>       <th>  Adj. R-squared:    </th> <td>   0.321</td> \n",
       "</tr>\n",
       "<tr>\n",
       "  <th>Method:</th>             <td>Least Squares</td>  <th>  F-statistic:       </th> <td>   226.1</td> \n",
       "</tr>\n",
       "<tr>\n",
       "  <th>Date:</th>             <td>Wed, 14 Apr 2021</td> <th>  Prob (F-statistic):</th> <td>6.22e-120</td>\n",
       "</tr>\n",
       "<tr>\n",
       "  <th>Time:</th>                 <td>12:35:19</td>     <th>  Log-Likelihood:    </th> <td>  3649.1</td> \n",
       "</tr>\n",
       "<tr>\n",
       "  <th>No. Observations:</th>      <td>  1428</td>      <th>  AIC:               </th> <td>  -7290.</td> \n",
       "</tr>\n",
       "<tr>\n",
       "  <th>Df Residuals:</th>          <td>  1424</td>      <th>  BIC:               </th> <td>  -7269.</td> \n",
       "</tr>\n",
       "<tr>\n",
       "  <th>Df Model:</th>              <td>     3</td>      <th>                     </th>     <td> </td>    \n",
       "</tr>\n",
       "<tr>\n",
       "  <th>Covariance Type:</th>      <td>nonrobust</td>    <th>                     </th>     <td> </td>    \n",
       "</tr>\n",
       "</table>\n",
       "<table class=\"simpletable\">\n",
       "<tr>\n",
       "         <td></td>            <th>coef</th>     <th>std err</th>      <th>t</th>      <th>P>|t|</th>  <th>[0.025</th>    <th>0.975]</th>  \n",
       "</tr>\n",
       "<tr>\n",
       "  <th>Intercept</th>       <td>   -0.0188</td> <td>    0.007</td> <td>   -2.666</td> <td> 0.008</td> <td>   -0.033</td> <td>   -0.005</td>\n",
       "</tr>\n",
       "<tr>\n",
       "  <th>bb_rate_prev</th>    <td>    0.3634</td> <td>    0.034</td> <td>   10.779</td> <td> 0.000</td> <td>    0.297</td> <td>    0.430</td>\n",
       "</tr>\n",
       "<tr>\n",
       "  <th>xtr1B_rate_prev</th> <td>    0.0774</td> <td>    0.046</td> <td>    1.693</td> <td> 0.091</td> <td>   -0.012</td> <td>    0.167</td>\n",
       "</tr>\n",
       "<tr>\n",
       "  <th>balls_rate_prev</th> <td>    0.0542</td> <td>    0.008</td> <td>    7.010</td> <td> 0.000</td> <td>    0.039</td> <td>    0.069</td>\n",
       "</tr>\n",
       "</table>\n",
       "<table class=\"simpletable\">\n",
       "<tr>\n",
       "  <th>Omnibus:</th>       <td>74.044</td> <th>  Durbin-Watson:     </th> <td>   2.106</td>\n",
       "</tr>\n",
       "<tr>\n",
       "  <th>Prob(Omnibus):</th> <td> 0.000</td> <th>  Jarque-Bera (JB):  </th> <td>  97.307</td>\n",
       "</tr>\n",
       "<tr>\n",
       "  <th>Skew:</th>          <td> 0.489</td> <th>  Prob(JB):          </th> <td>7.41e-22</td>\n",
       "</tr>\n",
       "<tr>\n",
       "  <th>Kurtosis:</th>      <td> 3.825</td> <th>  Cond. No.          </th> <td>    160.</td>\n",
       "</tr>\n",
       "</table><br/><br/>Warnings:<br/>[1] Standard Errors assume that the covariance matrix of the errors is correctly specified."
      ],
      "text/plain": [
       "<class 'statsmodels.iolib.summary.Summary'>\n",
       "\"\"\"\n",
       "                            OLS Regression Results                            \n",
       "==============================================================================\n",
       "Dep. Variable:                bb_rate   R-squared:                       0.323\n",
       "Model:                            OLS   Adj. R-squared:                  0.321\n",
       "Method:                 Least Squares   F-statistic:                     226.1\n",
       "Date:                Wed, 14 Apr 2021   Prob (F-statistic):          6.22e-120\n",
       "Time:                        12:35:19   Log-Likelihood:                 3649.1\n",
       "No. Observations:                1428   AIC:                            -7290.\n",
       "Df Residuals:                    1424   BIC:                            -7269.\n",
       "Df Model:                           3                                         \n",
       "Covariance Type:            nonrobust                                         \n",
       "===================================================================================\n",
       "                      coef    std err          t      P>|t|      [0.025      0.975]\n",
       "-----------------------------------------------------------------------------------\n",
       "Intercept          -0.0188      0.007     -2.666      0.008      -0.033      -0.005\n",
       "bb_rate_prev        0.3634      0.034     10.779      0.000       0.297       0.430\n",
       "xtr1B_rate_prev     0.0774      0.046      1.693      0.091      -0.012       0.167\n",
       "balls_rate_prev     0.0542      0.008      7.010      0.000       0.039       0.069\n",
       "==============================================================================\n",
       "Omnibus:                       74.044   Durbin-Watson:                   2.106\n",
       "Prob(Omnibus):                  0.000   Jarque-Bera (JB):               97.307\n",
       "Skew:                           0.489   Prob(JB):                     7.41e-22\n",
       "Kurtosis:                       3.825   Cond. No.                         160.\n",
       "==============================================================================\n",
       "\n",
       "Warnings:\n",
       "[1] Standard Errors assume that the covariance matrix of the errors is correctly specified.\n",
       "\"\"\""
      ]
     },
     "execution_count": 293,
     "metadata": {},
     "output_type": "execute_result"
    }
   ],
   "source": [
    "#features in expected direction, xtr1B not as significant as expected\n",
    "mod_bb1 = smf.ols('bb_rate~bb_rate_prev+xtr1B_rate_prev+balls_rate_prev',data = data_18).fit()\n",
    "mod_bb1.summary()"
   ]
  },
  {
   "cell_type": "code",
   "execution_count": 294,
   "metadata": {},
   "outputs": [
    {
     "name": "stdout",
     "output_type": "stream",
     "text": [
      "Out-of-sample MSE: 0.00045094156679394826\n"
     ]
    }
   ],
   "source": [
    "bbrate_preds = mod_bb1.predict(data_19)\n",
    "bb_mse = mse(data_19.bb_rate, bbrate_preds)\n",
    "print(f'Out-of-sample MSE: {bb_mse}')"
   ]
  },
  {
   "cell_type": "markdown",
   "metadata": {},
   "source": [
    "### Model 2"
   ]
  },
  {
   "cell_type": "code",
   "execution_count": 295,
   "metadata": {},
   "outputs": [
    {
     "data": {
      "text/html": [
       "<table class=\"simpletable\">\n",
       "<caption>OLS Regression Results</caption>\n",
       "<tr>\n",
       "  <th>Dep. Variable:</th>         <td>bb_rate</td>     <th>  R-squared:         </th> <td>   0.323</td> \n",
       "</tr>\n",
       "<tr>\n",
       "  <th>Model:</th>                   <td>OLS</td>       <th>  Adj. R-squared:    </th> <td>   0.321</td> \n",
       "</tr>\n",
       "<tr>\n",
       "  <th>Method:</th>             <td>Least Squares</td>  <th>  F-statistic:       </th> <td>   169.9</td> \n",
       "</tr>\n",
       "<tr>\n",
       "  <th>Date:</th>             <td>Wed, 14 Apr 2021</td> <th>  Prob (F-statistic):</th> <td>5.70e-119</td>\n",
       "</tr>\n",
       "<tr>\n",
       "  <th>Time:</th>                 <td>12:35:22</td>     <th>  Log-Likelihood:    </th> <td>  3649.7</td> \n",
       "</tr>\n",
       "<tr>\n",
       "  <th>No. Observations:</th>      <td>  1428</td>      <th>  AIC:               </th> <td>  -7289.</td> \n",
       "</tr>\n",
       "<tr>\n",
       "  <th>Df Residuals:</th>          <td>  1423</td>      <th>  BIC:               </th> <td>  -7263.</td> \n",
       "</tr>\n",
       "<tr>\n",
       "  <th>Df Model:</th>              <td>     4</td>      <th>                     </th>     <td> </td>    \n",
       "</tr>\n",
       "<tr>\n",
       "  <th>Covariance Type:</th>      <td>nonrobust</td>    <th>                     </th>     <td> </td>    \n",
       "</tr>\n",
       "</table>\n",
       "<table class=\"simpletable\">\n",
       "<tr>\n",
       "         <td></td>            <th>coef</th>     <th>std err</th>      <th>t</th>      <th>P>|t|</th>  <th>[0.025</th>    <th>0.975]</th>  \n",
       "</tr>\n",
       "<tr>\n",
       "  <th>Intercept</th>       <td>   -0.0265</td> <td>    0.010</td> <td>   -2.635</td> <td> 0.008</td> <td>   -0.046</td> <td>   -0.007</td>\n",
       "</tr>\n",
       "<tr>\n",
       "  <th>bb_rate_prev</th>    <td>    0.3596</td> <td>    0.034</td> <td>   10.606</td> <td> 0.000</td> <td>    0.293</td> <td>    0.426</td>\n",
       "</tr>\n",
       "<tr>\n",
       "  <th>xtr1B_rate_prev</th> <td>    0.0651</td> <td>    0.047</td> <td>    1.383</td> <td> 0.167</td> <td>   -0.027</td> <td>    0.158</td>\n",
       "</tr>\n",
       "<tr>\n",
       "  <th>balls_rate_prev</th> <td>    0.0521</td> <td>    0.008</td> <td>    6.538</td> <td> 0.000</td> <td>    0.036</td> <td>    0.068</td>\n",
       "</tr>\n",
       "<tr>\n",
       "  <th>dist_mid_prev</th>   <td>    0.0110</td> <td>    0.010</td> <td>    1.077</td> <td> 0.282</td> <td>   -0.009</td> <td>    0.031</td>\n",
       "</tr>\n",
       "</table>\n",
       "<table class=\"simpletable\">\n",
       "<tr>\n",
       "  <th>Omnibus:</th>       <td>71.665</td> <th>  Durbin-Watson:     </th> <td>   2.104</td>\n",
       "</tr>\n",
       "<tr>\n",
       "  <th>Prob(Omnibus):</th> <td> 0.000</td> <th>  Jarque-Bera (JB):  </th> <td>  92.970</td>\n",
       "</tr>\n",
       "<tr>\n",
       "  <th>Skew:</th>          <td> 0.482</td> <th>  Prob(JB):          </th> <td>6.48e-21</td>\n",
       "</tr>\n",
       "<tr>\n",
       "  <th>Kurtosis:</th>      <td> 3.795</td> <th>  Cond. No.          </th> <td>    186.</td>\n",
       "</tr>\n",
       "</table><br/><br/>Warnings:<br/>[1] Standard Errors assume that the covariance matrix of the errors is correctly specified."
      ],
      "text/plain": [
       "<class 'statsmodels.iolib.summary.Summary'>\n",
       "\"\"\"\n",
       "                            OLS Regression Results                            \n",
       "==============================================================================\n",
       "Dep. Variable:                bb_rate   R-squared:                       0.323\n",
       "Model:                            OLS   Adj. R-squared:                  0.321\n",
       "Method:                 Least Squares   F-statistic:                     169.9\n",
       "Date:                Wed, 14 Apr 2021   Prob (F-statistic):          5.70e-119\n",
       "Time:                        12:35:22   Log-Likelihood:                 3649.7\n",
       "No. Observations:                1428   AIC:                            -7289.\n",
       "Df Residuals:                    1423   BIC:                            -7263.\n",
       "Df Model:                           4                                         \n",
       "Covariance Type:            nonrobust                                         \n",
       "===================================================================================\n",
       "                      coef    std err          t      P>|t|      [0.025      0.975]\n",
       "-----------------------------------------------------------------------------------\n",
       "Intercept          -0.0265      0.010     -2.635      0.008      -0.046      -0.007\n",
       "bb_rate_prev        0.3596      0.034     10.606      0.000       0.293       0.426\n",
       "xtr1B_rate_prev     0.0651      0.047      1.383      0.167      -0.027       0.158\n",
       "balls_rate_prev     0.0521      0.008      6.538      0.000       0.036       0.068\n",
       "dist_mid_prev       0.0110      0.010      1.077      0.282      -0.009       0.031\n",
       "==============================================================================\n",
       "Omnibus:                       71.665   Durbin-Watson:                   2.104\n",
       "Prob(Omnibus):                  0.000   Jarque-Bera (JB):               92.970\n",
       "Skew:                           0.482   Prob(JB):                     6.48e-21\n",
       "Kurtosis:                       3.795   Cond. No.                         186.\n",
       "==============================================================================\n",
       "\n",
       "Warnings:\n",
       "[1] Standard Errors assume that the covariance matrix of the errors is correctly specified.\n",
       "\"\"\""
      ]
     },
     "execution_count": 295,
     "metadata": {},
     "output_type": "execute_result"
    }
   ],
   "source": [
    "#dist_mid borderline significant\n",
    "mod_bb2 = smf.ols('bb_rate~bb_rate_prev+xtr1B_rate_prev+balls_rate_prev+dist_mid_prev',data = data_18).fit()\n",
    "mod_bb2.summary()"
   ]
  },
  {
   "cell_type": "code",
   "execution_count": 296,
   "metadata": {},
   "outputs": [
    {
     "name": "stdout",
     "output_type": "stream",
     "text": [
      "Out-of-sample MSE: 0.0004502286026483403\n"
     ]
    }
   ],
   "source": [
    "bbrate_preds = mod_bb2.predict(data_19)\n",
    "bb_mse = mse(data_19.bb_rate, bbrate_preds)\n",
    "print(f'Out-of-sample MSE: {bb_mse}')"
   ]
  },
  {
   "cell_type": "markdown",
   "metadata": {},
   "source": [
    "### Model 3"
   ]
  },
  {
   "cell_type": "code",
   "execution_count": 297,
   "metadata": {},
   "outputs": [
    {
     "data": {
      "text/html": [
       "<table class=\"simpletable\">\n",
       "<caption>OLS Regression Results</caption>\n",
       "<tr>\n",
       "  <th>Dep. Variable:</th>         <td>bb_rate</td>     <th>  R-squared:         </th> <td>   0.327</td> \n",
       "</tr>\n",
       "<tr>\n",
       "  <th>Model:</th>                   <td>OLS</td>       <th>  Adj. R-squared:    </th> <td>   0.325</td> \n",
       "</tr>\n",
       "<tr>\n",
       "  <th>Method:</th>             <td>Least Squares</td>  <th>  F-statistic:       </th> <td>   172.7</td> \n",
       "</tr>\n",
       "<tr>\n",
       "  <th>Date:</th>             <td>Wed, 14 Apr 2021</td> <th>  Prob (F-statistic):</th> <td>1.22e-120</td>\n",
       "</tr>\n",
       "<tr>\n",
       "  <th>Time:</th>                 <td>12:35:25</td>     <th>  Log-Likelihood:    </th> <td>  3653.5</td> \n",
       "</tr>\n",
       "<tr>\n",
       "  <th>No. Observations:</th>      <td>  1428</td>      <th>  AIC:               </th> <td>  -7297.</td> \n",
       "</tr>\n",
       "<tr>\n",
       "  <th>Df Residuals:</th>          <td>  1423</td>      <th>  BIC:               </th> <td>  -7271.</td> \n",
       "</tr>\n",
       "<tr>\n",
       "  <th>Df Model:</th>              <td>     4</td>      <th>                     </th>     <td> </td>    \n",
       "</tr>\n",
       "<tr>\n",
       "  <th>Covariance Type:</th>      <td>nonrobust</td>    <th>                     </th>     <td> </td>    \n",
       "</tr>\n",
       "</table>\n",
       "<table class=\"simpletable\">\n",
       "<tr>\n",
       "           <td></td>             <th>coef</th>     <th>std err</th>      <th>t</th>      <th>P>|t|</th>  <th>[0.025</th>    <th>0.975]</th>  \n",
       "</tr>\n",
       "<tr>\n",
       "  <th>Intercept</th>          <td>   -0.0063</td> <td>    0.008</td> <td>   -0.767</td> <td> 0.443</td> <td>   -0.022</td> <td>    0.010</td>\n",
       "</tr>\n",
       "<tr>\n",
       "  <th>bb_rate_prev</th>       <td>    0.2647</td> <td>    0.047</td> <td>    5.612</td> <td> 0.000</td> <td>    0.172</td> <td>    0.357</td>\n",
       "</tr>\n",
       "<tr>\n",
       "  <th>xtr1B_rate_prev</th>    <td>    0.1587</td> <td>    0.053</td> <td>    2.988</td> <td> 0.003</td> <td>    0.055</td> <td>    0.263</td>\n",
       "</tr>\n",
       "<tr>\n",
       "  <th>balls_rate_prev</th>    <td>    0.0338</td> <td>    0.010</td> <td>    3.285</td> <td> 0.001</td> <td>    0.014</td> <td>    0.054</td>\n",
       "</tr>\n",
       "<tr>\n",
       "  <th>b3_count_rate_prev</th> <td>    0.1368</td> <td>    0.046</td> <td>    2.982</td> <td> 0.003</td> <td>    0.047</td> <td>    0.227</td>\n",
       "</tr>\n",
       "</table>\n",
       "<table class=\"simpletable\">\n",
       "<tr>\n",
       "  <th>Omnibus:</th>       <td>67.832</td> <th>  Durbin-Watson:     </th> <td>   2.112</td>\n",
       "</tr>\n",
       "<tr>\n",
       "  <th>Prob(Omnibus):</th> <td> 0.000</td> <th>  Jarque-Bera (JB):  </th> <td>  87.382</td>\n",
       "</tr>\n",
       "<tr>\n",
       "  <th>Skew:</th>          <td> 0.466</td> <th>  Prob(JB):          </th> <td>1.06e-19</td>\n",
       "</tr>\n",
       "<tr>\n",
       "  <th>Kurtosis:</th>      <td> 3.774</td> <th>  Cond. No.          </th> <td>    240.</td>\n",
       "</tr>\n",
       "</table><br/><br/>Warnings:<br/>[1] Standard Errors assume that the covariance matrix of the errors is correctly specified."
      ],
      "text/plain": [
       "<class 'statsmodels.iolib.summary.Summary'>\n",
       "\"\"\"\n",
       "                            OLS Regression Results                            \n",
       "==============================================================================\n",
       "Dep. Variable:                bb_rate   R-squared:                       0.327\n",
       "Model:                            OLS   Adj. R-squared:                  0.325\n",
       "Method:                 Least Squares   F-statistic:                     172.7\n",
       "Date:                Wed, 14 Apr 2021   Prob (F-statistic):          1.22e-120\n",
       "Time:                        12:35:25   Log-Likelihood:                 3653.5\n",
       "No. Observations:                1428   AIC:                            -7297.\n",
       "Df Residuals:                    1423   BIC:                            -7271.\n",
       "Df Model:                           4                                         \n",
       "Covariance Type:            nonrobust                                         \n",
       "======================================================================================\n",
       "                         coef    std err          t      P>|t|      [0.025      0.975]\n",
       "--------------------------------------------------------------------------------------\n",
       "Intercept             -0.0063      0.008     -0.767      0.443      -0.022       0.010\n",
       "bb_rate_prev           0.2647      0.047      5.612      0.000       0.172       0.357\n",
       "xtr1B_rate_prev        0.1587      0.053      2.988      0.003       0.055       0.263\n",
       "balls_rate_prev        0.0338      0.010      3.285      0.001       0.014       0.054\n",
       "b3_count_rate_prev     0.1368      0.046      2.982      0.003       0.047       0.227\n",
       "==============================================================================\n",
       "Omnibus:                       67.832   Durbin-Watson:                   2.112\n",
       "Prob(Omnibus):                  0.000   Jarque-Bera (JB):               87.382\n",
       "Skew:                           0.466   Prob(JB):                     1.06e-19\n",
       "Kurtosis:                       3.774   Cond. No.                         240.\n",
       "==============================================================================\n",
       "\n",
       "Warnings:\n",
       "[1] Standard Errors assume that the covariance matrix of the errors is correctly specified.\n",
       "\"\"\""
      ]
     },
     "execution_count": 297,
     "metadata": {},
     "output_type": "execute_result"
    }
   ],
   "source": [
    "#ball counts of 3 seem to improve model performance\n",
    "mod_bb3 = smf.ols('bb_rate~bb_rate_prev+xtr1B_rate_prev+balls_rate_prev+b3_count_rate_prev',data = data_18).fit()\n",
    "mod_bb3.summary()"
   ]
  },
  {
   "cell_type": "code",
   "execution_count": 298,
   "metadata": {},
   "outputs": [
    {
     "name": "stdout",
     "output_type": "stream",
     "text": [
      "Out-of-sample MSE: 0.00044874993281658555\n"
     ]
    }
   ],
   "source": [
    "bbrate_preds = mod_bb3.predict(data_19)\n",
    "bb_mse = mse(data_19.bb_rate, bbrate_preds)\n",
    "print(f'Out-of-sample MSE: {bb_mse}')"
   ]
  },
  {
   "cell_type": "markdown",
   "metadata": {},
   "source": [
    "### Part b: k-rate"
   ]
  },
  {
   "cell_type": "markdown",
   "metadata": {},
   "source": [
    "### Model 1"
   ]
  },
  {
   "cell_type": "code",
   "execution_count": 299,
   "metadata": {},
   "outputs": [
    {
     "data": {
      "text/html": [
       "<table class=\"simpletable\">\n",
       "<caption>OLS Regression Results</caption>\n",
       "<tr>\n",
       "  <th>Dep. Variable:</th>         <td>k_rate</td>      <th>  R-squared:         </th> <td>   0.551</td> \n",
       "</tr>\n",
       "<tr>\n",
       "  <th>Model:</th>                   <td>OLS</td>       <th>  Adj. R-squared:    </th> <td>   0.550</td> \n",
       "</tr>\n",
       "<tr>\n",
       "  <th>Method:</th>             <td>Least Squares</td>  <th>  F-statistic:       </th> <td>   583.1</td> \n",
       "</tr>\n",
       "<tr>\n",
       "  <th>Date:</th>             <td>Wed, 14 Apr 2021</td> <th>  Prob (F-statistic):</th> <td>3.64e-247</td>\n",
       "</tr>\n",
       "<tr>\n",
       "  <th>Time:</th>                 <td>12:35:29</td>     <th>  Log-Likelihood:    </th> <td>  2457.3</td> \n",
       "</tr>\n",
       "<tr>\n",
       "  <th>No. Observations:</th>      <td>  1428</td>      <th>  AIC:               </th> <td>  -4907.</td> \n",
       "</tr>\n",
       "<tr>\n",
       "  <th>Df Residuals:</th>          <td>  1424</td>      <th>  BIC:               </th> <td>  -4885.</td> \n",
       "</tr>\n",
       "<tr>\n",
       "  <th>Df Model:</th>              <td>     3</td>      <th>                     </th>     <td> </td>    \n",
       "</tr>\n",
       "<tr>\n",
       "  <th>Covariance Type:</th>      <td>nonrobust</td>    <th>                     </th>     <td> </td>    \n",
       "</tr>\n",
       "</table>\n",
       "<table class=\"simpletable\">\n",
       "<tr>\n",
       "          <td></td>             <th>coef</th>     <th>std err</th>      <th>t</th>      <th>P>|t|</th>  <th>[0.025</th>    <th>0.975]</th>  \n",
       "</tr>\n",
       "<tr>\n",
       "  <th>Intercept</th>         <td>    0.0298</td> <td>    0.025</td> <td>    1.184</td> <td> 0.237</td> <td>   -0.020</td> <td>    0.079</td>\n",
       "</tr>\n",
       "<tr>\n",
       "  <th>k_rate_prev</th>       <td>    0.7093</td> <td>    0.032</td> <td>   22.507</td> <td> 0.000</td> <td>    0.647</td> <td>    0.771</td>\n",
       "</tr>\n",
       "<tr>\n",
       "  <th>xtr1S_rate_prev</th>   <td>   -0.0213</td> <td>    0.043</td> <td>   -0.501</td> <td> 0.616</td> <td>   -0.105</td> <td>    0.062</td>\n",
       "</tr>\n",
       "<tr>\n",
       "  <th>strikes_rate_prev</th> <td>    0.0238</td> <td>    0.031</td> <td>    0.777</td> <td> 0.437</td> <td>   -0.036</td> <td>    0.084</td>\n",
       "</tr>\n",
       "</table>\n",
       "<table class=\"simpletable\">\n",
       "<tr>\n",
       "  <th>Omnibus:</th>       <td>103.636</td> <th>  Durbin-Watson:     </th> <td>   2.203</td>\n",
       "</tr>\n",
       "<tr>\n",
       "  <th>Prob(Omnibus):</th> <td> 0.000</td>  <th>  Jarque-Bera (JB):  </th> <td> 140.874</td>\n",
       "</tr>\n",
       "<tr>\n",
       "  <th>Skew:</th>          <td> 0.612</td>  <th>  Prob(JB):          </th> <td>2.57e-31</td>\n",
       "</tr>\n",
       "<tr>\n",
       "  <th>Kurtosis:</th>      <td> 3.934</td>  <th>  Cond. No.          </th> <td>    82.8</td>\n",
       "</tr>\n",
       "</table><br/><br/>Warnings:<br/>[1] Standard Errors assume that the covariance matrix of the errors is correctly specified."
      ],
      "text/plain": [
       "<class 'statsmodels.iolib.summary.Summary'>\n",
       "\"\"\"\n",
       "                            OLS Regression Results                            \n",
       "==============================================================================\n",
       "Dep. Variable:                 k_rate   R-squared:                       0.551\n",
       "Model:                            OLS   Adj. R-squared:                  0.550\n",
       "Method:                 Least Squares   F-statistic:                     583.1\n",
       "Date:                Wed, 14 Apr 2021   Prob (F-statistic):          3.64e-247\n",
       "Time:                        12:35:29   Log-Likelihood:                 2457.3\n",
       "No. Observations:                1428   AIC:                            -4907.\n",
       "Df Residuals:                    1424   BIC:                            -4885.\n",
       "Df Model:                           3                                         \n",
       "Covariance Type:            nonrobust                                         \n",
       "=====================================================================================\n",
       "                        coef    std err          t      P>|t|      [0.025      0.975]\n",
       "-------------------------------------------------------------------------------------\n",
       "Intercept             0.0298      0.025      1.184      0.237      -0.020       0.079\n",
       "k_rate_prev           0.7093      0.032     22.507      0.000       0.647       0.771\n",
       "xtr1S_rate_prev      -0.0213      0.043     -0.501      0.616      -0.105       0.062\n",
       "strikes_rate_prev     0.0238      0.031      0.777      0.437      -0.036       0.084\n",
       "==============================================================================\n",
       "Omnibus:                      103.636   Durbin-Watson:                   2.203\n",
       "Prob(Omnibus):                  0.000   Jarque-Bera (JB):              140.874\n",
       "Skew:                           0.612   Prob(JB):                     2.57e-31\n",
       "Kurtosis:                       3.934   Cond. No.                         82.8\n",
       "==============================================================================\n",
       "\n",
       "Warnings:\n",
       "[1] Standard Errors assume that the covariance matrix of the errors is correctly specified.\n",
       "\"\"\""
      ]
     },
     "execution_count": 299,
     "metadata": {},
     "output_type": "execute_result"
    }
   ],
   "source": [
    "#xS rate in correct sign direction but is not statistically significant, same with strikes rate\n",
    "mod_k1 = smf.ols('k_rate~k_rate_prev+xtr1S_rate_prev+strikes_rate_prev',data = data_18).fit()\n",
    "mod_k1.summary()"
   ]
  },
  {
   "cell_type": "code",
   "execution_count": 301,
   "metadata": {},
   "outputs": [
    {
     "name": "stdout",
     "output_type": "stream",
     "text": [
      "Out-of-sample MSE: 0.0019732748658064622\n"
     ]
    }
   ],
   "source": [
    "krate_preds = mod_k1.predict(data_19)\n",
    "k_mse = mse(data_19.k_rate, krate_preds)\n",
    "print(f'Out-of-sample MSE: {k_mse}')"
   ]
  },
  {
   "cell_type": "markdown",
   "metadata": {},
   "source": [
    "### Model 2"
   ]
  },
  {
   "cell_type": "code",
   "execution_count": 302,
   "metadata": {},
   "outputs": [
    {
     "data": {
      "text/html": [
       "<table class=\"simpletable\">\n",
       "<caption>OLS Regression Results</caption>\n",
       "<tr>\n",
       "  <th>Dep. Variable:</th>         <td>k_rate</td>      <th>  R-squared:         </th> <td>   0.552</td> \n",
       "</tr>\n",
       "<tr>\n",
       "  <th>Model:</th>                   <td>OLS</td>       <th>  Adj. R-squared:    </th> <td>   0.551</td> \n",
       "</tr>\n",
       "<tr>\n",
       "  <th>Method:</th>             <td>Least Squares</td>  <th>  F-statistic:       </th> <td>   878.0</td> \n",
       "</tr>\n",
       "<tr>\n",
       "  <th>Date:</th>             <td>Wed, 14 Apr 2021</td> <th>  Prob (F-statistic):</th> <td>3.32e-249</td>\n",
       "</tr>\n",
       "<tr>\n",
       "  <th>Time:</th>                 <td>12:35:37</td>     <th>  Log-Likelihood:    </th> <td>  2458.5</td> \n",
       "</tr>\n",
       "<tr>\n",
       "  <th>No. Observations:</th>      <td>  1428</td>      <th>  AIC:               </th> <td>  -4911.</td> \n",
       "</tr>\n",
       "<tr>\n",
       "  <th>Df Residuals:</th>          <td>  1425</td>      <th>  BIC:               </th> <td>  -4895.</td> \n",
       "</tr>\n",
       "<tr>\n",
       "  <th>Df Model:</th>              <td>     2</td>      <th>                     </th>     <td> </td>    \n",
       "</tr>\n",
       "<tr>\n",
       "  <th>Covariance Type:</th>      <td>nonrobust</td>    <th>                     </th>     <td> </td>    \n",
       "</tr>\n",
       "</table>\n",
       "<table class=\"simpletable\">\n",
       "<tr>\n",
       "           <td></td>             <th>coef</th>     <th>std err</th>      <th>t</th>      <th>P>|t|</th>  <th>[0.025</th>    <th>0.975]</th>  \n",
       "</tr>\n",
       "<tr>\n",
       "  <th>Intercept</th>          <td>    0.0319</td> <td>    0.013</td> <td>    2.452</td> <td> 0.014</td> <td>    0.006</td> <td>    0.057</td>\n",
       "</tr>\n",
       "<tr>\n",
       "  <th>k_rate_prev</th>        <td>    0.6788</td> <td>    0.034</td> <td>   20.201</td> <td> 0.000</td> <td>    0.613</td> <td>    0.745</td>\n",
       "</tr>\n",
       "<tr>\n",
       "  <th>s2_count_rate_prev</th> <td>    0.0845</td> <td>    0.037</td> <td>    2.314</td> <td> 0.021</td> <td>    0.013</td> <td>    0.156</td>\n",
       "</tr>\n",
       "</table>\n",
       "<table class=\"simpletable\">\n",
       "<tr>\n",
       "  <th>Omnibus:</th>       <td>103.506</td> <th>  Durbin-Watson:     </th> <td>   2.199</td>\n",
       "</tr>\n",
       "<tr>\n",
       "  <th>Prob(Omnibus):</th> <td> 0.000</td>  <th>  Jarque-Bera (JB):  </th> <td> 140.881</td>\n",
       "</tr>\n",
       "<tr>\n",
       "  <th>Skew:</th>          <td> 0.610</td>  <th>  Prob(JB):          </th> <td>2.56e-31</td>\n",
       "</tr>\n",
       "<tr>\n",
       "  <th>Kurtosis:</th>      <td> 3.937</td>  <th>  Cond. No.          </th> <td>    49.2</td>\n",
       "</tr>\n",
       "</table><br/><br/>Warnings:<br/>[1] Standard Errors assume that the covariance matrix of the errors is correctly specified."
      ],
      "text/plain": [
       "<class 'statsmodels.iolib.summary.Summary'>\n",
       "\"\"\"\n",
       "                            OLS Regression Results                            \n",
       "==============================================================================\n",
       "Dep. Variable:                 k_rate   R-squared:                       0.552\n",
       "Model:                            OLS   Adj. R-squared:                  0.551\n",
       "Method:                 Least Squares   F-statistic:                     878.0\n",
       "Date:                Wed, 14 Apr 2021   Prob (F-statistic):          3.32e-249\n",
       "Time:                        12:35:37   Log-Likelihood:                 2458.5\n",
       "No. Observations:                1428   AIC:                            -4911.\n",
       "Df Residuals:                    1425   BIC:                            -4895.\n",
       "Df Model:                           2                                         \n",
       "Covariance Type:            nonrobust                                         \n",
       "======================================================================================\n",
       "                         coef    std err          t      P>|t|      [0.025      0.975]\n",
       "--------------------------------------------------------------------------------------\n",
       "Intercept              0.0319      0.013      2.452      0.014       0.006       0.057\n",
       "k_rate_prev            0.6788      0.034     20.201      0.000       0.613       0.745\n",
       "s2_count_rate_prev     0.0845      0.037      2.314      0.021       0.013       0.156\n",
       "==============================================================================\n",
       "Omnibus:                      103.506   Durbin-Watson:                   2.199\n",
       "Prob(Omnibus):                  0.000   Jarque-Bera (JB):              140.881\n",
       "Skew:                           0.610   Prob(JB):                     2.56e-31\n",
       "Kurtosis:                       3.937   Cond. No.                         49.2\n",
       "==============================================================================\n",
       "\n",
       "Warnings:\n",
       "[1] Standard Errors assume that the covariance matrix of the errors is correctly specified.\n",
       "\"\"\""
      ]
     },
     "execution_count": 302,
     "metadata": {},
     "output_type": "execute_result"
    }
   ],
   "source": [
    "#2 strike counts help model slightly\n",
    "mod_k2 = smf.ols('k_rate~k_rate_prev+s2_count_rate_prev',data = data_18).fit()\n",
    "mod_k2.summary()"
   ]
  },
  {
   "cell_type": "code",
   "execution_count": 303,
   "metadata": {},
   "outputs": [
    {
     "name": "stdout",
     "output_type": "stream",
     "text": [
      "Out-of-sample MSE: 0.001967649552504296\n"
     ]
    }
   ],
   "source": [
    "krate_preds = mod_k2.predict(data_19)\n",
    "k_mse = mse(data_19.k_rate, krate_preds)\n",
    "print(f'Out-of-sample MSE: {k_mse}')"
   ]
  },
  {
   "cell_type": "code",
   "execution_count": null,
   "metadata": {},
   "outputs": [],
   "source": []
  }
 ],
 "metadata": {
  "kernelspec": {
   "display_name": "Python 3",
   "language": "python",
   "name": "python3"
  },
  "language_info": {
   "codemirror_mode": {
    "name": "ipython",
    "version": 3
   },
   "file_extension": ".py",
   "mimetype": "text/x-python",
   "name": "python",
   "nbconvert_exporter": "python",
   "pygments_lexer": "ipython3",
   "version": "3.7.3"
  }
 },
 "nbformat": 4,
 "nbformat_minor": 4
}
